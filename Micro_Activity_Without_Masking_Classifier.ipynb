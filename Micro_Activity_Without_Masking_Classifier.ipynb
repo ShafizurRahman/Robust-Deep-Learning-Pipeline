{
 "cells": [
  {
   "cell_type": "markdown",
   "metadata": {
    "colab_type": "text",
    "id": "1jPihmLbUvoa"
   },
   "source": [
    "# Function Definitions (unchanged)"
   ]
  },
  {
   "cell_type": "code",
   "execution_count": 13,
   "metadata": {
    "colab": {},
    "colab_type": "code",
    "id": "NWzF5-ugUvoc"
   },
   "outputs": [],
   "source": [
    "import glob\n",
    "import os\n",
    "import numpy as np\n",
    "import csv\n",
    "import cv2\n",
    "import io\n",
    "from sklearn.preprocessing import StandardScaler\n",
    "import shutil\n",
    "\n",
    "os.environ[\"CUDA_DEVICE_ORDER\"] = \"PCI_BUS_ID\"\n",
    "os.environ[\"CUDA_VISIBLE_DEVICES\"]=\"0\""
   ]
  },
  {
   "cell_type": "code",
   "execution_count": 14,
   "metadata": {},
   "outputs": [],
   "source": [
    "# Options to set for GPU machine"
   ]
  },
  {
   "cell_type": "code",
   "execution_count": 15,
   "metadata": {},
   "outputs": [],
   "source": [
    "# from keras.backend.tensorflow_backend import set_session\n",
    "# import tensorflow as tf\n",
    "# config = tf.ConfigProto()\n",
    "# config.gpu_options.allow_growth = True  # dynamically grow the memory used on the GPU\n",
    "# config.log_device_placement = True  # to log device placement (on which device the operation ran)\n",
    "# sess = tf.Session(config=config)\n",
    "# set_session(sess)  # set this TensorFlow session as the default"
   ]
  },
  {
   "cell_type": "code",
   "execution_count": 2,
   "metadata": {
    "colab": {},
    "colab_type": "code",
    "id": "q87cb-fJUvoo"
   },
   "outputs": [],
   "source": [
    "sub_dirs = ['left_hip','right_arm','right_wrist'] #three sensors, 9 channels total"
   ]
  },
  {
   "cell_type": "code",
   "execution_count": 3,
   "metadata": {
    "colab": {},
    "colab_type": "code",
    "id": "ho3e4qQQUvor"
   },
   "outputs": [],
   "source": [
    "def parse_IMU_files(parent_dir, sub_dirs, startTime, endTime, file_name, window_length):\n",
    "    \n",
    "    data = []\n",
    "    \n",
    "    data_count = 0\n",
    "    \n",
    "    for sub_dir in sub_dirs:\n",
    "        channel=[]\n",
    "        \n",
    "        for fn in glob.glob(os.path.join(parent_dir,sub_dir, file_name)):\n",
    "            file = open(fn, newline='')\n",
    "            reader = csv.reader(file)\n",
    "            first = True\n",
    "            count = 0\n",
    "            for row in reader:\n",
    "                \n",
    "                if first:\n",
    "                    first = False\n",
    "                    continue\n",
    "                \n",
    "                timestamp=float(row[3]) #4th column is timestamp\n",
    "                if timestamp >=startTime and timestamp <=endTime and count<window_length:\n",
    "                    \n",
    "                    channel.append([float(row[0]),float(row[1]),float(row[2])])\n",
    "                    count = count + 1 \n",
    "                    data_count = data_count+1\n",
    "                    \n",
    "        data.append(channel)         \n",
    "    return data, data_count\n",
    "\n",
    "import random\n",
    "\n",
    "def parse_IMU_files_2(parent_dir, sub_dirs, startTime, endTime, file_name, window_length):\n",
    "    \n",
    "    data = []\n",
    "    \n",
    "    data_count = 0\n",
    "    for sub_dir in sub_dirs:\n",
    "        channel=[]\n",
    "        \n",
    "        \n",
    "        for fn in glob.glob(os.path.join(parent_dir,sub_dir, file_name)):\n",
    "            file = open(fn, newline='')\n",
    "            reader = csv.reader(file)\n",
    "            first = True\n",
    "            count = 0\n",
    "            for row in reader:\n",
    "                \n",
    "                if first:\n",
    "                    first = False\n",
    "                    continue\n",
    "                \n",
    "                timestamp=float(row[3]) #4th column is timestamp\n",
    "                \n",
    "                window_jitter1 = random.randint(-150,150)\n",
    "                \n",
    "                window_jitter2 = random.randint(-150,150)\n",
    "        \n",
    "                if timestamp >=(startTime+window_jitter1) and timestamp <=(endTime+window_jitter2) and count<window_length:\n",
    "                    \n",
    "                    channel.append([float(row[0]),float(row[1]),float(row[2])])\n",
    "                    count = count + 1  \n",
    "                    \n",
    "                    data_count = data_count+1\n",
    "                    \n",
    "        data.append(channel)         \n",
    "    return data, data_count\n",
    "\n",
    "def parse_IMU_files_3(parent_dir, sub_dirs, startTime, endTime, file_name, window_length):\n",
    "    \n",
    "    data = []\n",
    "    \n",
    "    data_count = 0\n",
    "    for sub_dir in sub_dirs:\n",
    "        channel=[]\n",
    "                \n",
    "        window_jitter1 = random.randint(-1500,1500)\n",
    "        window_jitter2 = random.randint(-1500,1500)\n",
    "            \n",
    "        for fn in glob.glob(os.path.join(parent_dir,sub_dir, file_name)):\n",
    "            file = open(fn, newline='')\n",
    "            reader = csv.reader(file)\n",
    "            first = True\n",
    "            count = 0\n",
    "            \n",
    "            for row in reader:\n",
    "                \n",
    "                if first:\n",
    "                    first = False\n",
    "                    continue\n",
    "                \n",
    "                timestamp=float(row[3]) #4th column is timestamp\n",
    "    \n",
    "                if timestamp >=(startTime+window_jitter1) and timestamp <=(endTime+window_jitter2) and count<window_length:\n",
    "                    \n",
    "                    channel.append([float(row[0]),float(row[1]),float(row[2])])\n",
    "                    count = count + 1  \n",
    "                    \n",
    "                    data_count = data_count+1\n",
    "                    \n",
    "        data.append(channel)         \n",
    "    return data, data_count"
   ]
  },
  {
   "cell_type": "code",
   "execution_count": 4,
   "metadata": {},
   "outputs": [],
   "source": [
    "data_min_count = 100 # per sample, valid points"
   ]
  },
  {
   "cell_type": "code",
   "execution_count": 5,
   "metadata": {
    "colab": {},
    "colab_type": "code",
    "id": "DLINn0siUvou"
   },
   "outputs": [],
   "source": [
    "def get_train_data(data_dir, sub_dirs, pos_lab, neg_lab, labeltable):\n",
    "    files = os.listdir(data_dir+'/left_hip')\n",
    "    number_of_samples = 500\n",
    "    \n",
    "    labels_macro =dict()\n",
    "    \n",
    "    labels_macro[pos_lab] = 0\n",
    "    labels_macro[neg_lab] = 1\n",
    "    \n",
    "    \n",
    "    #read the labels\n",
    "    labels_loc = labeltable\n",
    "    file_label = open(labels_loc, newline='')\n",
    "    label_reader = csv.reader(file_label)\n",
    "    file_label_mapping = dict()\n",
    "    \n",
    "    first = True\n",
    "    for row in label_reader:\n",
    "        \n",
    "        if first:\n",
    "            first = False\n",
    "            continue\n",
    "        \n",
    "        file_label_mapping[row[0]+'.csv'] = labels_macro[row[2]]\n",
    "        \n",
    "    all_data = []\n",
    "    all_labels = []\n",
    "    all_filename = []\n",
    "    for f in files:\n",
    "        \n",
    "        st_index = 0\n",
    "        end_index = 30000\n",
    "        step = 1000 #overlapping window, step: 1000. \n",
    "        window_index = 10000 #6 second window\n",
    "        \n",
    "        #print('reading file:',f)\n",
    "        f_name = f\n",
    "        \n",
    "        if f_name == '.DS_Store':\n",
    "            continue\n",
    "        \n",
    "        curr_label_file = file_label_mapping[f_name]\n",
    "        \n",
    "        while st_index+step < end_index:\n",
    "        \n",
    "            data, data_count = parse_IMU_files(data_dir, sub_dirs, st_index, st_index+window_index,  f, number_of_samples)\n",
    "            st_index = st_index+step\n",
    "            \n",
    "            if data_count<data_min_count:\n",
    "                continue\n",
    "            \n",
    "            train_data_sample  = np.zeros((9, number_of_samples))\n",
    "            train_data_label   = curr_label_file\n",
    "            for i in range(len(data)):\n",
    "                for j in range(len(data[i])):\n",
    "                    train_data_sample[i*3,j]=data[i][j][0]\n",
    "                    train_data_sample[i*3+1,j]=data[i][j][1]\n",
    "                    train_data_sample[i*3+2,j]=data[i][j][2]\n",
    "            all_filename.append(f_name)\n",
    "            all_data.append(train_data_sample)\n",
    "            all_labels.append(train_data_label)\n",
    "            \n",
    "            \n",
    "            \n",
    "    return all_data, all_labels, all_filename\n",
    "\n",
    "\n",
    "def get_train_data_2(data_dir, sub_dirs,pos_lab, neg_lab, labeltable):\n",
    "    files = os.listdir(data_dir+'/left_hip')\n",
    "    number_of_samples = 500\n",
    "    \n",
    "    labels_macro =dict()\n",
    "    \n",
    "    labels_macro[pos_lab] = 0\n",
    "    labels_macro[neg_lab] = 1\n",
    "    \n",
    "    \n",
    "    #read the labels\n",
    "    labels_loc = labeltable\n",
    "    file_label = open(labels_loc, newline='')\n",
    "    label_reader = csv.reader(file_label)\n",
    "    file_label_mapping = dict()\n",
    "    \n",
    "    first = True\n",
    "    for row in label_reader:\n",
    "        \n",
    "        if first:\n",
    "            first = False\n",
    "            continue\n",
    "        \n",
    "        file_label_mapping[row[0]+'.csv'] = labels_macro[row[2]]\n",
    "        \n",
    "    all_data = []\n",
    "    all_labels = []\n",
    "    \n",
    "    all_counts = []\n",
    "    \n",
    "    for f in files:\n",
    "        \n",
    "        st_index = 0\n",
    "        end_index = 30000\n",
    "        step = 1000 #overlapping window, step \n",
    "        window_index = 10000 #6 second window\n",
    "        \n",
    "        #print('reading file:',f)\n",
    "        f_name = f\n",
    "        \n",
    "        if f_name == '.DS_Store':\n",
    "            continue\n",
    "        \n",
    "        curr_label_file = file_label_mapping[f_name]\n",
    "        \n",
    "        while st_index+step < end_index:\n",
    "        \n",
    "            data, data_count = parse_IMU_files_2(data_dir, sub_dirs, st_index, st_index+window_index,  f, number_of_samples)\n",
    "            \n",
    "            st_index = st_index+step\n",
    "            \n",
    "            if data_count<data_min_count:\n",
    "                continue\n",
    "            \n",
    "            train_data_sample  = np.zeros((9, number_of_samples))\n",
    "            train_data_label   = curr_label_file\n",
    "            for i in range(len(data)):\n",
    "                for j in range(len(data[i])):\n",
    "                    train_data_sample[i*3,j]=data[i][j][0]\n",
    "                    train_data_sample[i*3+1,j]=data[i][j][1]\n",
    "                    train_data_sample[i*3+2,j]=data[i][j][2]\n",
    "            \n",
    "            all_data.append(train_data_sample)\n",
    "            all_labels.append(train_data_label)\n",
    "            \n",
    "            all_counts.append(data_count)\n",
    "            \n",
    "            \n",
    "            \n",
    "    return all_data, all_labels, all_counts\n",
    "\n",
    "\n",
    "def get_train_data_3(data_dir, sub_dirs,pos_lab, neg_lab, labeltable):\n",
    "    files = os.listdir(data_dir+'/left_hip')\n",
    "    number_of_samples = 500\n",
    "    \n",
    "    labels_macro =dict()\n",
    "    \n",
    "    labels_macro[pos_lab] = 0\n",
    "    labels_macro[neg_lab] = 1\n",
    "    \n",
    "    \n",
    "    #read the labels\n",
    "    labels_loc = labeltable\n",
    "    file_label = open(labels_loc, newline='')\n",
    "    label_reader = csv.reader(file_label)\n",
    "    file_label_mapping = dict()\n",
    "    \n",
    "    first = True\n",
    "    for row in label_reader:\n",
    "        \n",
    "        if first:\n",
    "            first = False\n",
    "            continue\n",
    "        \n",
    "        file_label_mapping[row[0]+'.csv'] = labels_macro[row[2]]\n",
    "        \n",
    "    all_data = []\n",
    "    all_labels = []\n",
    "    \n",
    "    all_counts = []\n",
    "    for f in files:\n",
    "        \n",
    "        st_index = 0\n",
    "        end_index = 30000\n",
    "        step = 1000 #overlapping window, step: 1000. \n",
    "        window_index = 10000 #6 second window\n",
    "        \n",
    "        #print('reading file:',f)\n",
    "        f_name = f\n",
    "        \n",
    "        if f_name == '.DS_Store':\n",
    "            continue\n",
    "        \n",
    "        curr_label_file = file_label_mapping[f_name]\n",
    "        \n",
    "        while st_index+step < end_index:\n",
    "                \n",
    "            \n",
    "            data, data_count = parse_IMU_files_3(data_dir, sub_dirs, st_index, st_index+window_index,  f, number_of_samples)\n",
    "            \n",
    "            st_index = st_index+step\n",
    "            \n",
    "            if data_count<data_min_count:\n",
    "                continue\n",
    "            \n",
    "            train_data_sample  = np.zeros((9, number_of_samples))\n",
    "            train_data_label   = curr_label_file\n",
    "            for i in range(len(data)):\n",
    "                for j in range(len(data[i])):\n",
    "                    train_data_sample[i*3,j]=data[i][j][0]\n",
    "                    train_data_sample[i*3+1,j]=data[i][j][1]\n",
    "                    train_data_sample[i*3+2,j]=data[i][j][2]\n",
    "            \n",
    "\n",
    "            all_data.append(train_data_sample)\n",
    "            all_labels.append(train_data_label)\n",
    "            \n",
    "            all_counts.append(data_count)\n",
    "            \n",
    "            \n",
    "            \n",
    "    return all_data, all_labels, all_counts"
   ]
  },
  {
   "cell_type": "code",
   "execution_count": 27,
   "metadata": {},
   "outputs": [],
   "source": [
    "def get_prediction_accuracy(data_dir, sub_dirs,pos_lab,neg_lab,labeltable,model):\n",
    "\n",
    "    files = os.listdir(data_dir+'/left_hip')\n",
    "    number_of_samples = 500\n",
    "\n",
    "    labels_macro =dict()\n",
    "\n",
    "    labels_macro[pos_lab] = 0\n",
    "    labels_macro[neg_lab] = 1\n",
    "\n",
    "\n",
    "    #read the labels\n",
    "    labels_loc = labeltable\n",
    "    file_label = open(labels_loc, newline='')\n",
    "    label_reader = csv.reader(file_label)\n",
    "    file_label_mapping = dict()\n",
    "\n",
    "    first = True\n",
    "    for row in label_reader:\n",
    "\n",
    "        if first:\n",
    "            first = False\n",
    "            continue\n",
    "\n",
    "        file_label_mapping[row[0]+'.csv'] = labels_macro[row[2]]\n",
    "\n",
    "\n",
    "    total_count = 0\n",
    "    correct_count = 0\n",
    "\n",
    "    for f in files:\n",
    "\n",
    "        file_data = []\n",
    "        file_label = []\n",
    "\n",
    "        st_index = 0\n",
    "        end_index = 30000\n",
    "        step = 1000 #overlapping window, step: 1000. \n",
    "        window_index = 10000 #6 second window\n",
    "\n",
    "        #print('reading file:',f)\n",
    "        f_name = f\n",
    "\n",
    "        if f_name == '.DS_Store':\n",
    "            continue\n",
    "\n",
    "        total_count = total_count+1\n",
    "\n",
    "        curr_label_file = file_label_mapping[f_name]\n",
    "\n",
    "        while st_index+step < end_index:\n",
    "\n",
    "            data, data_count = parse_IMU_files(data_dir, sub_dirs, st_index, st_index+window_index,  f, number_of_samples)\n",
    "            st_index = st_index+step\n",
    "\n",
    "            if data_count<data_min_count:\n",
    "                continue\n",
    "\n",
    "            train_data_sample  = np.zeros((9, number_of_samples))\n",
    "            train_data_label   = curr_label_file\n",
    "            for i in range(len(data)):\n",
    "                for j in range(len(data[i])):\n",
    "                    train_data_sample[i*3,j]=data[i][j][0]\n",
    "                    train_data_sample[i*3+1,j]=data[i][j][1]\n",
    "                    train_data_sample[i*3+2,j]=data[i][j][2]\n",
    "\n",
    "            file_data.append(train_data_sample)\n",
    "            #file_label.append(train_data_label)\n",
    "\n",
    "        file_data = np.array(file_data)\n",
    "        file_label = curr_label_file\n",
    "\n",
    "        file_data = file_data.reshape((-1, 9,500, 1))\n",
    "\n",
    "        y_pred = np.argmax(model.predict(file_data), axis=1) \n",
    "        counts = np.bincount(y_pred)\n",
    "        prediction = np.argmax(counts) #max occuring value in windows\n",
    "        \n",
    "        #correct prediction\n",
    "        if int(prediction)==int(file_label):\n",
    "            correct_count = correct_count+1\n",
    "        \n",
    "    \n",
    "    return total_count, correct_count"
   ]
  },
  {
   "cell_type": "code",
   "execution_count": 7,
   "metadata": {},
   "outputs": [],
   "source": [
    "import keras\n",
    "from keras.models import Sequential\n",
    "from keras.layers import Conv2D, MaxPooling2D, LSTM, Dense, Dropout, Flatten, Bidirectional\n",
    "from keras.layers.normalization import BatchNormalization\n",
    "from keras.layers.core import Permute, Reshape\n",
    "from keras import backend as K\n",
    "from keras.callbacks import ModelCheckpoint"
   ]
  },
  {
   "cell_type": "code",
   "execution_count": 8,
   "metadata": {},
   "outputs": [],
   "source": [
    "def _data_reshaping(X_tr, X_va, X_ts, network_type):\n",
    "    _, win_len, dim = X_tr.shape\n",
    "    print(network_type)\n",
    "    if network_type=='CNN' or network_type=='ConvLSTM':\n",
    "\n",
    "        X_tr = np.swapaxes(X_tr,1,2)\n",
    "        X_va = np.swapaxes(X_va,1,2)\n",
    "        X_ts = np.swapaxes(X_ts,1,2)\n",
    "\n",
    "        X_tr = np.reshape(X_tr, (-1, dim, win_len, 1))\n",
    "        X_va = np.reshape(X_va, (-1, dim, win_len, 1))\n",
    "        X_ts = np.reshape(X_ts, (-1, dim, win_len, 1))\n",
    "    \n",
    "    return X_tr, X_va, X_ts"
   ]
  },
  {
   "cell_type": "code",
   "execution_count": 9,
   "metadata": {},
   "outputs": [],
   "source": [
    "from keras import regularizers\n",
    "\n",
    "def model_variant(model, num_feat_map, dim, network_type,p):\n",
    "    print(network_type)\n",
    "    if network_type == 'ConvLSTM':\n",
    "        model.add(Permute((2, 1, 3))) \n",
    "        model.add(Reshape((-1,num_feat_map*dim)))\n",
    "        model.add(Bidirectional(LSTM(128, return_sequences=False, stateful=False)))\n",
    "    if network_type == 'CNN':\n",
    "        \n",
    "        model.add(Flatten())\n",
    "        model.add(Dense(64, activation='relu'))\n",
    "        model.add(BatchNormalization()) \n",
    "        model.add(Dropout(p))\n",
    "\n",
    "        \n",
    "def model_conv(model, num_feat_map,p,b):\n",
    "    model.add(Conv2D(num_feat_map, kernel_size=(1, 10),    \n",
    "                 activation='relu',\n",
    "                 input_shape=(dim, win_len, 1),\n",
    "                 padding='same'))\n",
    "    \n",
    "    model.add(Conv2D(num_feat_map, kernel_size=(1, 10), activation='relu',padding='same'))\n",
    "    \n",
    "    if (b==1):\n",
    "        model.add(BatchNormalization()) \n",
    "    model.add(Conv2D(num_feat_map, kernel_size=(1, 10), activation='relu',padding='same'))\n",
    "    \n",
    "    if (b==1):\n",
    "        model.add(BatchNormalization()) \n",
    "    model.add(MaxPooling2D(pool_size=(1, 3)))\n",
    "    \n",
    "    model.add(Conv2D(num_feat_map, kernel_size=(1, 10), activation='relu',padding='same')) \n",
    "    model.add(Conv2D(num_feat_map, kernel_size=(1, 10), activation='relu',padding='same'))\n",
    "    if (b==1):\n",
    "        model.add(BatchNormalization()) \n",
    "    model.add(MaxPooling2D(pool_size=(1, 2)))\n",
    "    model.add(Dropout(p))\n",
    "    \n",
    "    model.add(Conv2D(num_feat_map, kernel_size=(1, 10), activation='relu',padding='same'))  \n",
    "    if (b==1):\n",
    "        model.add(BatchNormalization()) \n",
    "    model.add(MaxPooling2D(pool_size=(1, 2)))\n",
    "    \n",
    "    model.add(Dropout(p))\n",
    "    \n",
    "def model_LSTM(model,p):\n",
    "    model.add(LSTM(num_hidden_lstm, \n",
    "               input_shape=(win_len,dim), \n",
    "               return_sequences=True))\n",
    "    model.add(Dropout(p))\n",
    "    model.add(LSTM(num_hidden_lstm, return_sequences=False))\n",
    "    model.add(Dropout(p))\n",
    "    \n",
    "def model_output(model):\n",
    "    model.add(Dense(num_classes, activation='softmax'))"
   ]
  },
  {
   "cell_type": "code",
   "execution_count": 10,
   "metadata": {},
   "outputs": [],
   "source": [
    "from keras.models import load_model\n",
    "from sklearn.metrics import confusion_matrix\n",
    "from sklearn.metrics import f1_score, accuracy_score\n",
    "import matplotlib.pyplot as plt\n",
    "import itertools\n",
    "\n",
    "class monitor_Training(keras.callbacks.Callback):\n",
    "    def on_train_begin(self, logs={}):\n",
    "        return\n",
    " \n",
    "    def on_train_end(self, logs={}):\n",
    "        return\n",
    " \n",
    "    def on_epoch_begin(self, epoch, logs={}):\n",
    "        return\n",
    " \n",
    "    def on_epoch_end(self, epoch, logs={}):\n",
    "        y_pred = np.argmax(self.model.predict(X_test), axis=1)\n",
    "        accuracy = accuracy_score(y_true, y_pred)\n",
    "        print('test accuracy is:', accuracy)\n",
    "        return\n",
    " \n",
    "    def on_batch_begin(self, batch, logs={}):\n",
    "        return\n",
    " \n",
    "    def on_batch_end(self, batch, logs={}):\n",
    "        return"
   ]
  },
  {
   "cell_type": "markdown",
   "metadata": {},
   "source": [
    "# Training/Testing:"
   ]
  },
  {
   "cell_type": "markdown",
   "metadata": {},
   "source": [
    "Add"
   ]
  },
  {
   "cell_type": "code",
   "execution_count": 11,
   "metadata": {},
   "outputs": [],
   "source": [
    "data_dir_train='data_m_add_TTV/train'\n",
    "data_dir_val= 'data_m_add_TTV/val'\n",
    "data_dir_test='data_m_add_TTV/test'\n",
    "pos_lab = 'Add'\n",
    "neg_lab = 'No'\n",
    "labelfile = 'LabelAdd.csv'\n",
    "model_name = \"DCBL_micro_ADD_jitter.hdf5\""
   ]
  },
  {
   "cell_type": "code",
   "execution_count": 12,
   "metadata": {
    "colab": {},
    "colab_type": "code",
    "id": "FEYY86nqUvoy",
    "scrolled": false
   },
   "outputs": [],
   "source": [
    "#receive windowed training and validation data\n",
    "train_x, train_y, train_files = get_train_data(data_dir_train,sub_dirs,pos_lab,neg_lab,labelfile)\n",
    "val_x, val_y, val_files = get_train_data(data_dir_val,sub_dirs,pos_lab,neg_lab,labelfile)\n",
    "test_x, test_y, test_files = get_train_data(data_dir_test,sub_dirs,pos_lab,neg_lab,labelfile)\n",
    "train_x2, train_y2, all_counts = get_train_data_2(data_dir_train,sub_dirs,pos_lab,neg_lab,labelfile)\n",
    "train_x3, train_y3, all_counts = get_train_data_3(data_dir_train,sub_dirs,pos_lab,neg_lab,labelfile)"
   ]
  },
  {
   "cell_type": "code",
   "execution_count": 13,
   "metadata": {
    "colab": {},
    "colab_type": "code",
    "id": "u2w_y9dmUvo1"
   },
   "outputs": [
    {
     "name": "stdout",
     "output_type": "stream",
     "text": [
      "(5053, 9, 500)\n",
      "(5053,)\n",
      "(5053, 9, 500)\n",
      "(5053,)\n",
      "(5054, 9, 500)\n",
      "(5054,)\n",
      "(1382, 9, 500)\n",
      "(1382,)\n",
      "(1378, 9, 500)\n",
      "(1378,)\n"
     ]
    }
   ],
   "source": [
    "train_samples_2 = np.array(train_x2) \n",
    "train_labels2_2 = np.array(train_y2)\n",
    "print(train_samples_2.shape)\n",
    "print(train_labels2_2.shape)\n",
    "train_samples_3 = np.array(train_x3) \n",
    "train_labels2_3 = np.array(train_y3)\n",
    "print(train_samples_3.shape)\n",
    "print(train_labels2_3.shape)\n",
    "train_samples = np.array(train_x) \n",
    "train_labels2 = np.array(train_y)\n",
    "val_samples = np.array(val_x) \n",
    "val_labels2 = np.array(val_y)\n",
    "test_samples = np.array(test_x) \n",
    "test_labels2 = np.array(test_y)\n",
    "print(train_samples.shape)\n",
    "print(train_labels2.shape)\n",
    "print(val_samples.shape)\n",
    "print(val_labels2.shape)\n",
    "print(test_samples.shape)\n",
    "print(test_labels2.shape)\n",
    "train_samples = np.vstack((train_samples,train_samples_2, train_samples_3))\n",
    "train_labels2 = np.hstack((train_labels2, train_labels2_2, train_labels2_3))"
   ]
  },
  {
   "cell_type": "code",
   "execution_count": 14,
   "metadata": {},
   "outputs": [
    {
     "name": "stdout",
     "output_type": "stream",
     "text": [
      "(15160, 9, 500)\n",
      "(15160,)\n",
      "(1382, 9, 500)\n",
      "(1382,)\n",
      "(1378, 9, 500)\n",
      "(1378,)\n"
     ]
    }
   ],
   "source": [
    "print(train_samples.shape)\n",
    "print(train_labels2.shape)\n",
    "print(val_samples.shape)\n",
    "print(val_labels2.shape)\n",
    "print(test_samples.shape)\n",
    "print(test_labels2.shape)"
   ]
  },
  {
   "cell_type": "code",
   "execution_count": 15,
   "metadata": {},
   "outputs": [
    {
     "name": "stdout",
     "output_type": "stream",
     "text": [
      "(15160, 9, 500)\n",
      "(15160, 2)\n",
      "(1382, 9, 500)\n",
      "(1382, 2)\n",
      "(1378, 9, 500)\n",
      "(1378,)\n"
     ]
    }
   ],
   "source": [
    "#convert to one hot encoding\n",
    "from keras.utils  import to_categorical\n",
    "train_labels = to_categorical(train_labels2)\n",
    "train_labels.shape\n",
    "val_labels = to_categorical(val_labels2)\n",
    "val_labels.shape\n",
    "test_labels = to_categorical(test_labels2)\n",
    "test_labels.shape\n",
    "print(train_samples.shape)\n",
    "print(train_labels.shape)\n",
    "print(val_samples.shape)\n",
    "print(val_labels.shape)\n",
    "print(test_samples.shape)\n",
    "print(test_labels2.shape)"
   ]
  },
  {
   "cell_type": "code",
   "execution_count": 16,
   "metadata": {},
   "outputs": [],
   "source": [
    "#For CNN and BidirLSTM:\n",
    "number_of_samples = 500\n",
    "train_samples = train_samples.reshape((-1, 9,number_of_samples, 1))\n",
    "val_samples = val_samples.reshape((-1, 9,number_of_samples, 1))\n",
    "test_samples = test_samples.reshape((-1, 9,number_of_samples, 1))\n",
    "#For LSTM, uncomment these lines and comment above two lines\n",
    "#train_samples = train_samples.reshape((-1, number_of_samples, 9))\n",
    "#val_samples = val_samples.reshape((-1, number_of_samples, 9))\n",
    "\n",
    "#9 refers to 9 accelerometer channels"
   ]
  },
  {
   "cell_type": "code",
   "execution_count": 17,
   "metadata": {
    "colab": {},
    "colab_type": "code",
    "id": "wf8LuDxlUvpH"
   },
   "outputs": [
    {
     "name": "stdout",
     "output_type": "stream",
     "text": [
      "500\n",
      "9\n"
     ]
    }
   ],
   "source": [
    "batch_size = 64\n",
    "num_feat_map = 128\n",
    "num_hidden_lstm = 128\n",
    "num_classes = 2\n",
    "\n",
    "#Uncomment the classifier you are working with:\n",
    "#network_type = 'CNN'\n",
    "network_type = 'ConvLSTM'\n",
    "#network_type = 'LSTM'\n",
    "#for CNN/DCBL\n",
    "_, dim, win_len,_ = train_samples.shape\n",
    "#for LSTM uncomment the following line and comment above line\n",
    "#_, dim, win_len = train_samples.shape\n",
    "\n",
    "print(win_len)\n",
    "print(dim)"
   ]
  },
  {
   "cell_type": "code",
   "execution_count": 18,
   "metadata": {
    "colab": {},
    "colab_type": "code",
    "id": "fAQRf1DNUvpK"
   },
   "outputs": [
    {
     "name": "stdout",
     "output_type": "stream",
     "text": [
      "building the model ... \n",
      "WARNING:tensorflow:From /home/nesl/.conda/envs/tf-gpu/lib/python3.7/site-packages/keras/backend/tensorflow_backend.py:68: The name tf.get_default_graph is deprecated. Please use tf.compat.v1.get_default_graph instead.\n",
      "\n",
      "WARNING:tensorflow:From /home/nesl/.conda/envs/tf-gpu/lib/python3.7/site-packages/keras/backend/tensorflow_backend.py:504: The name tf.placeholder is deprecated. Please use tf.compat.v1.placeholder instead.\n",
      "\n",
      "WARNING:tensorflow:From /home/nesl/.conda/envs/tf-gpu/lib/python3.7/site-packages/keras/backend/tensorflow_backend.py:3828: The name tf.random_uniform is deprecated. Please use tf.random.uniform instead.\n",
      "\n",
      "WARNING:tensorflow:From /home/nesl/.conda/envs/tf-gpu/lib/python3.7/site-packages/keras/backend/tensorflow_backend.py:166: The name tf.get_default_session is deprecated. Please use tf.compat.v1.get_default_session instead.\n",
      "\n",
      "WARNING:tensorflow:From /home/nesl/.conda/envs/tf-gpu/lib/python3.7/site-packages/keras/backend/tensorflow_backend.py:180: The name tf.global_variables is deprecated. Please use tf.compat.v1.global_variables instead.\n",
      "\n",
      "WARNING:tensorflow:From /home/nesl/.conda/envs/tf-gpu/lib/python3.7/site-packages/keras/backend/tensorflow_backend.py:1794: The name tf.nn.fused_batch_norm is deprecated. Please use tf.compat.v1.nn.fused_batch_norm instead.\n",
      "\n",
      "WARNING:tensorflow:From /home/nesl/.conda/envs/tf-gpu/lib/python3.7/site-packages/keras/backend/tensorflow_backend.py:3652: The name tf.nn.max_pool is deprecated. Please use tf.nn.max_pool2d instead.\n",
      "\n",
      "WARNING:tensorflow:From /home/nesl/.conda/envs/tf-gpu/lib/python3.7/site-packages/keras/backend/tensorflow_backend.py:3135: calling dropout (from tensorflow.python.ops.nn_ops) with keep_prob is deprecated and will be removed in a future version.\n",
      "Instructions for updating:\n",
      "Please use `rate` instead of `keep_prob`. Rate should be set to `rate = 1 - keep_prob`.\n",
      "ConvLSTM\n",
      "_________________________________________________________________\n",
      "Layer (type)                 Output Shape              Param #   \n",
      "=================================================================\n",
      "conv2d_1 (Conv2D)            (None, 9, 500, 128)       1408      \n",
      "_________________________________________________________________\n",
      "conv2d_2 (Conv2D)            (None, 9, 500, 128)       163968    \n",
      "_________________________________________________________________\n",
      "batch_normalization_1 (Batch (None, 9, 500, 128)       512       \n",
      "_________________________________________________________________\n",
      "conv2d_3 (Conv2D)            (None, 9, 500, 128)       163968    \n",
      "_________________________________________________________________\n",
      "batch_normalization_2 (Batch (None, 9, 500, 128)       512       \n",
      "_________________________________________________________________\n",
      "max_pooling2d_1 (MaxPooling2 (None, 9, 166, 128)       0         \n",
      "_________________________________________________________________\n",
      "conv2d_4 (Conv2D)            (None, 9, 166, 128)       163968    \n",
      "_________________________________________________________________\n",
      "conv2d_5 (Conv2D)            (None, 9, 166, 128)       163968    \n",
      "_________________________________________________________________\n",
      "batch_normalization_3 (Batch (None, 9, 166, 128)       512       \n",
      "_________________________________________________________________\n",
      "max_pooling2d_2 (MaxPooling2 (None, 9, 83, 128)        0         \n",
      "_________________________________________________________________\n",
      "dropout_1 (Dropout)          (None, 9, 83, 128)        0         \n",
      "_________________________________________________________________\n",
      "conv2d_6 (Conv2D)            (None, 9, 83, 128)        163968    \n",
      "_________________________________________________________________\n",
      "batch_normalization_4 (Batch (None, 9, 83, 128)        512       \n",
      "_________________________________________________________________\n",
      "max_pooling2d_3 (MaxPooling2 (None, 9, 41, 128)        0         \n",
      "_________________________________________________________________\n",
      "dropout_2 (Dropout)          (None, 9, 41, 128)        0         \n",
      "_________________________________________________________________\n",
      "permute_1 (Permute)          (None, 41, 9, 128)        0         \n",
      "_________________________________________________________________\n",
      "reshape_1 (Reshape)          (None, 41, 1152)          0         \n",
      "_________________________________________________________________\n",
      "bidirectional_1 (Bidirection (None, 256)               1311744   \n",
      "_________________________________________________________________\n",
      "dense_1 (Dense)              (None, 2)                 514       \n",
      "=================================================================\n",
      "Total params: 2,135,554\n",
      "Trainable params: 2,134,530\n",
      "Non-trainable params: 1,024\n",
      "_________________________________________________________________\n"
     ]
    }
   ],
   "source": [
    "p=0.5 #Dropout\n",
    "b = 1 #BatchNorm\n",
    "print('building the model ... ')\n",
    "model = Sequential()\n",
    "\n",
    "if network_type=='CNN' or network_type=='ConvLSTM':\n",
    "    model_conv(model, num_feat_map,p,b)\n",
    "    model_variant(model, num_feat_map, dim, network_type,p)\n",
    "if network_type=='LSTM':\n",
    "    model_LSTM(model,p)\n",
    "       \n",
    "model_output(model)    \n",
    "model.summary()"
   ]
  },
  {
   "cell_type": "code",
   "execution_count": 19,
   "metadata": {
    "colab": {},
    "colab_type": "code",
    "id": "wrNCEAD8UvpL"
   },
   "outputs": [],
   "source": [
    "X_train = train_samples\n",
    "y_train = train_labels\n",
    "X_val = val_samples\n",
    "y_val = val_labels\n",
    "X_test = test_samples\n",
    "y_test = test_labels"
   ]
  },
  {
   "cell_type": "code",
   "execution_count": 20,
   "metadata": {
    "colab": {},
    "colab_type": "code",
    "id": "tNsDOBNrUvpN"
   },
   "outputs": [
    {
     "name": "stdout",
     "output_type": "stream",
     "text": [
      "(15160, 9, 500, 1) (1382, 9, 500, 1) (1378, 9, 500, 1)\n"
     ]
    }
   ],
   "source": [
    "print(X_train.shape, X_val.shape, X_test.shape)"
   ]
  },
  {
   "cell_type": "code",
   "execution_count": 21,
   "metadata": {},
   "outputs": [],
   "source": [
    "y_true = np.argmax(y_test, axis=1)"
   ]
  },
  {
   "cell_type": "code",
   "execution_count": 11,
   "metadata": {
    "colab": {},
    "colab_type": "code",
    "id": "YpsJRPEfUvpP",
    "scrolled": true
   },
   "outputs": [],
   "source": [
    "epochs = 40\n",
    "\n",
    "model.compile(loss=keras.losses.categorical_crossentropy,\n",
    "              optimizer='adam',\n",
    "              metrics=['accuracy'])\n",
    "\n",
    "# checkpoint\n",
    "filepath=model_name\n",
    "#checkpoint = ModelCheckpoint(filepath, monitor='val_acc', verbose=1, save_best_only=True, mode='max')\n",
    "\n",
    "checkpoint = ModelCheckpoint(filepath, monitor='val_acc', verbose=1, save_best_only=True)\n",
    "\n",
    "checkpoint2 = monitor_Training()\n",
    "\n",
    "callbacks_list = [checkpoint, checkpoint2]\n",
    "\n",
    "H = model.fit(train_samples, train_labels,\n",
    "            batch_size=batch_size,\n",
    "            epochs=epochs,\n",
    "            verbose=1,\n",
    "            shuffle=True,\n",
    "            validation_data=(X_val, y_val),\n",
    "             callbacks=callbacks_list\n",
    "             )"
   ]
  },
  {
   "cell_type": "code",
   "execution_count": 23,
   "metadata": {
    "colab": {},
    "colab_type": "code",
    "id": "_ASUmtFSUvpQ"
   },
   "outputs": [],
   "source": [
    "history = H"
   ]
  },
  {
   "cell_type": "code",
   "execution_count": 24,
   "metadata": {
    "colab": {},
    "colab_type": "code",
    "id": "C6yi5aaJUvpS"
   },
   "outputs": [
    {
     "name": "stdout",
     "output_type": "stream",
     "text": [
      "3\n"
     ]
    },
    {
     "data": {
      "image/png": "[encoded data removed]",
      "text/plain": [
       "<Figure size 432x288 with 1 Axes>"
      ]
     },
     "metadata": {
      "needs_background": "light"
     },
     "output_type": "display_data"
    },
    {
     "name": "stdout",
     "output_type": "stream",
     "text": [
      "Maximum validation accuracy:  0.9659913169319826\n",
      "Training accuracy of best model:  0.9892480211396331\n"
     ]
    }
   ],
   "source": [
    "import matplotlib.pyplot as plt\n",
    "\n",
    "# Plot training & validation accuracy values\n",
    "plt.plot(history.history['acc'])\n",
    "plt.plot(history.history['val_acc'])\n",
    "print(np.argmax(np.array(history.history['val_acc'])))\n",
    "plt.title('Model accuracy')\n",
    "plt.ylabel('Accuracy')\n",
    "plt.xlabel('Epoch')\n",
    "plt.legend(['Train', 'Test'], loc='upper left')\n",
    "plt.show()\n",
    "print('Maximum validation accuracy: ',np.max(np.array(history.history['val_acc'])))\n",
    "print('Training accuracy of best model: ',np.array(history.history['acc'])[np.argmax(np.array(history.history['val_acc']))])\n"
   ]
  },
  {
   "cell_type": "code",
   "execution_count": 25,
   "metadata": {},
   "outputs": [
    {
     "name": "stdout",
     "output_type": "stream",
     "text": [
      "[[  13   71]\n",
      " [   6 1288]]\n",
      "the mean-f1 score: 0.61\n",
      "accuracy is: 0.94\n"
     ]
    }
   ],
   "source": [
    "model = load_model(model_name)\n",
    "y_pred = np.argmax(model.predict(X_test), axis=1)\n",
    "y_true = np.argmax(y_test, axis=1)\n",
    "cf_matrix = confusion_matrix(y_true, y_pred)\n",
    "print(cf_matrix)\n",
    "class_wise_f1 = np.round(f1_score(y_true, y_pred, average=None)*100)*0.01\n",
    "accuracy = accuracy_score(y_true, y_pred)\n",
    "\n",
    "\n",
    "print('the mean-f1 score: {:.2f}'.format(np.mean(class_wise_f1)))\n",
    "print('accuracy is: {:.2f}'.format(accuracy))\n"
   ]
  },
  {
   "cell_type": "code",
   "execution_count": 28,
   "metadata": {},
   "outputs": [
    {
     "name": "stdout",
     "output_type": "stream",
     "text": [
      "total_count of test files: 50\n",
      "correctly predicted test files: 47\n",
      "Percentage accuracy: 94.0\n",
      "total_count of train files: 188\n",
      "correctly predicted train files: 186\n",
      "Percentage accuracy: 98.93617021276596\n",
      "total_count of val files: 50\n",
      "correctly predicted val files: 49\n",
      "Percentage accuracy: 98.0\n"
     ]
    }
   ],
   "source": [
    "# Test data accuracy:\n",
    "total_count, correct_count = get_prediction_accuracy(data_dir_test, sub_dirs,pos_lab,neg_lab,labelfile,model)\n",
    "print('total_count of test files:', total_count)\n",
    "print('correctly predicted test files:', correct_count)\n",
    "print('Percentage accuracy:', (correct_count/total_count)*100.0)\n",
    "# Train accuracy\n",
    "total_count, correct_count = get_prediction_accuracy(data_dir_train, sub_dirs,pos_lab,neg_lab,labelfile,model)\n",
    "print('total_count of train files:', total_count)\n",
    "print('correctly predicted train files:', correct_count)\n",
    "print('Percentage accuracy:', (correct_count/total_count)*100.0)\n",
    "#val accuracy\n",
    "total_count, correct_count = get_prediction_accuracy(data_dir_val, sub_dirs,pos_lab,neg_lab,labelfile,model)\n",
    "print('total_count of val files:', total_count)\n",
    "print('correctly predicted val files:', correct_count)\n",
    "print('Percentage accuracy:', (correct_count/total_count)*100.0)"
   ]
  },
  {
   "cell_type": "code",
   "execution_count": 29,
   "metadata": {},
   "outputs": [],
   "source": [
    "del train_x, train_y, train_files, val_x, val_y, val_files, test_x, test_y,test_files\n",
    "del train_x2, train_y2, all_counts\n",
    "del train_x3, train_y3"
   ]
  },
  {
   "cell_type": "markdown",
   "metadata": {},
   "source": [
    "Cut"
   ]
  },
  {
   "cell_type": "code",
   "execution_count": 30,
   "metadata": {},
   "outputs": [],
   "source": [
    "data_dir_train='data_m_cut_TTV/train'\n",
    "data_dir_val= 'data_m_cut_TTV/val'\n",
    "data_dir_test='data_m_cut_TTV/test'\n",
    "pos_lab = 'Cut'\n",
    "neg_lab = 'No'\n",
    "labelfile = 'LabelCut.csv'\n",
    "model_name = \"DCBL_micro_Cut_jitter.hdf5\""
   ]
  },
  {
   "cell_type": "code",
   "execution_count": 31,
   "metadata": {
    "colab": {},
    "colab_type": "code",
    "id": "FEYY86nqUvoy",
    "scrolled": false
   },
   "outputs": [],
   "source": [
    "#receive windowed training and validation data\n",
    "train_x, train_y, train_files = get_train_data(data_dir_train,sub_dirs,pos_lab,neg_lab,labelfile)\n",
    "val_x, val_y, val_files = get_train_data(data_dir_val,sub_dirs,pos_lab,neg_lab,labelfile)\n",
    "test_x, test_y, test_files = get_train_data(data_dir_test,sub_dirs,pos_lab,neg_lab,labelfile)\n",
    "train_x2, train_y2, all_counts = get_train_data_2(data_dir_train,sub_dirs,pos_lab,neg_lab,labelfile)\n",
    "train_x3, train_y3, all_counts = get_train_data_3(data_dir_train,sub_dirs,pos_lab,neg_lab,labelfile)"
   ]
  },
  {
   "cell_type": "code",
   "execution_count": 32,
   "metadata": {
    "colab": {},
    "colab_type": "code",
    "id": "u2w_y9dmUvo1"
   },
   "outputs": [
    {
     "name": "stdout",
     "output_type": "stream",
     "text": [
      "(5072, 9, 500)\n",
      "(5072,)\n",
      "(5076, 9, 500)\n",
      "(5076,)\n",
      "(5071, 9, 500)\n",
      "(5071,)\n",
      "(1416, 9, 500)\n",
      "(1416,)\n",
      "(1327, 9, 500)\n",
      "(1327,)\n"
     ]
    }
   ],
   "source": [
    "train_samples_2 = np.array(train_x2) \n",
    "train_labels2_2 = np.array(train_y2)\n",
    "print(train_samples_2.shape)\n",
    "print(train_labels2_2.shape)\n",
    "train_samples_3 = np.array(train_x3) \n",
    "train_labels2_3 = np.array(train_y3)\n",
    "print(train_samples_3.shape)\n",
    "print(train_labels2_3.shape)\n",
    "train_samples = np.array(train_x) \n",
    "train_labels2 = np.array(train_y)\n",
    "val_samples = np.array(val_x) \n",
    "val_labels2 = np.array(val_y)\n",
    "test_samples = np.array(test_x) \n",
    "test_labels2 = np.array(test_y)\n",
    "print(train_samples.shape)\n",
    "print(train_labels2.shape)\n",
    "print(val_samples.shape)\n",
    "print(val_labels2.shape)\n",
    "print(test_samples.shape)\n",
    "print(test_labels2.shape)\n",
    "train_samples = np.vstack((train_samples,train_samples_2, train_samples_3))\n",
    "train_labels2 = np.hstack((train_labels2, train_labels2_2, train_labels2_3))"
   ]
  },
  {
   "cell_type": "code",
   "execution_count": 33,
   "metadata": {},
   "outputs": [
    {
     "name": "stdout",
     "output_type": "stream",
     "text": [
      "(15219, 9, 500)\n",
      "(15219,)\n",
      "(1416, 9, 500)\n",
      "(1416,)\n",
      "(1327, 9, 500)\n",
      "(1327,)\n"
     ]
    }
   ],
   "source": [
    "print(train_samples.shape)\n",
    "print(train_labels2.shape)\n",
    "print(val_samples.shape)\n",
    "print(val_labels2.shape)\n",
    "print(test_samples.shape)\n",
    "print(test_labels2.shape)"
   ]
  },
  {
   "cell_type": "code",
   "execution_count": 34,
   "metadata": {},
   "outputs": [
    {
     "name": "stdout",
     "output_type": "stream",
     "text": [
      "(15219, 9, 500)\n",
      "(15219, 2)\n",
      "(1416, 9, 500)\n",
      "(1416, 2)\n",
      "(1327, 9, 500)\n",
      "(1327,)\n"
     ]
    }
   ],
   "source": [
    "#convert to one hot encoding\n",
    "from keras.utils  import to_categorical\n",
    "train_labels = to_categorical(train_labels2)\n",
    "train_labels.shape\n",
    "val_labels = to_categorical(val_labels2)\n",
    "val_labels.shape\n",
    "test_labels = to_categorical(test_labels2)\n",
    "test_labels.shape\n",
    "print(train_samples.shape)\n",
    "print(train_labels.shape)\n",
    "print(val_samples.shape)\n",
    "print(val_labels.shape)\n",
    "print(test_samples.shape)\n",
    "print(test_labels2.shape)"
   ]
  },
  {
   "cell_type": "code",
   "execution_count": 35,
   "metadata": {},
   "outputs": [],
   "source": [
    "#For CNN and BidirLSTM:\n",
    "number_of_samples = 500\n",
    "train_samples = train_samples.reshape((-1, 9,number_of_samples, 1))\n",
    "val_samples = val_samples.reshape((-1, 9,number_of_samples, 1))\n",
    "test_samples = test_samples.reshape((-1, 9,number_of_samples, 1))\n",
    "#For LSTM, uncomment these lines and comment above two lines\n",
    "#train_samples = train_samples.reshape((-1, number_of_samples, 9))\n",
    "#val_samples = val_samples.reshape((-1, number_of_samples, 9))\n",
    "\n",
    "#9 refers to 9 accelerometer channels"
   ]
  },
  {
   "cell_type": "code",
   "execution_count": 36,
   "metadata": {
    "colab": {},
    "colab_type": "code",
    "id": "wf8LuDxlUvpH"
   },
   "outputs": [
    {
     "name": "stdout",
     "output_type": "stream",
     "text": [
      "500\n",
      "9\n"
     ]
    }
   ],
   "source": [
    "batch_size = 64\n",
    "num_feat_map = 128\n",
    "num_hidden_lstm = 128\n",
    "num_classes = 2\n",
    "\n",
    "#Uncomment the classifier you are working with:\n",
    "#network_type = 'CNN'\n",
    "network_type = 'ConvLSTM'\n",
    "#network_type = 'LSTM'\n",
    "#for CNN/DCBL\n",
    "_, dim, win_len,_ = train_samples.shape\n",
    "#for LSTM uncomment the following line and comment above line\n",
    "#_, dim, win_len = train_samples.shape\n",
    "\n",
    "print(win_len)\n",
    "print(dim)"
   ]
  },
  {
   "cell_type": "code",
   "execution_count": 37,
   "metadata": {
    "colab": {},
    "colab_type": "code",
    "id": "fAQRf1DNUvpK"
   },
   "outputs": [
    {
     "name": "stdout",
     "output_type": "stream",
     "text": [
      "building the model ... \n",
      "ConvLSTM\n",
      "_________________________________________________________________\n",
      "Layer (type)                 Output Shape              Param #   \n",
      "=================================================================\n",
      "conv2d_7 (Conv2D)            (None, 9, 500, 128)       1408      \n",
      "_________________________________________________________________\n",
      "conv2d_8 (Conv2D)            (None, 9, 500, 128)       163968    \n",
      "_________________________________________________________________\n",
      "batch_normalization_5 (Batch (None, 9, 500, 128)       512       \n",
      "_________________________________________________________________\n",
      "conv2d_9 (Conv2D)            (None, 9, 500, 128)       163968    \n",
      "_________________________________________________________________\n",
      "batch_normalization_6 (Batch (None, 9, 500, 128)       512       \n",
      "_________________________________________________________________\n",
      "max_pooling2d_4 (MaxPooling2 (None, 9, 166, 128)       0         \n",
      "_________________________________________________________________\n",
      "conv2d_10 (Conv2D)           (None, 9, 166, 128)       163968    \n",
      "_________________________________________________________________\n",
      "conv2d_11 (Conv2D)           (None, 9, 166, 128)       163968    \n",
      "_________________________________________________________________\n",
      "batch_normalization_7 (Batch (None, 9, 166, 128)       512       \n",
      "_________________________________________________________________\n",
      "max_pooling2d_5 (MaxPooling2 (None, 9, 83, 128)        0         \n",
      "_________________________________________________________________\n",
      "dropout_3 (Dropout)          (None, 9, 83, 128)        0         \n",
      "_________________________________________________________________\n",
      "conv2d_12 (Conv2D)           (None, 9, 83, 128)        163968    \n",
      "_________________________________________________________________\n",
      "batch_normalization_8 (Batch (None, 9, 83, 128)        512       \n",
      "_________________________________________________________________\n",
      "max_pooling2d_6 (MaxPooling2 (None, 9, 41, 128)        0         \n",
      "_________________________________________________________________\n",
      "dropout_4 (Dropout)          (None, 9, 41, 128)        0         \n",
      "_________________________________________________________________\n",
      "permute_2 (Permute)          (None, 41, 9, 128)        0         \n",
      "_________________________________________________________________\n",
      "reshape_2 (Reshape)          (None, 41, 1152)          0         \n",
      "_________________________________________________________________\n",
      "bidirectional_2 (Bidirection (None, 256)               1311744   \n",
      "_________________________________________________________________\n",
      "dense_2 (Dense)              (None, 2)                 514       \n",
      "=================================================================\n",
      "Total params: 2,135,554\n",
      "Trainable params: 2,134,530\n",
      "Non-trainable params: 1,024\n",
      "_________________________________________________________________\n"
     ]
    }
   ],
   "source": [
    "p=0.5 #Dropout\n",
    "b = 1 #BatchNorm\n",
    "print('building the model ... ')\n",
    "model = Sequential()\n",
    "\n",
    "if network_type=='CNN' or network_type=='ConvLSTM':\n",
    "    model_conv(model, num_feat_map,p,b)\n",
    "    model_variant(model, num_feat_map, dim, network_type,p)\n",
    "if network_type=='LSTM':\n",
    "    model_LSTM(model,p)\n",
    "       \n",
    "model_output(model)    \n",
    "model.summary()"
   ]
  },
  {
   "cell_type": "code",
   "execution_count": 38,
   "metadata": {
    "colab": {},
    "colab_type": "code",
    "id": "wrNCEAD8UvpL"
   },
   "outputs": [],
   "source": [
    "X_train = train_samples\n",
    "y_train = train_labels\n",
    "X_val = val_samples\n",
    "y_val = val_labels\n",
    "X_test = test_samples\n",
    "y_test = test_labels"
   ]
  },
  {
   "cell_type": "code",
   "execution_count": 39,
   "metadata": {
    "colab": {},
    "colab_type": "code",
    "id": "tNsDOBNrUvpN"
   },
   "outputs": [
    {
     "name": "stdout",
     "output_type": "stream",
     "text": [
      "(15219, 9, 500, 1) (1416, 9, 500, 1) (1327, 9, 500, 1)\n"
     ]
    }
   ],
   "source": [
    "print(X_train.shape, X_val.shape, X_test.shape)"
   ]
  },
  {
   "cell_type": "code",
   "execution_count": 40,
   "metadata": {},
   "outputs": [],
   "source": [
    "y_true = np.argmax(y_test, axis=1)"
   ]
  },
  {
   "cell_type": "code",
   "execution_count": 10,
   "metadata": {
    "colab": {},
    "colab_type": "code",
    "id": "YpsJRPEfUvpP",
    "scrolled": true
   },
   "outputs": [],
   "source": [
    "epochs = 40\n",
    "\n",
    "model.compile(loss=keras.losses.categorical_crossentropy,\n",
    "              optimizer='adam',\n",
    "              metrics=['accuracy'])\n",
    "\n",
    "# checkpoint\n",
    "filepath=model_name\n",
    "#checkpoint = ModelCheckpoint(filepath, monitor='val_acc', verbose=1, save_best_only=True, mode='max')\n",
    "\n",
    "checkpoint = ModelCheckpoint(filepath, monitor='val_acc', verbose=1, save_best_only=True)\n",
    "\n",
    "checkpoint2 = monitor_Training()\n",
    "\n",
    "callbacks_list = [checkpoint, checkpoint2]\n",
    "\n",
    "H = model.fit(train_samples, train_labels,\n",
    "            batch_size=batch_size,\n",
    "            epochs=epochs,\n",
    "            verbose=1,\n",
    "            shuffle=True,\n",
    "            validation_data=(X_val, y_val),\n",
    "             callbacks=callbacks_list\n",
    "             )"
   ]
  },
  {
   "cell_type": "code",
   "execution_count": 42,
   "metadata": {
    "colab": {},
    "colab_type": "code",
    "id": "_ASUmtFSUvpQ"
   },
   "outputs": [],
   "source": [
    "history = H"
   ]
  },
  {
   "cell_type": "code",
   "execution_count": 43,
   "metadata": {
    "colab": {},
    "colab_type": "code",
    "id": "C6yi5aaJUvpS"
   },
   "outputs": [
    {
     "name": "stdout",
     "output_type": "stream",
     "text": [
      "1\n"
     ]
    },
    {
     "data": {
      "image/png": "[encoded data removed]",
      "text/plain": [
       "<Figure size 432x288 with 1 Axes>"
      ]
     },
     "metadata": {
      "needs_background": "light"
     },
     "output_type": "display_data"
    },
    {
     "name": "stdout",
     "output_type": "stream",
     "text": [
      "Maximum validation accuracy:  0.7838983050847458\n",
      "Training accuracy of best model:  0.8607004402548406\n"
     ]
    }
   ],
   "source": [
    "import matplotlib.pyplot as plt\n",
    "\n",
    "# Plot training & validation accuracy values\n",
    "plt.plot(history.history['acc'])\n",
    "plt.plot(history.history['val_acc'])\n",
    "print(np.argmax(np.array(history.history['val_acc'])))\n",
    "plt.title('Model accuracy')\n",
    "plt.ylabel('Accuracy')\n",
    "plt.xlabel('Epoch')\n",
    "plt.legend(['Train', 'Test'], loc='upper left')\n",
    "plt.show()\n",
    "print('Maximum validation accuracy: ',np.max(np.array(history.history['val_acc'])))\n",
    "print('Training accuracy of best model: ',np.array(history.history['acc'])[np.argmax(np.array(history.history['val_acc']))])\n"
   ]
  },
  {
   "cell_type": "code",
   "execution_count": 44,
   "metadata": {},
   "outputs": [
    {
     "name": "stdout",
     "output_type": "stream",
     "text": [
      "[[264 171]\n",
      " [ 76 816]]\n",
      "the mean-f1 score: 0.78\n",
      "accuracy is: 0.81\n"
     ]
    }
   ],
   "source": [
    "model = load_model(model_name)\n",
    "y_pred = np.argmax(model.predict(X_test), axis=1)\n",
    "y_true = np.argmax(y_test, axis=1)\n",
    "cf_matrix = confusion_matrix(y_true, y_pred)\n",
    "print(cf_matrix)\n",
    "class_wise_f1 = np.round(f1_score(y_true, y_pred, average=None)*100)*0.01\n",
    "accuracy = accuracy_score(y_true, y_pred)\n",
    "\n",
    "\n",
    "print('the mean-f1 score: {:.2f}'.format(np.mean(class_wise_f1)))\n",
    "print('accuracy is: {:.2f}'.format(accuracy))\n"
   ]
  },
  {
   "cell_type": "code",
   "execution_count": 45,
   "metadata": {},
   "outputs": [
    {
     "name": "stdout",
     "output_type": "stream",
     "text": [
      "total_count of test files: 50\n",
      "correctly predicted test files: 44\n",
      "Percentage accuracy: 88.0\n",
      "total_count of train files: 187\n",
      "correctly predicted train files: 185\n",
      "Percentage accuracy: 98.93048128342245\n",
      "total_count of val files: 51\n",
      "correctly predicted val files: 42\n",
      "Percentage accuracy: 82.35294117647058\n"
     ]
    }
   ],
   "source": [
    "# Test data accuracy:\n",
    "total_count, correct_count = get_prediction_accuracy(data_dir_test, sub_dirs,pos_lab,neg_lab,labelfile,model)\n",
    "print('total_count of test files:', total_count)\n",
    "print('correctly predicted test files:', correct_count)\n",
    "print('Percentage accuracy:', (correct_count/total_count)*100.0)\n",
    "# Train accuracy\n",
    "total_count, correct_count = get_prediction_accuracy(data_dir_train, sub_dirs,pos_lab,neg_lab,labelfile,model)\n",
    "print('total_count of train files:', total_count)\n",
    "print('correctly predicted train files:', correct_count)\n",
    "print('Percentage accuracy:', (correct_count/total_count)*100.0)\n",
    "#val accuracy\n",
    "total_count, correct_count = get_prediction_accuracy(data_dir_val, sub_dirs,pos_lab,neg_lab,labelfile,model)\n",
    "print('total_count of val files:', total_count)\n",
    "print('correctly predicted val files:', correct_count)\n",
    "print('Percentage accuracy:', (correct_count/total_count)*100.0)"
   ]
  },
  {
   "cell_type": "code",
   "execution_count": 46,
   "metadata": {},
   "outputs": [],
   "source": [
    "del train_x, train_y, train_files, val_x, val_y, val_files, test_x, test_y,test_files\n",
    "del train_x2, train_y2, all_counts\n",
    "del train_x3, train_y3"
   ]
  },
  {
   "cell_type": "markdown",
   "metadata": {},
   "source": [
    "Wash"
   ]
  },
  {
   "cell_type": "code",
   "execution_count": 47,
   "metadata": {},
   "outputs": [],
   "source": [
    "data_dir_train='data_m_wash_TTV/train'\n",
    "data_dir_val= 'data_m_wash_TTV/val'\n",
    "data_dir_test='data_m_wash_TTV/test'\n",
    "pos_lab = 'Wash'\n",
    "neg_lab = 'No'\n",
    "labelfile = 'LabelWash.csv'\n",
    "model_name = \"DCBL_micro_Wash_jitter.hdf5\""
   ]
  },
  {
   "cell_type": "code",
   "execution_count": 48,
   "metadata": {
    "colab": {},
    "colab_type": "code",
    "id": "FEYY86nqUvoy",
    "scrolled": false
   },
   "outputs": [],
   "source": [
    "#receive windowed training and validation data\n",
    "train_x, train_y, train_files = get_train_data(data_dir_train,sub_dirs,pos_lab,neg_lab,labelfile)\n",
    "val_x, val_y, val_files = get_train_data(data_dir_val,sub_dirs,pos_lab,neg_lab,labelfile)\n",
    "test_x, test_y, test_files = get_train_data(data_dir_test,sub_dirs,pos_lab,neg_lab,labelfile)\n",
    "train_x2, train_y2, all_counts = get_train_data_2(data_dir_train,sub_dirs,pos_lab,neg_lab,labelfile)\n",
    "train_x3, train_y3, all_counts = get_train_data_3(data_dir_train,sub_dirs,pos_lab,neg_lab,labelfile)"
   ]
  },
  {
   "cell_type": "code",
   "execution_count": 49,
   "metadata": {
    "colab": {},
    "colab_type": "code",
    "id": "u2w_y9dmUvo1"
   },
   "outputs": [
    {
     "name": "stdout",
     "output_type": "stream",
     "text": [
      "(5073, 9, 500)\n",
      "(5073,)\n",
      "(5068, 9, 500)\n",
      "(5068,)\n",
      "(5072, 9, 500)\n",
      "(5072,)\n",
      "(1411, 9, 500)\n",
      "(1411,)\n",
      "(1331, 9, 500)\n",
      "(1331,)\n"
     ]
    }
   ],
   "source": [
    "train_samples_2 = np.array(train_x2) \n",
    "train_labels2_2 = np.array(train_y2)\n",
    "print(train_samples_2.shape)\n",
    "print(train_labels2_2.shape)\n",
    "train_samples_3 = np.array(train_x3) \n",
    "train_labels2_3 = np.array(train_y3)\n",
    "print(train_samples_3.shape)\n",
    "print(train_labels2_3.shape)\n",
    "train_samples = np.array(train_x) \n",
    "train_labels2 = np.array(train_y)\n",
    "val_samples = np.array(val_x) \n",
    "val_labels2 = np.array(val_y)\n",
    "test_samples = np.array(test_x) \n",
    "test_labels2 = np.array(test_y)\n",
    "print(train_samples.shape)\n",
    "print(train_labels2.shape)\n",
    "print(val_samples.shape)\n",
    "print(val_labels2.shape)\n",
    "print(test_samples.shape)\n",
    "print(test_labels2.shape)\n",
    "train_samples = np.vstack((train_samples,train_samples_2, train_samples_3))\n",
    "train_labels2 = np.hstack((train_labels2, train_labels2_2, train_labels2_3))"
   ]
  },
  {
   "cell_type": "code",
   "execution_count": 50,
   "metadata": {},
   "outputs": [
    {
     "name": "stdout",
     "output_type": "stream",
     "text": [
      "(15213, 9, 500)\n",
      "(15213,)\n",
      "(1411, 9, 500)\n",
      "(1411,)\n",
      "(1331, 9, 500)\n",
      "(1331,)\n"
     ]
    }
   ],
   "source": [
    "print(train_samples.shape)\n",
    "print(train_labels2.shape)\n",
    "print(val_samples.shape)\n",
    "print(val_labels2.shape)\n",
    "print(test_samples.shape)\n",
    "print(test_labels2.shape)"
   ]
  },
  {
   "cell_type": "code",
   "execution_count": 51,
   "metadata": {},
   "outputs": [
    {
     "name": "stdout",
     "output_type": "stream",
     "text": [
      "(15213, 9, 500)\n",
      "(15213, 2)\n",
      "(1411, 9, 500)\n",
      "(1411, 2)\n",
      "(1331, 9, 500)\n",
      "(1331,)\n"
     ]
    }
   ],
   "source": [
    "#convert to one hot encoding\n",
    "from keras.utils  import to_categorical\n",
    "train_labels = to_categorical(train_labels2)\n",
    "train_labels.shape\n",
    "val_labels = to_categorical(val_labels2)\n",
    "val_labels.shape\n",
    "test_labels = to_categorical(test_labels2)\n",
    "test_labels.shape\n",
    "print(train_samples.shape)\n",
    "print(train_labels.shape)\n",
    "print(val_samples.shape)\n",
    "print(val_labels.shape)\n",
    "print(test_samples.shape)\n",
    "print(test_labels2.shape)"
   ]
  },
  {
   "cell_type": "code",
   "execution_count": 52,
   "metadata": {},
   "outputs": [],
   "source": [
    "#For CNN and BidirLSTM:\n",
    "number_of_samples = 500\n",
    "train_samples = train_samples.reshape((-1, 9,number_of_samples, 1))\n",
    "val_samples = val_samples.reshape((-1, 9,number_of_samples, 1))\n",
    "test_samples = test_samples.reshape((-1, 9,number_of_samples, 1))\n",
    "#For LSTM, uncomment these lines and comment above two lines\n",
    "#train_samples = train_samples.reshape((-1, number_of_samples, 9))\n",
    "#val_samples = val_samples.reshape((-1, number_of_samples, 9))\n",
    "\n",
    "#9 refers to 9 accelerometer channels"
   ]
  },
  {
   "cell_type": "code",
   "execution_count": 53,
   "metadata": {
    "colab": {},
    "colab_type": "code",
    "id": "wf8LuDxlUvpH"
   },
   "outputs": [
    {
     "name": "stdout",
     "output_type": "stream",
     "text": [
      "500\n",
      "9\n"
     ]
    }
   ],
   "source": [
    "batch_size = 64\n",
    "num_feat_map = 128\n",
    "num_hidden_lstm = 128\n",
    "num_classes = 2\n",
    "\n",
    "#Uncomment the classifier you are working with:\n",
    "#network_type = 'CNN'\n",
    "network_type = 'ConvLSTM'\n",
    "#network_type = 'LSTM'\n",
    "#for CNN/DCBL\n",
    "_, dim, win_len,_ = train_samples.shape\n",
    "#for LSTM uncomment the following line and comment above line\n",
    "#_, dim, win_len = train_samples.shape\n",
    "\n",
    "print(win_len)\n",
    "print(dim)"
   ]
  },
  {
   "cell_type": "code",
   "execution_count": 54,
   "metadata": {
    "colab": {},
    "colab_type": "code",
    "id": "fAQRf1DNUvpK"
   },
   "outputs": [
    {
     "name": "stdout",
     "output_type": "stream",
     "text": [
      "building the model ... \n",
      "ConvLSTM\n",
      "_________________________________________________________________\n",
      "Layer (type)                 Output Shape              Param #   \n",
      "=================================================================\n",
      "conv2d_13 (Conv2D)           (None, 9, 500, 128)       1408      \n",
      "_________________________________________________________________\n",
      "conv2d_14 (Conv2D)           (None, 9, 500, 128)       163968    \n",
      "_________________________________________________________________\n",
      "batch_normalization_9 (Batch (None, 9, 500, 128)       512       \n",
      "_________________________________________________________________\n",
      "conv2d_15 (Conv2D)           (None, 9, 500, 128)       163968    \n",
      "_________________________________________________________________\n",
      "batch_normalization_10 (Batc (None, 9, 500, 128)       512       \n",
      "_________________________________________________________________\n",
      "max_pooling2d_7 (MaxPooling2 (None, 9, 166, 128)       0         \n",
      "_________________________________________________________________\n",
      "conv2d_16 (Conv2D)           (None, 9, 166, 128)       163968    \n",
      "_________________________________________________________________\n",
      "conv2d_17 (Conv2D)           (None, 9, 166, 128)       163968    \n",
      "_________________________________________________________________\n",
      "batch_normalization_11 (Batc (None, 9, 166, 128)       512       \n",
      "_________________________________________________________________\n",
      "max_pooling2d_8 (MaxPooling2 (None, 9, 83, 128)        0         \n",
      "_________________________________________________________________\n",
      "dropout_5 (Dropout)          (None, 9, 83, 128)        0         \n",
      "_________________________________________________________________\n",
      "conv2d_18 (Conv2D)           (None, 9, 83, 128)        163968    \n",
      "_________________________________________________________________\n",
      "batch_normalization_12 (Batc (None, 9, 83, 128)        512       \n",
      "_________________________________________________________________\n",
      "max_pooling2d_9 (MaxPooling2 (None, 9, 41, 128)        0         \n",
      "_________________________________________________________________\n",
      "dropout_6 (Dropout)          (None, 9, 41, 128)        0         \n",
      "_________________________________________________________________\n",
      "permute_3 (Permute)          (None, 41, 9, 128)        0         \n",
      "_________________________________________________________________\n",
      "reshape_3 (Reshape)          (None, 41, 1152)          0         \n",
      "_________________________________________________________________\n",
      "bidirectional_3 (Bidirection (None, 256)               1311744   \n",
      "_________________________________________________________________\n",
      "dense_3 (Dense)              (None, 2)                 514       \n",
      "=================================================================\n",
      "Total params: 2,135,554\n",
      "Trainable params: 2,134,530\n",
      "Non-trainable params: 1,024\n",
      "_________________________________________________________________\n"
     ]
    }
   ],
   "source": [
    "p=0.5 #Dropout\n",
    "b = 1 #BatchNorm\n",
    "print('building the model ... ')\n",
    "model = Sequential()\n",
    "\n",
    "if network_type=='CNN' or network_type=='ConvLSTM':\n",
    "    model_conv(model, num_feat_map,p,b)\n",
    "    model_variant(model, num_feat_map, dim, network_type,p)\n",
    "if network_type=='LSTM':\n",
    "    model_LSTM(model,p)\n",
    "       \n",
    "model_output(model)    \n",
    "model.summary()"
   ]
  },
  {
   "cell_type": "code",
   "execution_count": 55,
   "metadata": {
    "colab": {},
    "colab_type": "code",
    "id": "wrNCEAD8UvpL"
   },
   "outputs": [],
   "source": [
    "X_train = train_samples\n",
    "y_train = train_labels\n",
    "X_val = val_samples\n",
    "y_val = val_labels\n",
    "X_test = test_samples\n",
    "y_test = test_labels"
   ]
  },
  {
   "cell_type": "code",
   "execution_count": 56,
   "metadata": {
    "colab": {},
    "colab_type": "code",
    "id": "tNsDOBNrUvpN"
   },
   "outputs": [
    {
     "name": "stdout",
     "output_type": "stream",
     "text": [
      "(15213, 9, 500, 1) (1411, 9, 500, 1) (1331, 9, 500, 1)\n"
     ]
    }
   ],
   "source": [
    "print(X_train.shape, X_val.shape, X_test.shape)"
   ]
  },
  {
   "cell_type": "code",
   "execution_count": 57,
   "metadata": {},
   "outputs": [],
   "source": [
    "y_true = np.argmax(y_test, axis=1)"
   ]
  },
  {
   "cell_type": "code",
   "execution_count": 9,
   "metadata": {
    "colab": {},
    "colab_type": "code",
    "id": "YpsJRPEfUvpP",
    "scrolled": true
   },
   "outputs": [],
   "source": [
    "epochs = 40\n",
    "\n",
    "model.compile(loss=keras.losses.categorical_crossentropy,\n",
    "              optimizer='adam',\n",
    "              metrics=['accuracy'])\n",
    "\n",
    "# checkpoint\n",
    "filepath=model_name\n",
    "#checkpoint = ModelCheckpoint(filepath, monitor='val_acc', verbose=1, save_best_only=True, mode='max')\n",
    "\n",
    "checkpoint = ModelCheckpoint(filepath, monitor='val_acc', verbose=1, save_best_only=True)\n",
    "\n",
    "checkpoint2 = monitor_Training()\n",
    "\n",
    "callbacks_list = [checkpoint, checkpoint2]\n",
    "\n",
    "H = model.fit(train_samples, train_labels,\n",
    "            batch_size=batch_size,\n",
    "            epochs=epochs,\n",
    "            verbose=1,\n",
    "            shuffle=True,\n",
    "            validation_data=(X_val, y_val),\n",
    "             callbacks=callbacks_list\n",
    "             )"
   ]
  },
  {
   "cell_type": "code",
   "execution_count": 59,
   "metadata": {
    "colab": {},
    "colab_type": "code",
    "id": "_ASUmtFSUvpQ"
   },
   "outputs": [],
   "source": [
    "history = H"
   ]
  },
  {
   "cell_type": "code",
   "execution_count": 60,
   "metadata": {
    "colab": {},
    "colab_type": "code",
    "id": "C6yi5aaJUvpS"
   },
   "outputs": [
    {
     "name": "stdout",
     "output_type": "stream",
     "text": [
      "6\n"
     ]
    },
    {
     "data": {
      "image/png": "[encoded data removed]",
      "text/plain": [
       "<Figure size 432x288 with 1 Axes>"
      ]
     },
     "metadata": {
      "needs_background": "light"
     },
     "output_type": "display_data"
    },
    {
     "name": "stdout",
     "output_type": "stream",
     "text": [
      "Maximum validation accuracy:  0.9114103472714387\n",
      "Training accuracy of best model:  0.9994741339643726\n"
     ]
    }
   ],
   "source": [
    "import matplotlib.pyplot as plt\n",
    "\n",
    "# Plot training & validation accuracy values\n",
    "plt.plot(history.history['acc'])\n",
    "plt.plot(history.history['val_acc'])\n",
    "print(np.argmax(np.array(history.history['val_acc'])))\n",
    "plt.title('Model accuracy')\n",
    "plt.ylabel('Accuracy')\n",
    "plt.xlabel('Epoch')\n",
    "plt.legend(['Train', 'Test'], loc='upper left')\n",
    "plt.show()\n",
    "print('Maximum validation accuracy: ',np.max(np.array(history.history['val_acc'])))\n",
    "print('Training accuracy of best model: ',np.array(history.history['acc'])[np.argmax(np.array(history.history['val_acc']))])\n"
   ]
  },
  {
   "cell_type": "code",
   "execution_count": 61,
   "metadata": {},
   "outputs": [
    {
     "name": "stdout",
     "output_type": "stream",
     "text": [
      "[[  85  147]\n",
      " [   5 1094]]\n",
      "the mean-f1 score: 0.74\n",
      "accuracy is: 0.89\n"
     ]
    }
   ],
   "source": [
    "model = load_model(model_name)\n",
    "y_pred = np.argmax(model.predict(X_test), axis=1)\n",
    "y_true = np.argmax(y_test, axis=1)\n",
    "cf_matrix = confusion_matrix(y_true, y_pred)\n",
    "print(cf_matrix)\n",
    "class_wise_f1 = np.round(f1_score(y_true, y_pred, average=None)*100)*0.01\n",
    "accuracy = accuracy_score(y_true, y_pred)\n",
    "\n",
    "\n",
    "print('the mean-f1 score: {:.2f}'.format(np.mean(class_wise_f1)))\n",
    "print('accuracy is: {:.2f}'.format(accuracy))\n"
   ]
  },
  {
   "cell_type": "code",
   "execution_count": 62,
   "metadata": {},
   "outputs": [
    {
     "name": "stdout",
     "output_type": "stream",
     "text": [
      "total_count of test files: 50\n",
      "correctly predicted test files: 45\n",
      "Percentage accuracy: 90.0\n",
      "total_count of train files: 188\n",
      "correctly predicted train files: 188\n",
      "Percentage accuracy: 100.0\n",
      "total_count of val files: 50\n",
      "correctly predicted val files: 46\n",
      "Percentage accuracy: 92.0\n"
     ]
    }
   ],
   "source": [
    "# Test data accuracy:\n",
    "total_count, correct_count = get_prediction_accuracy(data_dir_test, sub_dirs,pos_lab,neg_lab,labelfile,model)\n",
    "print('total_count of test files:', total_count)\n",
    "print('correctly predicted test files:', correct_count)\n",
    "print('Percentage accuracy:', (correct_count/total_count)*100.0)\n",
    "# Train accuracy\n",
    "total_count, correct_count = get_prediction_accuracy(data_dir_train, sub_dirs,pos_lab,neg_lab,labelfile,model)\n",
    "print('total_count of train files:', total_count)\n",
    "print('correctly predicted train files:', correct_count)\n",
    "print('Percentage accuracy:', (correct_count/total_count)*100.0)\n",
    "#val accuracy\n",
    "total_count, correct_count = get_prediction_accuracy(data_dir_val, sub_dirs,pos_lab,neg_lab,labelfile,model)\n",
    "print('total_count of val files:', total_count)\n",
    "print('correctly predicted val files:', correct_count)\n",
    "print('Percentage accuracy:', (correct_count/total_count)*100.0)"
   ]
  },
  {
   "cell_type": "code",
   "execution_count": 63,
   "metadata": {},
   "outputs": [],
   "source": [
    "del train_x, train_y, train_files, val_x, val_y, val_files, test_x, test_y,test_files\n",
    "del train_x2, train_y2, all_counts\n",
    "del train_x3, train_y3"
   ]
  },
  {
   "cell_type": "markdown",
   "metadata": {},
   "source": [
    "Take"
   ]
  },
  {
   "cell_type": "code",
   "execution_count": 64,
   "metadata": {},
   "outputs": [],
   "source": [
    "data_dir_train='data_m_take_TTV/train'\n",
    "data_dir_val= 'data_m_take_TTV/val'\n",
    "data_dir_test='data_m_take_TTV/test'\n",
    "pos_lab = 'Take'\n",
    "neg_lab = 'No'\n",
    "labelfile = 'LabelTake.csv'\n",
    "model_name = \"DCBL_micro_Take_jitter.hdf5\""
   ]
  },
  {
   "cell_type": "code",
   "execution_count": 65,
   "metadata": {
    "colab": {},
    "colab_type": "code",
    "id": "FEYY86nqUvoy",
    "scrolled": false
   },
   "outputs": [],
   "source": [
    "#receive windowed training and validation data\n",
    "train_x, train_y, train_files = get_train_data(data_dir_train,sub_dirs,pos_lab,neg_lab,labelfile)\n",
    "val_x, val_y, val_files = get_train_data(data_dir_val,sub_dirs,pos_lab,neg_lab,labelfile)\n",
    "test_x, test_y, test_files = get_train_data(data_dir_test,sub_dirs,pos_lab,neg_lab,labelfile)\n",
    "train_x2, train_y2, all_counts = get_train_data_2(data_dir_train,sub_dirs,pos_lab,neg_lab,labelfile)\n",
    "train_x3, train_y3, all_counts = get_train_data_3(data_dir_train,sub_dirs,pos_lab,neg_lab,labelfile)"
   ]
  },
  {
   "cell_type": "code",
   "execution_count": 66,
   "metadata": {
    "colab": {},
    "colab_type": "code",
    "id": "u2w_y9dmUvo1"
   },
   "outputs": [
    {
     "name": "stdout",
     "output_type": "stream",
     "text": [
      "(5095, 9, 500)\n",
      "(5095,)\n",
      "(5092, 9, 500)\n",
      "(5092,)\n",
      "(5096, 9, 500)\n",
      "(5096,)\n",
      "(1382, 9, 500)\n",
      "(1382,)\n",
      "(1336, 9, 500)\n",
      "(1336,)\n"
     ]
    }
   ],
   "source": [
    "train_samples_2 = np.array(train_x2) \n",
    "train_labels2_2 = np.array(train_y2)\n",
    "print(train_samples_2.shape)\n",
    "print(train_labels2_2.shape)\n",
    "train_samples_3 = np.array(train_x3) \n",
    "train_labels2_3 = np.array(train_y3)\n",
    "print(train_samples_3.shape)\n",
    "print(train_labels2_3.shape)\n",
    "train_samples = np.array(train_x) \n",
    "train_labels2 = np.array(train_y)\n",
    "val_samples = np.array(val_x) \n",
    "val_labels2 = np.array(val_y)\n",
    "test_samples = np.array(test_x) \n",
    "test_labels2 = np.array(test_y)\n",
    "print(train_samples.shape)\n",
    "print(train_labels2.shape)\n",
    "print(val_samples.shape)\n",
    "print(val_labels2.shape)\n",
    "print(test_samples.shape)\n",
    "print(test_labels2.shape)\n",
    "train_samples = np.vstack((train_samples,train_samples_2, train_samples_3))\n",
    "train_labels2 = np.hstack((train_labels2, train_labels2_2, train_labels2_3))"
   ]
  },
  {
   "cell_type": "code",
   "execution_count": 67,
   "metadata": {},
   "outputs": [
    {
     "name": "stdout",
     "output_type": "stream",
     "text": [
      "(15283, 9, 500)\n",
      "(15283,)\n",
      "(1382, 9, 500)\n",
      "(1382,)\n",
      "(1336, 9, 500)\n",
      "(1336,)\n"
     ]
    }
   ],
   "source": [
    "print(train_samples.shape)\n",
    "print(train_labels2.shape)\n",
    "print(val_samples.shape)\n",
    "print(val_labels2.shape)\n",
    "print(test_samples.shape)\n",
    "print(test_labels2.shape)"
   ]
  },
  {
   "cell_type": "code",
   "execution_count": 68,
   "metadata": {},
   "outputs": [
    {
     "name": "stdout",
     "output_type": "stream",
     "text": [
      "(15283, 9, 500)\n",
      "(15283, 2)\n",
      "(1382, 9, 500)\n",
      "(1382, 2)\n",
      "(1336, 9, 500)\n",
      "(1336,)\n"
     ]
    }
   ],
   "source": [
    "#convert to one hot encoding\n",
    "from keras.utils  import to_categorical\n",
    "train_labels = to_categorical(train_labels2)\n",
    "train_labels.shape\n",
    "val_labels = to_categorical(val_labels2)\n",
    "val_labels.shape\n",
    "test_labels = to_categorical(test_labels2)\n",
    "test_labels.shape\n",
    "print(train_samples.shape)\n",
    "print(train_labels.shape)\n",
    "print(val_samples.shape)\n",
    "print(val_labels.shape)\n",
    "print(test_samples.shape)\n",
    "print(test_labels2.shape)"
   ]
  },
  {
   "cell_type": "code",
   "execution_count": 69,
   "metadata": {},
   "outputs": [],
   "source": [
    "#For CNN and BidirLSTM:\n",
    "number_of_samples = 500\n",
    "train_samples = train_samples.reshape((-1, 9,number_of_samples, 1))\n",
    "val_samples = val_samples.reshape((-1, 9,number_of_samples, 1))\n",
    "test_samples = test_samples.reshape((-1, 9,number_of_samples, 1))\n",
    "#For LSTM, uncomment these lines and comment above two lines\n",
    "#train_samples = train_samples.reshape((-1, number_of_samples, 9))\n",
    "#val_samples = val_samples.reshape((-1, number_of_samples, 9))\n",
    "\n",
    "#9 refers to 9 accelerometer channels"
   ]
  },
  {
   "cell_type": "code",
   "execution_count": 70,
   "metadata": {
    "colab": {},
    "colab_type": "code",
    "id": "wf8LuDxlUvpH"
   },
   "outputs": [
    {
     "name": "stdout",
     "output_type": "stream",
     "text": [
      "500\n",
      "9\n"
     ]
    }
   ],
   "source": [
    "batch_size = 64\n",
    "num_feat_map = 128\n",
    "num_hidden_lstm = 128\n",
    "num_classes = 2\n",
    "\n",
    "#Uncomment the classifier you are working with:\n",
    "#network_type = 'CNN'\n",
    "network_type = 'ConvLSTM'\n",
    "#network_type = 'LSTM'\n",
    "#for CNN/DCBL\n",
    "_, dim, win_len,_ = train_samples.shape\n",
    "#for LSTM uncomment the following line and comment above line\n",
    "#_, dim, win_len = train_samples.shape\n",
    "\n",
    "print(win_len)\n",
    "print(dim)"
   ]
  },
  {
   "cell_type": "code",
   "execution_count": 71,
   "metadata": {
    "colab": {},
    "colab_type": "code",
    "id": "fAQRf1DNUvpK"
   },
   "outputs": [
    {
     "name": "stdout",
     "output_type": "stream",
     "text": [
      "building the model ... \n",
      "ConvLSTM\n",
      "_________________________________________________________________\n",
      "Layer (type)                 Output Shape              Param #   \n",
      "=================================================================\n",
      "conv2d_19 (Conv2D)           (None, 9, 500, 128)       1408      \n",
      "_________________________________________________________________\n",
      "conv2d_20 (Conv2D)           (None, 9, 500, 128)       163968    \n",
      "_________________________________________________________________\n",
      "batch_normalization_13 (Batc (None, 9, 500, 128)       512       \n",
      "_________________________________________________________________\n",
      "conv2d_21 (Conv2D)           (None, 9, 500, 128)       163968    \n",
      "_________________________________________________________________\n",
      "batch_normalization_14 (Batc (None, 9, 500, 128)       512       \n",
      "_________________________________________________________________\n",
      "max_pooling2d_10 (MaxPooling (None, 9, 166, 128)       0         \n",
      "_________________________________________________________________\n",
      "conv2d_22 (Conv2D)           (None, 9, 166, 128)       163968    \n",
      "_________________________________________________________________\n",
      "conv2d_23 (Conv2D)           (None, 9, 166, 128)       163968    \n",
      "_________________________________________________________________\n",
      "batch_normalization_15 (Batc (None, 9, 166, 128)       512       \n",
      "_________________________________________________________________\n",
      "max_pooling2d_11 (MaxPooling (None, 9, 83, 128)        0         \n",
      "_________________________________________________________________\n",
      "dropout_7 (Dropout)          (None, 9, 83, 128)        0         \n",
      "_________________________________________________________________\n",
      "conv2d_24 (Conv2D)           (None, 9, 83, 128)        163968    \n",
      "_________________________________________________________________\n",
      "batch_normalization_16 (Batc (None, 9, 83, 128)        512       \n",
      "_________________________________________________________________\n",
      "max_pooling2d_12 (MaxPooling (None, 9, 41, 128)        0         \n",
      "_________________________________________________________________\n",
      "dropout_8 (Dropout)          (None, 9, 41, 128)        0         \n",
      "_________________________________________________________________\n",
      "permute_4 (Permute)          (None, 41, 9, 128)        0         \n",
      "_________________________________________________________________\n",
      "reshape_4 (Reshape)          (None, 41, 1152)          0         \n",
      "_________________________________________________________________\n",
      "bidirectional_4 (Bidirection (None, 256)               1311744   \n",
      "_________________________________________________________________\n",
      "dense_4 (Dense)              (None, 2)                 514       \n",
      "=================================================================\n",
      "Total params: 2,135,554\n",
      "Trainable params: 2,134,530\n",
      "Non-trainable params: 1,024\n",
      "_________________________________________________________________\n"
     ]
    }
   ],
   "source": [
    "p=0.5 #Dropout\n",
    "b = 1 #BatchNorm\n",
    "print('building the model ... ')\n",
    "model = Sequential()\n",
    "\n",
    "if network_type=='CNN' or network_type=='ConvLSTM':\n",
    "    model_conv(model, num_feat_map,p,b)\n",
    "    model_variant(model, num_feat_map, dim, network_type,p)\n",
    "if network_type=='LSTM':\n",
    "    model_LSTM(model,p)\n",
    "       \n",
    "model_output(model)    \n",
    "model.summary()"
   ]
  },
  {
   "cell_type": "code",
   "execution_count": 72,
   "metadata": {
    "colab": {},
    "colab_type": "code",
    "id": "wrNCEAD8UvpL"
   },
   "outputs": [],
   "source": [
    "X_train = train_samples\n",
    "y_train = train_labels\n",
    "X_val = val_samples\n",
    "y_val = val_labels\n",
    "X_test = test_samples\n",
    "y_test = test_labels"
   ]
  },
  {
   "cell_type": "code",
   "execution_count": 73,
   "metadata": {
    "colab": {},
    "colab_type": "code",
    "id": "tNsDOBNrUvpN"
   },
   "outputs": [
    {
     "name": "stdout",
     "output_type": "stream",
     "text": [
      "(15283, 9, 500, 1) (1382, 9, 500, 1) (1336, 9, 500, 1)\n"
     ]
    }
   ],
   "source": [
    "print(X_train.shape, X_val.shape, X_test.shape)"
   ]
  },
  {
   "cell_type": "code",
   "execution_count": 74,
   "metadata": {},
   "outputs": [],
   "source": [
    "y_true = np.argmax(y_test, axis=1)"
   ]
  },
  {
   "cell_type": "code",
   "execution_count": 8,
   "metadata": {
    "colab": {},
    "colab_type": "code",
    "id": "YpsJRPEfUvpP",
    "scrolled": true
   },
   "outputs": [],
   "source": [
    "epochs = 40\n",
    "\n",
    "model.compile(loss=keras.losses.categorical_crossentropy,\n",
    "              optimizer='adam',\n",
    "              metrics=['accuracy'])\n",
    "\n",
    "# checkpoint\n",
    "filepath=model_name\n",
    "#checkpoint = ModelCheckpoint(filepath, monitor='val_acc', verbose=1, save_best_only=True, mode='max')\n",
    "\n",
    "checkpoint = ModelCheckpoint(filepath, monitor='val_acc', verbose=1, save_best_only=True)\n",
    "\n",
    "checkpoint2 = monitor_Training()\n",
    "\n",
    "callbacks_list = [checkpoint, checkpoint2]\n",
    "\n",
    "H = model.fit(train_samples, train_labels,\n",
    "            batch_size=batch_size,\n",
    "            epochs=epochs,\n",
    "            verbose=1,\n",
    "            shuffle=True,\n",
    "            validation_data=(X_val, y_val),\n",
    "             callbacks=callbacks_list\n",
    "             )"
   ]
  },
  {
   "cell_type": "code",
   "execution_count": 76,
   "metadata": {
    "colab": {},
    "colab_type": "code",
    "id": "_ASUmtFSUvpQ"
   },
   "outputs": [],
   "source": [
    "history = H"
   ]
  },
  {
   "cell_type": "code",
   "execution_count": 77,
   "metadata": {
    "colab": {},
    "colab_type": "code",
    "id": "C6yi5aaJUvpS"
   },
   "outputs": [
    {
     "name": "stdout",
     "output_type": "stream",
     "text": [
      "6\n"
     ]
    },
    {
     "data": {
      "image/png": "[encoded data removed]",
      "text/plain": [
       "<Figure size 432x288 with 1 Axes>"
      ]
     },
     "metadata": {
      "needs_background": "light"
     },
     "output_type": "display_data"
    },
    {
     "name": "stdout",
     "output_type": "stream",
     "text": [
      "Maximum validation accuracy:  0.8241678730364992\n",
      "Training accuracy of best model:  0.9919518419158542\n"
     ]
    }
   ],
   "source": [
    "import matplotlib.pyplot as plt\n",
    "\n",
    "# Plot training & validation accuracy values\n",
    "plt.plot(history.history['acc'])\n",
    "plt.plot(history.history['val_acc'])\n",
    "print(np.argmax(np.array(history.history['val_acc'])))\n",
    "plt.title('Model accuracy')\n",
    "plt.ylabel('Accuracy')\n",
    "plt.xlabel('Epoch')\n",
    "plt.legend(['Train', 'Test'], loc='upper left')\n",
    "plt.show()\n",
    "print('Maximum validation accuracy: ',np.max(np.array(history.history['val_acc'])))\n",
    "print('Training accuracy of best model: ',np.array(history.history['acc'])[np.argmax(np.array(history.history['val_acc']))])\n"
   ]
  },
  {
   "cell_type": "code",
   "execution_count": 78,
   "metadata": {},
   "outputs": [
    {
     "name": "stdout",
     "output_type": "stream",
     "text": [
      "[[477 128]\n",
      " [117 614]]\n",
      "the mean-f1 score: 0.82\n",
      "accuracy is: 0.82\n"
     ]
    }
   ],
   "source": [
    "model = load_model(model_name)\n",
    "y_pred = np.argmax(model.predict(X_test), axis=1)\n",
    "y_true = np.argmax(y_test, axis=1)\n",
    "cf_matrix = confusion_matrix(y_true, y_pred)\n",
    "print(cf_matrix)\n",
    "class_wise_f1 = np.round(f1_score(y_true, y_pred, average=None)*100)*0.01\n",
    "accuracy = accuracy_score(y_true, y_pred)\n",
    "\n",
    "\n",
    "print('the mean-f1 score: {:.2f}'.format(np.mean(class_wise_f1)))\n",
    "print('accuracy is: {:.2f}'.format(accuracy))\n"
   ]
  },
  {
   "cell_type": "code",
   "execution_count": 79,
   "metadata": {},
   "outputs": [
    {
     "name": "stdout",
     "output_type": "stream",
     "text": [
      "total_count of test files: 50\n",
      "correctly predicted test files: 42\n",
      "Percentage accuracy: 84.0\n",
      "total_count of train files: 188\n",
      "correctly predicted train files: 188\n",
      "Percentage accuracy: 100.0\n",
      "total_count of val files: 50\n",
      "correctly predicted val files: 45\n",
      "Percentage accuracy: 90.0\n"
     ]
    }
   ],
   "source": [
    "# Test data accuracy:\n",
    "total_count, correct_count = get_prediction_accuracy(data_dir_test, sub_dirs,pos_lab,neg_lab,labelfile,model)\n",
    "print('total_count of test files:', total_count)\n",
    "print('correctly predicted test files:', correct_count)\n",
    "print('Percentage accuracy:', (correct_count/total_count)*100.0)\n",
    "# Train accuracy\n",
    "total_count, correct_count = get_prediction_accuracy(data_dir_train, sub_dirs,pos_lab,neg_lab,labelfile,model)\n",
    "print('total_count of train files:', total_count)\n",
    "print('correctly predicted train files:', correct_count)\n",
    "print('Percentage accuracy:', (correct_count/total_count)*100.0)\n",
    "#val accuracy\n",
    "total_count, correct_count = get_prediction_accuracy(data_dir_val, sub_dirs,pos_lab,neg_lab,labelfile,model)\n",
    "print('total_count of val files:', total_count)\n",
    "print('correctly predicted val files:', correct_count)\n",
    "print('Percentage accuracy:', (correct_count/total_count)*100.0)"
   ]
  },
  {
   "cell_type": "code",
   "execution_count": 80,
   "metadata": {},
   "outputs": [],
   "source": [
    "del train_x, train_y, train_files, val_x, val_y, val_files, test_x, test_y,test_files\n",
    "del train_x2, train_y2, all_counts\n",
    "del train_x3, train_y3"
   ]
  },
  {
   "cell_type": "markdown",
   "metadata": {},
   "source": [
    "Put"
   ]
  },
  {
   "cell_type": "code",
   "execution_count": 81,
   "metadata": {},
   "outputs": [],
   "source": [
    "data_dir_train='data_m_put_TTV/train'\n",
    "data_dir_val= 'data_m_put_TTV/val'\n",
    "data_dir_test='data_m_put_TTV/test'\n",
    "pos_lab = 'Put'\n",
    "neg_lab = 'No'\n",
    "labelfile = 'LabelPut.csv'\n",
    "model_name = \"DCBL_micro_Put_jitter.hdf5\""
   ]
  },
  {
   "cell_type": "code",
   "execution_count": 82,
   "metadata": {
    "colab": {},
    "colab_type": "code",
    "id": "FEYY86nqUvoy",
    "scrolled": false
   },
   "outputs": [],
   "source": [
    "#receive windowed training and validation data\n",
    "train_x, train_y, train_files = get_train_data(data_dir_train,sub_dirs,pos_lab,neg_lab,labelfile)\n",
    "val_x, val_y, val_files = get_train_data(data_dir_val,sub_dirs,pos_lab,neg_lab,labelfile)\n",
    "test_x, test_y, test_files = get_train_data(data_dir_test,sub_dirs,pos_lab,neg_lab,labelfile)\n",
    "train_x2, train_y2, all_counts = get_train_data_2(data_dir_train,sub_dirs,pos_lab,neg_lab,labelfile)\n",
    "train_x3, train_y3, all_counts = get_train_data_3(data_dir_train,sub_dirs,pos_lab,neg_lab,labelfile)"
   ]
  },
  {
   "cell_type": "code",
   "execution_count": 83,
   "metadata": {
    "colab": {},
    "colab_type": "code",
    "id": "u2w_y9dmUvo1"
   },
   "outputs": [
    {
     "name": "stdout",
     "output_type": "stream",
     "text": [
      "(5116, 9, 500)\n",
      "(5116,)\n",
      "(5109, 9, 500)\n",
      "(5109,)\n",
      "(5117, 9, 500)\n",
      "(5117,)\n",
      "(1344, 9, 500)\n",
      "(1344,)\n",
      "(1353, 9, 500)\n",
      "(1353,)\n"
     ]
    }
   ],
   "source": [
    "train_samples_2 = np.array(train_x2) \n",
    "train_labels2_2 = np.array(train_y2)\n",
    "print(train_samples_2.shape)\n",
    "print(train_labels2_2.shape)\n",
    "train_samples_3 = np.array(train_x3) \n",
    "train_labels2_3 = np.array(train_y3)\n",
    "print(train_samples_3.shape)\n",
    "print(train_labels2_3.shape)\n",
    "train_samples = np.array(train_x) \n",
    "train_labels2 = np.array(train_y)\n",
    "val_samples = np.array(val_x) \n",
    "val_labels2 = np.array(val_y)\n",
    "test_samples = np.array(test_x) \n",
    "test_labels2 = np.array(test_y)\n",
    "print(train_samples.shape)\n",
    "print(train_labels2.shape)\n",
    "print(val_samples.shape)\n",
    "print(val_labels2.shape)\n",
    "print(test_samples.shape)\n",
    "print(test_labels2.shape)\n",
    "train_samples = np.vstack((train_samples,train_samples_2, train_samples_3))\n",
    "train_labels2 = np.hstack((train_labels2, train_labels2_2, train_labels2_3))"
   ]
  },
  {
   "cell_type": "code",
   "execution_count": 84,
   "metadata": {},
   "outputs": [
    {
     "name": "stdout",
     "output_type": "stream",
     "text": [
      "(15342, 9, 500)\n",
      "(15342,)\n",
      "(1344, 9, 500)\n",
      "(1344,)\n",
      "(1353, 9, 500)\n",
      "(1353,)\n"
     ]
    }
   ],
   "source": [
    "print(train_samples.shape)\n",
    "print(train_labels2.shape)\n",
    "print(val_samples.shape)\n",
    "print(val_labels2.shape)\n",
    "print(test_samples.shape)\n",
    "print(test_labels2.shape)"
   ]
  },
  {
   "cell_type": "code",
   "execution_count": 85,
   "metadata": {},
   "outputs": [
    {
     "name": "stdout",
     "output_type": "stream",
     "text": [
      "(15342, 9, 500)\n",
      "(15342, 2)\n",
      "(1344, 9, 500)\n",
      "(1344, 2)\n",
      "(1353, 9, 500)\n",
      "(1353,)\n"
     ]
    }
   ],
   "source": [
    "#convert to one hot encoding\n",
    "from keras.utils  import to_categorical\n",
    "train_labels = to_categorical(train_labels2)\n",
    "train_labels.shape\n",
    "val_labels = to_categorical(val_labels2)\n",
    "val_labels.shape\n",
    "test_labels = to_categorical(test_labels2)\n",
    "test_labels.shape\n",
    "print(train_samples.shape)\n",
    "print(train_labels.shape)\n",
    "print(val_samples.shape)\n",
    "print(val_labels.shape)\n",
    "print(test_samples.shape)\n",
    "print(test_labels2.shape)"
   ]
  },
  {
   "cell_type": "code",
   "execution_count": 86,
   "metadata": {},
   "outputs": [],
   "source": [
    "#For CNN and BidirLSTM:\n",
    "number_of_samples = 500\n",
    "train_samples = train_samples.reshape((-1, 9,number_of_samples, 1))\n",
    "val_samples = val_samples.reshape((-1, 9,number_of_samples, 1))\n",
    "test_samples = test_samples.reshape((-1, 9,number_of_samples, 1))\n",
    "#For LSTM, uncomment these lines and comment above two lines\n",
    "#train_samples = train_samples.reshape((-1, number_of_samples, 9))\n",
    "#val_samples = val_samples.reshape((-1, number_of_samples, 9))\n",
    "\n",
    "#9 refers to 9 accelerometer channels"
   ]
  },
  {
   "cell_type": "code",
   "execution_count": 87,
   "metadata": {
    "colab": {},
    "colab_type": "code",
    "id": "wf8LuDxlUvpH"
   },
   "outputs": [
    {
     "name": "stdout",
     "output_type": "stream",
     "text": [
      "500\n",
      "9\n"
     ]
    }
   ],
   "source": [
    "batch_size = 64\n",
    "num_feat_map = 128\n",
    "num_hidden_lstm = 128\n",
    "num_classes = 2\n",
    "\n",
    "#Uncomment the classifier you are working with:\n",
    "#network_type = 'CNN'\n",
    "network_type = 'ConvLSTM'\n",
    "#network_type = 'LSTM'\n",
    "#for CNN/DCBL\n",
    "_, dim, win_len,_ = train_samples.shape\n",
    "#for LSTM uncomment the following line and comment above line\n",
    "#_, dim, win_len = train_samples.shape\n",
    "\n",
    "print(win_len)\n",
    "print(dim)"
   ]
  },
  {
   "cell_type": "code",
   "execution_count": 88,
   "metadata": {
    "colab": {},
    "colab_type": "code",
    "id": "fAQRf1DNUvpK"
   },
   "outputs": [
    {
     "name": "stdout",
     "output_type": "stream",
     "text": [
      "building the model ... \n",
      "ConvLSTM\n",
      "_________________________________________________________________\n",
      "Layer (type)                 Output Shape              Param #   \n",
      "=================================================================\n",
      "conv2d_25 (Conv2D)           (None, 9, 500, 128)       1408      \n",
      "_________________________________________________________________\n",
      "conv2d_26 (Conv2D)           (None, 9, 500, 128)       163968    \n",
      "_________________________________________________________________\n",
      "batch_normalization_17 (Batc (None, 9, 500, 128)       512       \n",
      "_________________________________________________________________\n",
      "conv2d_27 (Conv2D)           (None, 9, 500, 128)       163968    \n",
      "_________________________________________________________________\n",
      "batch_normalization_18 (Batc (None, 9, 500, 128)       512       \n",
      "_________________________________________________________________\n",
      "max_pooling2d_13 (MaxPooling (None, 9, 166, 128)       0         \n",
      "_________________________________________________________________\n",
      "conv2d_28 (Conv2D)           (None, 9, 166, 128)       163968    \n",
      "_________________________________________________________________\n",
      "conv2d_29 (Conv2D)           (None, 9, 166, 128)       163968    \n",
      "_________________________________________________________________\n",
      "batch_normalization_19 (Batc (None, 9, 166, 128)       512       \n",
      "_________________________________________________________________\n",
      "max_pooling2d_14 (MaxPooling (None, 9, 83, 128)        0         \n",
      "_________________________________________________________________\n",
      "dropout_9 (Dropout)          (None, 9, 83, 128)        0         \n",
      "_________________________________________________________________\n",
      "conv2d_30 (Conv2D)           (None, 9, 83, 128)        163968    \n",
      "_________________________________________________________________\n",
      "batch_normalization_20 (Batc (None, 9, 83, 128)        512       \n",
      "_________________________________________________________________\n",
      "max_pooling2d_15 (MaxPooling (None, 9, 41, 128)        0         \n",
      "_________________________________________________________________\n",
      "dropout_10 (Dropout)         (None, 9, 41, 128)        0         \n",
      "_________________________________________________________________\n",
      "permute_5 (Permute)          (None, 41, 9, 128)        0         \n",
      "_________________________________________________________________\n",
      "reshape_5 (Reshape)          (None, 41, 1152)          0         \n",
      "_________________________________________________________________\n",
      "bidirectional_5 (Bidirection (None, 256)               1311744   \n",
      "_________________________________________________________________\n",
      "dense_5 (Dense)              (None, 2)                 514       \n",
      "=================================================================\n",
      "Total params: 2,135,554\n",
      "Trainable params: 2,134,530\n",
      "Non-trainable params: 1,024\n",
      "_________________________________________________________________\n"
     ]
    }
   ],
   "source": [
    "p=0.5 #Dropout\n",
    "b = 1 #BatchNorm\n",
    "print('building the model ... ')\n",
    "model = Sequential()\n",
    "\n",
    "if network_type=='CNN' or network_type=='ConvLSTM':\n",
    "    model_conv(model, num_feat_map,p,b)\n",
    "    model_variant(model, num_feat_map, dim, network_type,p)\n",
    "if network_type=='LSTM':\n",
    "    model_LSTM(model,p)\n",
    "       \n",
    "model_output(model)    \n",
    "model.summary()"
   ]
  },
  {
   "cell_type": "code",
   "execution_count": 89,
   "metadata": {
    "colab": {},
    "colab_type": "code",
    "id": "wrNCEAD8UvpL"
   },
   "outputs": [],
   "source": [
    "X_train = train_samples\n",
    "y_train = train_labels\n",
    "X_val = val_samples\n",
    "y_val = val_labels\n",
    "X_test = test_samples\n",
    "y_test = test_labels"
   ]
  },
  {
   "cell_type": "code",
   "execution_count": 90,
   "metadata": {
    "colab": {},
    "colab_type": "code",
    "id": "tNsDOBNrUvpN"
   },
   "outputs": [
    {
     "name": "stdout",
     "output_type": "stream",
     "text": [
      "(15342, 9, 500, 1) (1344, 9, 500, 1) (1353, 9, 500, 1)\n"
     ]
    }
   ],
   "source": [
    "print(X_train.shape, X_val.shape, X_test.shape)"
   ]
  },
  {
   "cell_type": "code",
   "execution_count": 91,
   "metadata": {},
   "outputs": [],
   "source": [
    "y_true = np.argmax(y_test, axis=1)"
   ]
  },
  {
   "cell_type": "code",
   "execution_count": 7,
   "metadata": {
    "colab": {},
    "colab_type": "code",
    "id": "YpsJRPEfUvpP",
    "scrolled": true
   },
   "outputs": [],
   "source": [
    "epochs = 40\n",
    "\n",
    "model.compile(loss=keras.losses.categorical_crossentropy,\n",
    "              optimizer='adam',\n",
    "              metrics=['accuracy'])\n",
    "\n",
    "# checkpoint\n",
    "filepath=model_name\n",
    "#checkpoint = ModelCheckpoint(filepath, monitor='val_acc', verbose=1, save_best_only=True, mode='max')\n",
    "\n",
    "checkpoint = ModelCheckpoint(filepath, monitor='val_acc', verbose=1, save_best_only=True)\n",
    "\n",
    "checkpoint2 = monitor_Training()\n",
    "\n",
    "callbacks_list = [checkpoint, checkpoint2]\n",
    "\n",
    "H = model.fit(train_samples, train_labels,\n",
    "            batch_size=batch_size,\n",
    "            epochs=epochs,\n",
    "            verbose=1,\n",
    "            shuffle=True,\n",
    "            validation_data=(X_val, y_val),\n",
    "             callbacks=callbacks_list\n",
    "             )"
   ]
  },
  {
   "cell_type": "code",
   "execution_count": 93,
   "metadata": {
    "colab": {},
    "colab_type": "code",
    "id": "_ASUmtFSUvpQ"
   },
   "outputs": [],
   "source": [
    "history = H"
   ]
  },
  {
   "cell_type": "code",
   "execution_count": 94,
   "metadata": {
    "colab": {},
    "colab_type": "code",
    "id": "C6yi5aaJUvpS"
   },
   "outputs": [
    {
     "name": "stdout",
     "output_type": "stream",
     "text": [
      "35\n"
     ]
    },
    {
     "data": {
      "image/png": "[encoded data removed]",
      "text/plain": [
       "<Figure size 432x288 with 1 Axes>"
      ]
     },
     "metadata": {
      "needs_background": "light"
     },
     "output_type": "display_data"
    },
    {
     "name": "stdout",
     "output_type": "stream",
     "text": [
      "Maximum validation accuracy:  0.7924107142857143\n",
      "Training accuracy of best model:  0.9915917090340243\n"
     ]
    }
   ],
   "source": [
    "import matplotlib.pyplot as plt\n",
    "\n",
    "# Plot training & validation accuracy values\n",
    "plt.plot(history.history['acc'])\n",
    "plt.plot(history.history['val_acc'])\n",
    "print(np.argmax(np.array(history.history['val_acc'])))\n",
    "plt.title('Model accuracy')\n",
    "plt.ylabel('Accuracy')\n",
    "plt.xlabel('Epoch')\n",
    "plt.legend(['Train', 'Test'], loc='upper left')\n",
    "plt.show()\n",
    "print('Maximum validation accuracy: ',np.max(np.array(history.history['val_acc'])))\n",
    "print('Training accuracy of best model: ',np.array(history.history['acc'])[np.argmax(np.array(history.history['val_acc']))])\n"
   ]
  },
  {
   "cell_type": "code",
   "execution_count": 95,
   "metadata": {},
   "outputs": [
    {
     "name": "stdout",
     "output_type": "stream",
     "text": [
      "[[377  77]\n",
      " [152 747]]\n",
      "the mean-f1 score: 0.82\n",
      "accuracy is: 0.83\n"
     ]
    }
   ],
   "source": [
    "model = load_model(model_name)\n",
    "y_pred = np.argmax(model.predict(X_test), axis=1)\n",
    "y_true = np.argmax(y_test, axis=1)\n",
    "cf_matrix = confusion_matrix(y_true, y_pred)\n",
    "print(cf_matrix)\n",
    "class_wise_f1 = np.round(f1_score(y_true, y_pred, average=None)*100)*0.01\n",
    "accuracy = accuracy_score(y_true, y_pred)\n",
    "\n",
    "\n",
    "print('the mean-f1 score: {:.2f}'.format(np.mean(class_wise_f1)))\n",
    "print('accuracy is: {:.2f}'.format(accuracy))\n"
   ]
  },
  {
   "cell_type": "code",
   "execution_count": 96,
   "metadata": {},
   "outputs": [
    {
     "name": "stdout",
     "output_type": "stream",
     "text": [
      "total_count of test files: 50\n",
      "correctly predicted test files: 45\n",
      "Percentage accuracy: 90.0\n",
      "total_count of train files: 189\n",
      "correctly predicted train files: 189\n",
      "Percentage accuracy: 100.0\n",
      "total_count of val files: 49\n",
      "correctly predicted val files: 41\n",
      "Percentage accuracy: 83.6734693877551\n"
     ]
    }
   ],
   "source": [
    "# Test data accuracy:\n",
    "total_count, correct_count = get_prediction_accuracy(data_dir_test, sub_dirs,pos_lab,neg_lab,labelfile,model)\n",
    "print('total_count of test files:', total_count)\n",
    "print('correctly predicted test files:', correct_count)\n",
    "print('Percentage accuracy:', (correct_count/total_count)*100.0)\n",
    "# Train accuracy\n",
    "total_count, correct_count = get_prediction_accuracy(data_dir_train, sub_dirs,pos_lab,neg_lab,labelfile,model)\n",
    "print('total_count of train files:', total_count)\n",
    "print('correctly predicted train files:', correct_count)\n",
    "print('Percentage accuracy:', (correct_count/total_count)*100.0)\n",
    "#val accuracy\n",
    "total_count, correct_count = get_prediction_accuracy(data_dir_val, sub_dirs,pos_lab,neg_lab,labelfile,model)\n",
    "print('total_count of val files:', total_count)\n",
    "print('correctly predicted val files:', correct_count)\n",
    "print('Percentage accuracy:', (correct_count/total_count)*100.0)"
   ]
  },
  {
   "cell_type": "code",
   "execution_count": 97,
   "metadata": {},
   "outputs": [],
   "source": [
    "del train_x, train_y, train_files, val_x, val_y, val_files, test_x, test_y,test_files\n",
    "del train_x2, train_y2, all_counts\n",
    "del train_x3, train_y3"
   ]
  },
  {
   "cell_type": "markdown",
   "metadata": {},
   "source": [
    "Peel"
   ]
  },
  {
   "cell_type": "code",
   "execution_count": 98,
   "metadata": {},
   "outputs": [],
   "source": [
    "data_dir_train='data_m_peel_TTV/train'\n",
    "data_dir_val= 'data_m_peel_TTV/val'\n",
    "data_dir_test='data_m_peel_TTV/test'\n",
    "pos_lab = 'Peel'\n",
    "neg_lab = 'No'\n",
    "labelfile = 'LabelPeel.csv'\n",
    "model_name = \"DCBL_micro_Peel_jitter.hdf5\""
   ]
  },
  {
   "cell_type": "code",
   "execution_count": 99,
   "metadata": {
    "colab": {},
    "colab_type": "code",
    "id": "FEYY86nqUvoy",
    "scrolled": false
   },
   "outputs": [],
   "source": [
    "#receive windowed training and validation data\n",
    "train_x, train_y, train_files = get_train_data(data_dir_train,sub_dirs,pos_lab,neg_lab,labelfile)\n",
    "val_x, val_y, val_files = get_train_data(data_dir_val,sub_dirs,pos_lab,neg_lab,labelfile)\n",
    "test_x, test_y, test_files = get_train_data(data_dir_test,sub_dirs,pos_lab,neg_lab,labelfile)\n",
    "train_x2, train_y2, all_counts = get_train_data_2(data_dir_train,sub_dirs,pos_lab,neg_lab,labelfile)\n",
    "train_x3, train_y3, all_counts = get_train_data_3(data_dir_train,sub_dirs,pos_lab,neg_lab,labelfile)"
   ]
  },
  {
   "cell_type": "code",
   "execution_count": 100,
   "metadata": {
    "colab": {},
    "colab_type": "code",
    "id": "u2w_y9dmUvo1"
   },
   "outputs": [
    {
     "name": "stdout",
     "output_type": "stream",
     "text": [
      "(5161, 9, 500)\n",
      "(5161,)\n",
      "(5162, 9, 500)\n",
      "(5162,)\n",
      "(5163, 9, 500)\n",
      "(5163,)\n",
      "(1280, 9, 500)\n",
      "(1280,)\n",
      "(1371, 9, 500)\n",
      "(1371,)\n"
     ]
    }
   ],
   "source": [
    "train_samples_2 = np.array(train_x2) \n",
    "train_labels2_2 = np.array(train_y2)\n",
    "print(train_samples_2.shape)\n",
    "print(train_labels2_2.shape)\n",
    "train_samples_3 = np.array(train_x3) \n",
    "train_labels2_3 = np.array(train_y3)\n",
    "print(train_samples_3.shape)\n",
    "print(train_labels2_3.shape)\n",
    "train_samples = np.array(train_x) \n",
    "train_labels2 = np.array(train_y)\n",
    "val_samples = np.array(val_x) \n",
    "val_labels2 = np.array(val_y)\n",
    "test_samples = np.array(test_x) \n",
    "test_labels2 = np.array(test_y)\n",
    "print(train_samples.shape)\n",
    "print(train_labels2.shape)\n",
    "print(val_samples.shape)\n",
    "print(val_labels2.shape)\n",
    "print(test_samples.shape)\n",
    "print(test_labels2.shape)\n",
    "train_samples = np.vstack((train_samples,train_samples_2, train_samples_3))\n",
    "train_labels2 = np.hstack((train_labels2, train_labels2_2, train_labels2_3))"
   ]
  },
  {
   "cell_type": "code",
   "execution_count": 101,
   "metadata": {},
   "outputs": [
    {
     "name": "stdout",
     "output_type": "stream",
     "text": [
      "(15486, 9, 500)\n",
      "(15486,)\n",
      "(1280, 9, 500)\n",
      "(1280,)\n",
      "(1371, 9, 500)\n",
      "(1371,)\n"
     ]
    }
   ],
   "source": [
    "print(train_samples.shape)\n",
    "print(train_labels2.shape)\n",
    "print(val_samples.shape)\n",
    "print(val_labels2.shape)\n",
    "print(test_samples.shape)\n",
    "print(test_labels2.shape)"
   ]
  },
  {
   "cell_type": "code",
   "execution_count": 102,
   "metadata": {},
   "outputs": [
    {
     "name": "stdout",
     "output_type": "stream",
     "text": [
      "(15486, 9, 500)\n",
      "(15486, 2)\n",
      "(1280, 9, 500)\n",
      "(1280, 2)\n",
      "(1371, 9, 500)\n",
      "(1371,)\n"
     ]
    }
   ],
   "source": [
    "#convert to one hot encoding\n",
    "from keras.utils  import to_categorical\n",
    "train_labels = to_categorical(train_labels2)\n",
    "train_labels.shape\n",
    "val_labels = to_categorical(val_labels2)\n",
    "val_labels.shape\n",
    "test_labels = to_categorical(test_labels2)\n",
    "test_labels.shape\n",
    "print(train_samples.shape)\n",
    "print(train_labels.shape)\n",
    "print(val_samples.shape)\n",
    "print(val_labels.shape)\n",
    "print(test_samples.shape)\n",
    "print(test_labels2.shape)"
   ]
  },
  {
   "cell_type": "code",
   "execution_count": 103,
   "metadata": {},
   "outputs": [],
   "source": [
    "#For CNN and BidirLSTM:\n",
    "number_of_samples = 500\n",
    "train_samples = train_samples.reshape((-1, 9,number_of_samples, 1))\n",
    "val_samples = val_samples.reshape((-1, 9,number_of_samples, 1))\n",
    "test_samples = test_samples.reshape((-1, 9,number_of_samples, 1))\n",
    "#For LSTM, uncomment these lines and comment above two lines\n",
    "#train_samples = train_samples.reshape((-1, number_of_samples, 9))\n",
    "#val_samples = val_samples.reshape((-1, number_of_samples, 9))\n",
    "\n",
    "#9 refers to 9 accelerometer channels"
   ]
  },
  {
   "cell_type": "code",
   "execution_count": 104,
   "metadata": {
    "colab": {},
    "colab_type": "code",
    "id": "wf8LuDxlUvpH"
   },
   "outputs": [
    {
     "name": "stdout",
     "output_type": "stream",
     "text": [
      "500\n",
      "9\n"
     ]
    }
   ],
   "source": [
    "batch_size = 64\n",
    "num_feat_map = 128\n",
    "num_hidden_lstm = 128\n",
    "num_classes = 2\n",
    "\n",
    "#Uncomment the classifier you are working with:\n",
    "#network_type = 'CNN'\n",
    "network_type = 'ConvLSTM'\n",
    "#network_type = 'LSTM'\n",
    "#for CNN/DCBL\n",
    "_, dim, win_len,_ = train_samples.shape\n",
    "#for LSTM uncomment the following line and comment above line\n",
    "#_, dim, win_len = train_samples.shape\n",
    "\n",
    "print(win_len)\n",
    "print(dim)"
   ]
  },
  {
   "cell_type": "code",
   "execution_count": 105,
   "metadata": {
    "colab": {},
    "colab_type": "code",
    "id": "fAQRf1DNUvpK"
   },
   "outputs": [
    {
     "name": "stdout",
     "output_type": "stream",
     "text": [
      "building the model ... \n",
      "ConvLSTM\n",
      "_________________________________________________________________\n",
      "Layer (type)                 Output Shape              Param #   \n",
      "=================================================================\n",
      "conv2d_31 (Conv2D)           (None, 9, 500, 128)       1408      \n",
      "_________________________________________________________________\n",
      "conv2d_32 (Conv2D)           (None, 9, 500, 128)       163968    \n",
      "_________________________________________________________________\n",
      "batch_normalization_21 (Batc (None, 9, 500, 128)       512       \n",
      "_________________________________________________________________\n",
      "conv2d_33 (Conv2D)           (None, 9, 500, 128)       163968    \n",
      "_________________________________________________________________\n",
      "batch_normalization_22 (Batc (None, 9, 500, 128)       512       \n",
      "_________________________________________________________________\n",
      "max_pooling2d_16 (MaxPooling (None, 9, 166, 128)       0         \n",
      "_________________________________________________________________\n",
      "conv2d_34 (Conv2D)           (None, 9, 166, 128)       163968    \n",
      "_________________________________________________________________\n",
      "conv2d_35 (Conv2D)           (None, 9, 166, 128)       163968    \n",
      "_________________________________________________________________\n",
      "batch_normalization_23 (Batc (None, 9, 166, 128)       512       \n",
      "_________________________________________________________________\n",
      "max_pooling2d_17 (MaxPooling (None, 9, 83, 128)        0         \n",
      "_________________________________________________________________\n",
      "dropout_11 (Dropout)         (None, 9, 83, 128)        0         \n",
      "_________________________________________________________________\n",
      "conv2d_36 (Conv2D)           (None, 9, 83, 128)        163968    \n",
      "_________________________________________________________________\n",
      "batch_normalization_24 (Batc (None, 9, 83, 128)        512       \n",
      "_________________________________________________________________\n",
      "max_pooling2d_18 (MaxPooling (None, 9, 41, 128)        0         \n",
      "_________________________________________________________________\n",
      "dropout_12 (Dropout)         (None, 9, 41, 128)        0         \n",
      "_________________________________________________________________\n",
      "permute_6 (Permute)          (None, 41, 9, 128)        0         \n",
      "_________________________________________________________________\n",
      "reshape_6 (Reshape)          (None, 41, 1152)          0         \n",
      "_________________________________________________________________\n",
      "bidirectional_6 (Bidirection (None, 256)               1311744   \n",
      "_________________________________________________________________\n",
      "dense_6 (Dense)              (None, 2)                 514       \n",
      "=================================================================\n",
      "Total params: 2,135,554\n",
      "Trainable params: 2,134,530\n",
      "Non-trainable params: 1,024\n",
      "_________________________________________________________________\n"
     ]
    }
   ],
   "source": [
    "p=0.5 #Dropout\n",
    "b = 1 #BatchNorm\n",
    "print('building the model ... ')\n",
    "model = Sequential()\n",
    "\n",
    "if network_type=='CNN' or network_type=='ConvLSTM':\n",
    "    model_conv(model, num_feat_map,p,b)\n",
    "    model_variant(model, num_feat_map, dim, network_type,p)\n",
    "if network_type=='LSTM':\n",
    "    model_LSTM(model,p)\n",
    "       \n",
    "model_output(model)    \n",
    "model.summary()"
   ]
  },
  {
   "cell_type": "code",
   "execution_count": 106,
   "metadata": {
    "colab": {},
    "colab_type": "code",
    "id": "wrNCEAD8UvpL"
   },
   "outputs": [],
   "source": [
    "X_train = train_samples\n",
    "y_train = train_labels\n",
    "X_val = val_samples\n",
    "y_val = val_labels\n",
    "X_test = test_samples\n",
    "y_test = test_labels"
   ]
  },
  {
   "cell_type": "code",
   "execution_count": 107,
   "metadata": {
    "colab": {},
    "colab_type": "code",
    "id": "tNsDOBNrUvpN"
   },
   "outputs": [
    {
     "name": "stdout",
     "output_type": "stream",
     "text": [
      "(15486, 9, 500, 1) (1280, 9, 500, 1) (1371, 9, 500, 1)\n"
     ]
    }
   ],
   "source": [
    "print(X_train.shape, X_val.shape, X_test.shape)"
   ]
  },
  {
   "cell_type": "code",
   "execution_count": 108,
   "metadata": {},
   "outputs": [],
   "source": [
    "y_true = np.argmax(y_test, axis=1)"
   ]
  },
  {
   "cell_type": "code",
   "execution_count": 6,
   "metadata": {
    "colab": {},
    "colab_type": "code",
    "id": "YpsJRPEfUvpP",
    "scrolled": true
   },
   "outputs": [],
   "source": [
    "epochs = 40\n",
    "\n",
    "model.compile(loss=keras.losses.categorical_crossentropy,\n",
    "              optimizer='adam',\n",
    "              metrics=['accuracy'])\n",
    "\n",
    "# checkpoint\n",
    "filepath=model_name\n",
    "#checkpoint = ModelCheckpoint(filepath, monitor='val_acc', verbose=1, save_best_only=True, mode='max')\n",
    "\n",
    "checkpoint = ModelCheckpoint(filepath, monitor='val_acc', verbose=1, save_best_only=True)\n",
    "\n",
    "checkpoint2 = monitor_Training()\n",
    "\n",
    "callbacks_list = [checkpoint, checkpoint2]\n",
    "\n",
    "H = model.fit(train_samples, train_labels,\n",
    "            batch_size=batch_size,\n",
    "            epochs=epochs,\n",
    "            verbose=1,\n",
    "            shuffle=True,\n",
    "            validation_data=(X_val, y_val),\n",
    "             callbacks=callbacks_list\n",
    "             )"
   ]
  },
  {
   "cell_type": "code",
   "execution_count": 110,
   "metadata": {
    "colab": {},
    "colab_type": "code",
    "id": "_ASUmtFSUvpQ"
   },
   "outputs": [],
   "source": [
    "history = H"
   ]
  },
  {
   "cell_type": "code",
   "execution_count": 111,
   "metadata": {
    "colab": {},
    "colab_type": "code",
    "id": "C6yi5aaJUvpS"
   },
   "outputs": [
    {
     "name": "stdout",
     "output_type": "stream",
     "text": [
      "4\n"
     ]
    },
    {
     "data": {
      "image/png": "[encoded data removed]",
      "text/plain": [
       "<Figure size 432x288 with 1 Axes>"
      ]
     },
     "metadata": {
      "needs_background": "light"
     },
     "output_type": "display_data"
    },
    {
     "name": "stdout",
     "output_type": "stream",
     "text": [
      "Maximum validation accuracy:  0.8515625\n",
      "Training accuracy of best model:  0.9806276637578247\n"
     ]
    }
   ],
   "source": [
    "import matplotlib.pyplot as plt\n",
    "\n",
    "# Plot training & validation accuracy values\n",
    "plt.plot(history.history['acc'])\n",
    "plt.plot(history.history['val_acc'])\n",
    "print(np.argmax(np.array(history.history['val_acc'])))\n",
    "plt.title('Model accuracy')\n",
    "plt.ylabel('Accuracy')\n",
    "plt.xlabel('Epoch')\n",
    "plt.legend(['Train', 'Test'], loc='upper left')\n",
    "plt.show()\n",
    "print('Maximum validation accuracy: ',np.max(np.array(history.history['val_acc'])))\n",
    "print('Training accuracy of best model: ',np.array(history.history['acc'])[np.argmax(np.array(history.history['val_acc']))])\n"
   ]
  },
  {
   "cell_type": "code",
   "execution_count": 112,
   "metadata": {},
   "outputs": [
    {
     "name": "stdout",
     "output_type": "stream",
     "text": [
      "[[316  90]\n",
      " [ 85 880]]\n",
      "the mean-f1 score: 0.84\n",
      "accuracy is: 0.87\n"
     ]
    }
   ],
   "source": [
    "model = load_model(model_name)\n",
    "y_pred = np.argmax(model.predict(X_test), axis=1)\n",
    "y_true = np.argmax(y_test, axis=1)\n",
    "cf_matrix = confusion_matrix(y_true, y_pred)\n",
    "print(cf_matrix)\n",
    "class_wise_f1 = np.round(f1_score(y_true, y_pred, average=None)*100)*0.01\n",
    "accuracy = accuracy_score(y_true, y_pred)\n",
    "\n",
    "\n",
    "print('the mean-f1 score: {:.2f}'.format(np.mean(class_wise_f1)))\n",
    "print('accuracy is: {:.2f}'.format(accuracy))\n"
   ]
  },
  {
   "cell_type": "code",
   "execution_count": 113,
   "metadata": {},
   "outputs": [
    {
     "name": "stdout",
     "output_type": "stream",
     "text": [
      "total_count of test files: 50\n",
      "correctly predicted test files: 49\n",
      "Percentage accuracy: 98.0\n",
      "total_count of train files: 188\n",
      "correctly predicted train files: 188\n",
      "Percentage accuracy: 100.0\n",
      "total_count of val files: 50\n",
      "correctly predicted val files: 48\n",
      "Percentage accuracy: 96.0\n"
     ]
    }
   ],
   "source": [
    "# Test data accuracy:\n",
    "total_count, correct_count = get_prediction_accuracy(data_dir_test, sub_dirs,pos_lab,neg_lab,labelfile,model)\n",
    "print('total_count of test files:', total_count)\n",
    "print('correctly predicted test files:', correct_count)\n",
    "print('Percentage accuracy:', (correct_count/total_count)*100.0)\n",
    "# Train accuracy\n",
    "total_count, correct_count = get_prediction_accuracy(data_dir_train, sub_dirs,pos_lab,neg_lab,labelfile,model)\n",
    "print('total_count of train files:', total_count)\n",
    "print('correctly predicted train files:', correct_count)\n",
    "print('Percentage accuracy:', (correct_count/total_count)*100.0)\n",
    "#val accuracy\n",
    "total_count, correct_count = get_prediction_accuracy(data_dir_val, sub_dirs,pos_lab,neg_lab,labelfile,model)\n",
    "print('total_count of val files:', total_count)\n",
    "print('correctly predicted val files:', correct_count)\n",
    "print('Percentage accuracy:', (correct_count/total_count)*100.0)"
   ]
  },
  {
   "cell_type": "code",
   "execution_count": 114,
   "metadata": {},
   "outputs": [],
   "source": [
    "del train_x, train_y, train_files, val_x, val_y, val_files, test_x, test_y,test_files\n",
    "del train_x2, train_y2, all_counts\n",
    "del train_x3, train_y3"
   ]
  },
  {
   "cell_type": "markdown",
   "metadata": {},
   "source": [
    "Mix"
   ]
  },
  {
   "cell_type": "code",
   "execution_count": 115,
   "metadata": {},
   "outputs": [],
   "source": [
    "data_dir_train='data_m_mix_TTV/train'\n",
    "data_dir_val= 'data_m_mix_TTV/val'\n",
    "data_dir_test='data_m_mix_TTV/test'\n",
    "pos_lab = 'Mix'\n",
    "neg_lab = 'No'\n",
    "labelfile = 'LabelMix.csv'\n",
    "model_name = \"DCBL_micro_Mix_jitter.hdf5\""
   ]
  },
  {
   "cell_type": "code",
   "execution_count": 116,
   "metadata": {
    "colab": {},
    "colab_type": "code",
    "id": "FEYY86nqUvoy",
    "scrolled": false
   },
   "outputs": [],
   "source": [
    "#receive windowed training and validation data\n",
    "train_x, train_y, train_files = get_train_data(data_dir_train,sub_dirs,pos_lab,neg_lab,labelfile)\n",
    "val_x, val_y, val_files = get_train_data(data_dir_val,sub_dirs,pos_lab,neg_lab,labelfile)\n",
    "test_x, test_y, test_files = get_train_data(data_dir_test,sub_dirs,pos_lab,neg_lab,labelfile)\n",
    "train_x2, train_y2, all_counts = get_train_data_2(data_dir_train,sub_dirs,pos_lab,neg_lab,labelfile)\n",
    "train_x3, train_y3, all_counts = get_train_data_3(data_dir_train,sub_dirs,pos_lab,neg_lab,labelfile)"
   ]
  },
  {
   "cell_type": "code",
   "execution_count": 117,
   "metadata": {
    "colab": {},
    "colab_type": "code",
    "id": "u2w_y9dmUvo1"
   },
   "outputs": [
    {
     "name": "stdout",
     "output_type": "stream",
     "text": [
      "(5042, 9, 500)\n",
      "(5042,)\n",
      "(5034, 9, 500)\n",
      "(5034,)\n",
      "(5044, 9, 500)\n",
      "(5044,)\n",
      "(1407, 9, 500)\n",
      "(1407,)\n",
      "(1363, 9, 500)\n",
      "(1363,)\n"
     ]
    }
   ],
   "source": [
    "train_samples_2 = np.array(train_x2) \n",
    "train_labels2_2 = np.array(train_y2)\n",
    "print(train_samples_2.shape)\n",
    "print(train_labels2_2.shape)\n",
    "train_samples_3 = np.array(train_x3) \n",
    "train_labels2_3 = np.array(train_y3)\n",
    "print(train_samples_3.shape)\n",
    "print(train_labels2_3.shape)\n",
    "train_samples = np.array(train_x) \n",
    "train_labels2 = np.array(train_y)\n",
    "val_samples = np.array(val_x) \n",
    "val_labels2 = np.array(val_y)\n",
    "test_samples = np.array(test_x) \n",
    "test_labels2 = np.array(test_y)\n",
    "print(train_samples.shape)\n",
    "print(train_labels2.shape)\n",
    "print(val_samples.shape)\n",
    "print(val_labels2.shape)\n",
    "print(test_samples.shape)\n",
    "print(test_labels2.shape)\n",
    "train_samples = np.vstack((train_samples,train_samples_2, train_samples_3))\n",
    "train_labels2 = np.hstack((train_labels2, train_labels2_2, train_labels2_3))"
   ]
  },
  {
   "cell_type": "code",
   "execution_count": 118,
   "metadata": {},
   "outputs": [
    {
     "name": "stdout",
     "output_type": "stream",
     "text": [
      "(15120, 9, 500)\n",
      "(15120,)\n",
      "(1407, 9, 500)\n",
      "(1407,)\n",
      "(1363, 9, 500)\n",
      "(1363,)\n"
     ]
    }
   ],
   "source": [
    "print(train_samples.shape)\n",
    "print(train_labels2.shape)\n",
    "print(val_samples.shape)\n",
    "print(val_labels2.shape)\n",
    "print(test_samples.shape)\n",
    "print(test_labels2.shape)"
   ]
  },
  {
   "cell_type": "code",
   "execution_count": 119,
   "metadata": {},
   "outputs": [
    {
     "name": "stdout",
     "output_type": "stream",
     "text": [
      "(15120, 9, 500)\n",
      "(15120, 2)\n",
      "(1407, 9, 500)\n",
      "(1407, 2)\n",
      "(1363, 9, 500)\n",
      "(1363,)\n"
     ]
    }
   ],
   "source": [
    "#convert to one hot encoding\n",
    "from keras.utils  import to_categorical\n",
    "train_labels = to_categorical(train_labels2)\n",
    "train_labels.shape\n",
    "val_labels = to_categorical(val_labels2)\n",
    "val_labels.shape\n",
    "test_labels = to_categorical(test_labels2)\n",
    "test_labels.shape\n",
    "print(train_samples.shape)\n",
    "print(train_labels.shape)\n",
    "print(val_samples.shape)\n",
    "print(val_labels.shape)\n",
    "print(test_samples.shape)\n",
    "print(test_labels2.shape)"
   ]
  },
  {
   "cell_type": "code",
   "execution_count": 120,
   "metadata": {},
   "outputs": [],
   "source": [
    "#For CNN and BidirLSTM:\n",
    "number_of_samples = 500\n",
    "train_samples = train_samples.reshape((-1, 9,number_of_samples, 1))\n",
    "val_samples = val_samples.reshape((-1, 9,number_of_samples, 1))\n",
    "test_samples = test_samples.reshape((-1, 9,number_of_samples, 1))\n",
    "#For LSTM, uncomment these lines and comment above two lines\n",
    "#train_samples = train_samples.reshape((-1, number_of_samples, 9))\n",
    "#val_samples = val_samples.reshape((-1, number_of_samples, 9))\n",
    "\n",
    "#9 refers to 9 accelerometer channels"
   ]
  },
  {
   "cell_type": "code",
   "execution_count": 121,
   "metadata": {
    "colab": {},
    "colab_type": "code",
    "id": "wf8LuDxlUvpH"
   },
   "outputs": [
    {
     "name": "stdout",
     "output_type": "stream",
     "text": [
      "500\n",
      "9\n"
     ]
    }
   ],
   "source": [
    "batch_size = 64\n",
    "num_feat_map = 128\n",
    "num_hidden_lstm = 128\n",
    "num_classes = 2\n",
    "\n",
    "#Uncomment the classifier you are working with:\n",
    "#network_type = 'CNN'\n",
    "network_type = 'ConvLSTM'\n",
    "#network_type = 'LSTM'\n",
    "#for CNN/DCBL\n",
    "_, dim, win_len,_ = train_samples.shape\n",
    "#for LSTM uncomment the following line and comment above line\n",
    "#_, dim, win_len = train_samples.shape\n",
    "\n",
    "print(win_len)\n",
    "print(dim)"
   ]
  },
  {
   "cell_type": "code",
   "execution_count": 122,
   "metadata": {
    "colab": {},
    "colab_type": "code",
    "id": "fAQRf1DNUvpK"
   },
   "outputs": [
    {
     "name": "stdout",
     "output_type": "stream",
     "text": [
      "building the model ... \n",
      "ConvLSTM\n",
      "_________________________________________________________________\n",
      "Layer (type)                 Output Shape              Param #   \n",
      "=================================================================\n",
      "conv2d_37 (Conv2D)           (None, 9, 500, 128)       1408      \n",
      "_________________________________________________________________\n",
      "conv2d_38 (Conv2D)           (None, 9, 500, 128)       163968    \n",
      "_________________________________________________________________\n",
      "batch_normalization_25 (Batc (None, 9, 500, 128)       512       \n",
      "_________________________________________________________________\n",
      "conv2d_39 (Conv2D)           (None, 9, 500, 128)       163968    \n",
      "_________________________________________________________________\n",
      "batch_normalization_26 (Batc (None, 9, 500, 128)       512       \n",
      "_________________________________________________________________\n",
      "max_pooling2d_19 (MaxPooling (None, 9, 166, 128)       0         \n",
      "_________________________________________________________________\n",
      "conv2d_40 (Conv2D)           (None, 9, 166, 128)       163968    \n",
      "_________________________________________________________________\n",
      "conv2d_41 (Conv2D)           (None, 9, 166, 128)       163968    \n",
      "_________________________________________________________________\n",
      "batch_normalization_27 (Batc (None, 9, 166, 128)       512       \n",
      "_________________________________________________________________\n",
      "max_pooling2d_20 (MaxPooling (None, 9, 83, 128)        0         \n",
      "_________________________________________________________________\n",
      "dropout_13 (Dropout)         (None, 9, 83, 128)        0         \n",
      "_________________________________________________________________\n",
      "conv2d_42 (Conv2D)           (None, 9, 83, 128)        163968    \n",
      "_________________________________________________________________\n",
      "batch_normalization_28 (Batc (None, 9, 83, 128)        512       \n",
      "_________________________________________________________________\n",
      "max_pooling2d_21 (MaxPooling (None, 9, 41, 128)        0         \n",
      "_________________________________________________________________\n",
      "dropout_14 (Dropout)         (None, 9, 41, 128)        0         \n",
      "_________________________________________________________________\n",
      "permute_7 (Permute)          (None, 41, 9, 128)        0         \n",
      "_________________________________________________________________\n",
      "reshape_7 (Reshape)          (None, 41, 1152)          0         \n",
      "_________________________________________________________________\n",
      "bidirectional_7 (Bidirection (None, 256)               1311744   \n",
      "_________________________________________________________________\n",
      "dense_7 (Dense)              (None, 2)                 514       \n",
      "=================================================================\n",
      "Total params: 2,135,554\n",
      "Trainable params: 2,134,530\n",
      "Non-trainable params: 1,024\n",
      "_________________________________________________________________\n"
     ]
    }
   ],
   "source": [
    "p=0.5 #Dropout\n",
    "b = 1 #BatchNorm\n",
    "print('building the model ... ')\n",
    "model = Sequential()\n",
    "\n",
    "if network_type=='CNN' or network_type=='ConvLSTM':\n",
    "    model_conv(model, num_feat_map,p,b)\n",
    "    model_variant(model, num_feat_map, dim, network_type,p)\n",
    "if network_type=='LSTM':\n",
    "    model_LSTM(model,p)\n",
    "       \n",
    "model_output(model)    \n",
    "model.summary()"
   ]
  },
  {
   "cell_type": "code",
   "execution_count": 123,
   "metadata": {
    "colab": {},
    "colab_type": "code",
    "id": "wrNCEAD8UvpL"
   },
   "outputs": [],
   "source": [
    "X_train = train_samples\n",
    "y_train = train_labels\n",
    "X_val = val_samples\n",
    "y_val = val_labels\n",
    "X_test = test_samples\n",
    "y_test = test_labels"
   ]
  },
  {
   "cell_type": "code",
   "execution_count": 124,
   "metadata": {
    "colab": {},
    "colab_type": "code",
    "id": "tNsDOBNrUvpN"
   },
   "outputs": [
    {
     "name": "stdout",
     "output_type": "stream",
     "text": [
      "(15120, 9, 500, 1) (1407, 9, 500, 1) (1363, 9, 500, 1)\n"
     ]
    }
   ],
   "source": [
    "print(X_train.shape, X_val.shape, X_test.shape)"
   ]
  },
  {
   "cell_type": "code",
   "execution_count": 125,
   "metadata": {},
   "outputs": [],
   "source": [
    "y_true = np.argmax(y_test, axis=1)"
   ]
  },
  {
   "cell_type": "code",
   "execution_count": 5,
   "metadata": {
    "colab": {},
    "colab_type": "code",
    "id": "YpsJRPEfUvpP",
    "scrolled": true
   },
   "outputs": [],
   "source": [
    "epochs = 40\n",
    "\n",
    "model.compile(loss=keras.losses.categorical_crossentropy,\n",
    "              optimizer='adam',\n",
    "              metrics=['accuracy'])\n",
    "\n",
    "# checkpoint\n",
    "filepath=model_name\n",
    "#checkpoint = ModelCheckpoint(filepath, monitor='val_acc', verbose=1, save_best_only=True, mode='max')\n",
    "\n",
    "checkpoint = ModelCheckpoint(filepath, monitor='val_acc', verbose=1, save_best_only=True)\n",
    "\n",
    "checkpoint2 = monitor_Training()\n",
    "\n",
    "callbacks_list = [checkpoint, checkpoint2]\n",
    "\n",
    "H = model.fit(train_samples, train_labels,\n",
    "            batch_size=batch_size,\n",
    "            epochs=epochs,\n",
    "            verbose=1,\n",
    "            shuffle=True,\n",
    "            validation_data=(X_val, y_val),\n",
    "             callbacks=callbacks_list\n",
    "             )"
   ]
  },
  {
   "cell_type": "code",
   "execution_count": 127,
   "metadata": {
    "colab": {},
    "colab_type": "code",
    "id": "_ASUmtFSUvpQ"
   },
   "outputs": [],
   "source": [
    "history = H"
   ]
  },
  {
   "cell_type": "code",
   "execution_count": 128,
   "metadata": {
    "colab": {},
    "colab_type": "code",
    "id": "C6yi5aaJUvpS"
   },
   "outputs": [
    {
     "name": "stdout",
     "output_type": "stream",
     "text": [
      "14\n"
     ]
    },
    {
     "data": {
      "image/png": "[encoded data removed]",
      "text/plain": [
       "<Figure size 432x288 with 1 Axes>"
      ]
     },
     "metadata": {
      "needs_background": "light"
     },
     "output_type": "display_data"
    },
    {
     "name": "stdout",
     "output_type": "stream",
     "text": [
      "Maximum validation accuracy:  0.9388770433546553\n",
      "Training accuracy of best model:  0.9998677248677249\n"
     ]
    }
   ],
   "source": [
    "import matplotlib.pyplot as plt\n",
    "\n",
    "# Plot training & validation accuracy values\n",
    "plt.plot(history.history['acc'])\n",
    "plt.plot(history.history['val_acc'])\n",
    "print(np.argmax(np.array(history.history['val_acc'])))\n",
    "plt.title('Model accuracy')\n",
    "plt.ylabel('Accuracy')\n",
    "plt.xlabel('Epoch')\n",
    "plt.legend(['Train', 'Test'], loc='upper left')\n",
    "plt.show()\n",
    "print('Maximum validation accuracy: ',np.max(np.array(history.history['val_acc'])))\n",
    "print('Training accuracy of best model: ',np.array(history.history['acc'])[np.argmax(np.array(history.history['val_acc']))])\n"
   ]
  },
  {
   "cell_type": "code",
   "execution_count": 129,
   "metadata": {},
   "outputs": [
    {
     "name": "stdout",
     "output_type": "stream",
     "text": [
      "[[  12   91]\n",
      " [   3 1257]]\n",
      "the mean-f1 score: 0.58\n",
      "accuracy is: 0.93\n"
     ]
    }
   ],
   "source": [
    "model = load_model(model_name)\n",
    "y_pred = np.argmax(model.predict(X_test), axis=1)\n",
    "y_true = np.argmax(y_test, axis=1)\n",
    "cf_matrix = confusion_matrix(y_true, y_pred)\n",
    "print(cf_matrix)\n",
    "class_wise_f1 = np.round(f1_score(y_true, y_pred, average=None)*100)*0.01\n",
    "accuracy = accuracy_score(y_true, y_pred)\n",
    "\n",
    "\n",
    "print('the mean-f1 score: {:.2f}'.format(np.mean(class_wise_f1)))\n",
    "print('accuracy is: {:.2f}'.format(accuracy))\n"
   ]
  },
  {
   "cell_type": "code",
   "execution_count": 130,
   "metadata": {},
   "outputs": [
    {
     "name": "stdout",
     "output_type": "stream",
     "text": [
      "total_count of test files: 50\n",
      "correctly predicted test files: 46\n",
      "Percentage accuracy: 92.0\n",
      "total_count of train files: 187\n",
      "correctly predicted train files: 187\n",
      "Percentage accuracy: 100.0\n",
      "total_count of val files: 51\n",
      "correctly predicted val files: 47\n",
      "Percentage accuracy: 92.15686274509804\n"
     ]
    }
   ],
   "source": [
    "# Test data accuracy:\n",
    "total_count, correct_count = get_prediction_accuracy(data_dir_test, sub_dirs,pos_lab,neg_lab,labelfile,model)\n",
    "print('total_count of test files:', total_count)\n",
    "print('correctly predicted test files:', correct_count)\n",
    "print('Percentage accuracy:', (correct_count/total_count)*100.0)\n",
    "# Train accuracy\n",
    "total_count, correct_count = get_prediction_accuracy(data_dir_train, sub_dirs,pos_lab,neg_lab,labelfile,model)\n",
    "print('total_count of train files:', total_count)\n",
    "print('correctly predicted train files:', correct_count)\n",
    "print('Percentage accuracy:', (correct_count/total_count)*100.0)\n",
    "#val accuracy\n",
    "total_count, correct_count = get_prediction_accuracy(data_dir_val, sub_dirs,pos_lab,neg_lab,labelfile,model)\n",
    "print('total_count of val files:', total_count)\n",
    "print('correctly predicted val files:', correct_count)\n",
    "print('Percentage accuracy:', (correct_count/total_count)*100.0)"
   ]
  },
  {
   "cell_type": "code",
   "execution_count": 131,
   "metadata": {},
   "outputs": [],
   "source": [
    "del train_x, train_y, train_files, val_x, val_y, val_files, test_x, test_y,test_files\n",
    "del train_x2, train_y2, all_counts\n",
    "del train_x3, train_y3"
   ]
  },
  {
   "cell_type": "markdown",
   "metadata": {},
   "source": [
    "Pour"
   ]
  },
  {
   "cell_type": "code",
   "execution_count": 132,
   "metadata": {},
   "outputs": [],
   "source": [
    "data_dir_train='data_m_pour_TTV/train'\n",
    "data_dir_val= 'data_m_pour_TTV/val'\n",
    "data_dir_test='data_m_pour_TTV/test'\n",
    "pos_lab = 'Pour'\n",
    "neg_lab = 'No'\n",
    "labelfile = 'LabelPour.csv'\n",
    "model_name = \"DCBL_micro_Pour_jitter.hdf5\""
   ]
  },
  {
   "cell_type": "code",
   "execution_count": 133,
   "metadata": {
    "colab": {},
    "colab_type": "code",
    "id": "FEYY86nqUvoy",
    "scrolled": false
   },
   "outputs": [],
   "source": [
    "#receive windowed training and validation data\n",
    "train_x, train_y, train_files = get_train_data(data_dir_train,sub_dirs,pos_lab,neg_lab,labelfile)\n",
    "val_x, val_y, val_files = get_train_data(data_dir_val,sub_dirs,pos_lab,neg_lab,labelfile)\n",
    "test_x, test_y, test_files = get_train_data(data_dir_test,sub_dirs,pos_lab,neg_lab,labelfile)\n",
    "train_x2, train_y2, all_counts = get_train_data_2(data_dir_train,sub_dirs,pos_lab,neg_lab,labelfile)\n",
    "train_x3, train_y3, all_counts = get_train_data_3(data_dir_train,sub_dirs,pos_lab,neg_lab,labelfile)"
   ]
  },
  {
   "cell_type": "code",
   "execution_count": 134,
   "metadata": {
    "colab": {},
    "colab_type": "code",
    "id": "u2w_y9dmUvo1"
   },
   "outputs": [
    {
     "name": "stdout",
     "output_type": "stream",
     "text": [
      "(5206, 9, 500)\n",
      "(5206,)\n",
      "(5187, 9, 500)\n",
      "(5187,)\n",
      "(5205, 9, 500)\n",
      "(5205,)\n",
      "(1274, 9, 500)\n",
      "(1274,)\n",
      "(1335, 9, 500)\n",
      "(1335,)\n"
     ]
    }
   ],
   "source": [
    "train_samples_2 = np.array(train_x2) \n",
    "train_labels2_2 = np.array(train_y2)\n",
    "print(train_samples_2.shape)\n",
    "print(train_labels2_2.shape)\n",
    "train_samples_3 = np.array(train_x3) \n",
    "train_labels2_3 = np.array(train_y3)\n",
    "print(train_samples_3.shape)\n",
    "print(train_labels2_3.shape)\n",
    "train_samples = np.array(train_x) \n",
    "train_labels2 = np.array(train_y)\n",
    "val_samples = np.array(val_x) \n",
    "val_labels2 = np.array(val_y)\n",
    "test_samples = np.array(test_x) \n",
    "test_labels2 = np.array(test_y)\n",
    "print(train_samples.shape)\n",
    "print(train_labels2.shape)\n",
    "print(val_samples.shape)\n",
    "print(val_labels2.shape)\n",
    "print(test_samples.shape)\n",
    "print(test_labels2.shape)\n",
    "train_samples = np.vstack((train_samples,train_samples_2, train_samples_3))\n",
    "train_labels2 = np.hstack((train_labels2, train_labels2_2, train_labels2_3))"
   ]
  },
  {
   "cell_type": "code",
   "execution_count": 135,
   "metadata": {},
   "outputs": [
    {
     "name": "stdout",
     "output_type": "stream",
     "text": [
      "(15598, 9, 500)\n",
      "(15598,)\n",
      "(1274, 9, 500)\n",
      "(1274,)\n",
      "(1335, 9, 500)\n",
      "(1335,)\n"
     ]
    }
   ],
   "source": [
    "print(train_samples.shape)\n",
    "print(train_labels2.shape)\n",
    "print(val_samples.shape)\n",
    "print(val_labels2.shape)\n",
    "print(test_samples.shape)\n",
    "print(test_labels2.shape)"
   ]
  },
  {
   "cell_type": "code",
   "execution_count": 136,
   "metadata": {},
   "outputs": [
    {
     "name": "stdout",
     "output_type": "stream",
     "text": [
      "(15598, 9, 500)\n",
      "(15598, 2)\n",
      "(1274, 9, 500)\n",
      "(1274, 2)\n",
      "(1335, 9, 500)\n",
      "(1335,)\n"
     ]
    }
   ],
   "source": [
    "#convert to one hot encoding\n",
    "from keras.utils  import to_categorical\n",
    "train_labels = to_categorical(train_labels2)\n",
    "train_labels.shape\n",
    "val_labels = to_categorical(val_labels2)\n",
    "val_labels.shape\n",
    "test_labels = to_categorical(test_labels2)\n",
    "test_labels.shape\n",
    "print(train_samples.shape)\n",
    "print(train_labels.shape)\n",
    "print(val_samples.shape)\n",
    "print(val_labels.shape)\n",
    "print(test_samples.shape)\n",
    "print(test_labels2.shape)"
   ]
  },
  {
   "cell_type": "code",
   "execution_count": 137,
   "metadata": {},
   "outputs": [],
   "source": [
    "#For CNN and BidirLSTM:\n",
    "number_of_samples = 500\n",
    "train_samples = train_samples.reshape((-1, 9,number_of_samples, 1))\n",
    "val_samples = val_samples.reshape((-1, 9,number_of_samples, 1))\n",
    "test_samples = test_samples.reshape((-1, 9,number_of_samples, 1))\n",
    "#For LSTM, uncomment these lines and comment above two lines\n",
    "#train_samples = train_samples.reshape((-1, number_of_samples, 9))\n",
    "#val_samples = val_samples.reshape((-1, number_of_samples, 9))\n",
    "\n",
    "#9 refers to 9 accelerometer channels"
   ]
  },
  {
   "cell_type": "code",
   "execution_count": 138,
   "metadata": {
    "colab": {},
    "colab_type": "code",
    "id": "wf8LuDxlUvpH"
   },
   "outputs": [
    {
     "name": "stdout",
     "output_type": "stream",
     "text": [
      "500\n",
      "9\n"
     ]
    }
   ],
   "source": [
    "batch_size = 64\n",
    "num_feat_map = 128\n",
    "num_hidden_lstm = 128\n",
    "num_classes = 2\n",
    "\n",
    "#Uncomment the classifier you are working with:\n",
    "#network_type = 'CNN'\n",
    "network_type = 'ConvLSTM'\n",
    "#network_type = 'LSTM'\n",
    "#for CNN/DCBL\n",
    "_, dim, win_len,_ = train_samples.shape\n",
    "#for LSTM uncomment the following line and comment above line\n",
    "#_, dim, win_len = train_samples.shape\n",
    "\n",
    "print(win_len)\n",
    "print(dim)"
   ]
  },
  {
   "cell_type": "code",
   "execution_count": 139,
   "metadata": {
    "colab": {},
    "colab_type": "code",
    "id": "fAQRf1DNUvpK"
   },
   "outputs": [
    {
     "name": "stdout",
     "output_type": "stream",
     "text": [
      "building the model ... \n",
      "ConvLSTM\n",
      "_________________________________________________________________\n",
      "Layer (type)                 Output Shape              Param #   \n",
      "=================================================================\n",
      "conv2d_43 (Conv2D)           (None, 9, 500, 128)       1408      \n",
      "_________________________________________________________________\n",
      "conv2d_44 (Conv2D)           (None, 9, 500, 128)       163968    \n",
      "_________________________________________________________________\n",
      "batch_normalization_29 (Batc (None, 9, 500, 128)       512       \n",
      "_________________________________________________________________\n",
      "conv2d_45 (Conv2D)           (None, 9, 500, 128)       163968    \n",
      "_________________________________________________________________\n",
      "batch_normalization_30 (Batc (None, 9, 500, 128)       512       \n",
      "_________________________________________________________________\n",
      "max_pooling2d_22 (MaxPooling (None, 9, 166, 128)       0         \n",
      "_________________________________________________________________\n",
      "conv2d_46 (Conv2D)           (None, 9, 166, 128)       163968    \n",
      "_________________________________________________________________\n",
      "conv2d_47 (Conv2D)           (None, 9, 166, 128)       163968    \n",
      "_________________________________________________________________\n",
      "batch_normalization_31 (Batc (None, 9, 166, 128)       512       \n",
      "_________________________________________________________________\n",
      "max_pooling2d_23 (MaxPooling (None, 9, 83, 128)        0         \n",
      "_________________________________________________________________\n",
      "dropout_15 (Dropout)         (None, 9, 83, 128)        0         \n",
      "_________________________________________________________________\n",
      "conv2d_48 (Conv2D)           (None, 9, 83, 128)        163968    \n",
      "_________________________________________________________________\n",
      "batch_normalization_32 (Batc (None, 9, 83, 128)        512       \n",
      "_________________________________________________________________\n",
      "max_pooling2d_24 (MaxPooling (None, 9, 41, 128)        0         \n",
      "_________________________________________________________________\n",
      "dropout_16 (Dropout)         (None, 9, 41, 128)        0         \n",
      "_________________________________________________________________\n",
      "permute_8 (Permute)          (None, 41, 9, 128)        0         \n",
      "_________________________________________________________________\n",
      "reshape_8 (Reshape)          (None, 41, 1152)          0         \n",
      "_________________________________________________________________\n",
      "bidirectional_8 (Bidirection (None, 256)               1311744   \n",
      "_________________________________________________________________\n",
      "dense_8 (Dense)              (None, 2)                 514       \n",
      "=================================================================\n",
      "Total params: 2,135,554\n",
      "Trainable params: 2,134,530\n",
      "Non-trainable params: 1,024\n",
      "_________________________________________________________________\n"
     ]
    }
   ],
   "source": [
    "p=0.5 #Dropout\n",
    "b = 1 #BatchNorm\n",
    "print('building the model ... ')\n",
    "model = Sequential()\n",
    "\n",
    "if network_type=='CNN' or network_type=='ConvLSTM':\n",
    "    model_conv(model, num_feat_map,p,b)\n",
    "    model_variant(model, num_feat_map, dim, network_type,p)\n",
    "if network_type=='LSTM':\n",
    "    model_LSTM(model,p)\n",
    "       \n",
    "model_output(model)    \n",
    "model.summary()"
   ]
  },
  {
   "cell_type": "code",
   "execution_count": 140,
   "metadata": {
    "colab": {},
    "colab_type": "code",
    "id": "wrNCEAD8UvpL"
   },
   "outputs": [],
   "source": [
    "X_train = train_samples\n",
    "y_train = train_labels\n",
    "X_val = val_samples\n",
    "y_val = val_labels\n",
    "X_test = test_samples\n",
    "y_test = test_labels"
   ]
  },
  {
   "cell_type": "code",
   "execution_count": 141,
   "metadata": {
    "colab": {},
    "colab_type": "code",
    "id": "tNsDOBNrUvpN"
   },
   "outputs": [
    {
     "name": "stdout",
     "output_type": "stream",
     "text": [
      "(15598, 9, 500, 1) (1274, 9, 500, 1) (1335, 9, 500, 1)\n"
     ]
    }
   ],
   "source": [
    "print(X_train.shape, X_val.shape, X_test.shape)"
   ]
  },
  {
   "cell_type": "code",
   "execution_count": 142,
   "metadata": {},
   "outputs": [],
   "source": [
    "y_true = np.argmax(y_test, axis=1)"
   ]
  },
  {
   "cell_type": "code",
   "execution_count": 4,
   "metadata": {
    "colab": {},
    "colab_type": "code",
    "id": "YpsJRPEfUvpP",
    "scrolled": true
   },
   "outputs": [],
   "source": [
    "epochs = 40\n",
    "\n",
    "model.compile(loss=keras.losses.categorical_crossentropy,\n",
    "              optimizer='adam',\n",
    "              metrics=['accuracy'])\n",
    "\n",
    "# checkpoint\n",
    "filepath=model_name\n",
    "#checkpoint = ModelCheckpoint(filepath, monitor='val_acc', verbose=1, save_best_only=True, mode='max')\n",
    "\n",
    "checkpoint = ModelCheckpoint(filepath, monitor='val_acc', verbose=1, save_best_only=True)\n",
    "\n",
    "checkpoint2 = monitor_Training()\n",
    "\n",
    "callbacks_list = [checkpoint, checkpoint2]\n",
    "\n",
    "H = model.fit(train_samples, train_labels,\n",
    "            batch_size=batch_size,\n",
    "            epochs=epochs,\n",
    "            verbose=1,\n",
    "            shuffle=True,\n",
    "            validation_data=(X_val, y_val),\n",
    "             callbacks=callbacks_list\n",
    "             )"
   ]
  },
  {
   "cell_type": "code",
   "execution_count": 144,
   "metadata": {
    "colab": {},
    "colab_type": "code",
    "id": "_ASUmtFSUvpQ"
   },
   "outputs": [],
   "source": [
    "history = H"
   ]
  },
  {
   "cell_type": "code",
   "execution_count": 145,
   "metadata": {
    "colab": {},
    "colab_type": "code",
    "id": "C6yi5aaJUvpS"
   },
   "outputs": [
    {
     "name": "stdout",
     "output_type": "stream",
     "text": [
      "9\n"
     ]
    },
    {
     "data": {
      "image/png": "[encoded data removed]",
      "text/plain": [
       "<Figure size 432x288 with 1 Axes>"
      ]
     },
     "metadata": {
      "needs_background": "light"
     },
     "output_type": "display_data"
    },
    {
     "name": "stdout",
     "output_type": "stream",
     "text": [
      "Maximum validation accuracy:  0.9246467817896389\n",
      "Training accuracy of best model:  0.9992306705987947\n"
     ]
    }
   ],
   "source": [
    "import matplotlib.pyplot as plt\n",
    "\n",
    "# Plot training & validation accuracy values\n",
    "plt.plot(history.history['acc'])\n",
    "plt.plot(history.history['val_acc'])\n",
    "print(np.argmax(np.array(history.history['val_acc'])))\n",
    "plt.title('Model accuracy')\n",
    "plt.ylabel('Accuracy')\n",
    "plt.xlabel('Epoch')\n",
    "plt.legend(['Train', 'Test'], loc='upper left')\n",
    "plt.show()\n",
    "print('Maximum validation accuracy: ',np.max(np.array(history.history['val_acc'])))\n",
    "print('Training accuracy of best model: ',np.array(history.history['acc'])[np.argmax(np.array(history.history['val_acc']))])\n"
   ]
  },
  {
   "cell_type": "code",
   "execution_count": 146,
   "metadata": {},
   "outputs": [
    {
     "name": "stdout",
     "output_type": "stream",
     "text": [
      "[[  37  110]\n",
      " [   4 1184]]\n",
      "the mean-f1 score: 0.67\n",
      "accuracy is: 0.91\n"
     ]
    }
   ],
   "source": [
    "model = load_model(model_name)\n",
    "y_pred = np.argmax(model.predict(X_test), axis=1)\n",
    "y_true = np.argmax(y_test, axis=1)\n",
    "cf_matrix = confusion_matrix(y_true, y_pred)\n",
    "print(cf_matrix)\n",
    "class_wise_f1 = np.round(f1_score(y_true, y_pred, average=None)*100)*0.01\n",
    "accuracy = accuracy_score(y_true, y_pred)\n",
    "\n",
    "\n",
    "print('the mean-f1 score: {:.2f}'.format(np.mean(class_wise_f1)))\n",
    "print('accuracy is: {:.2f}'.format(accuracy))\n"
   ]
  },
  {
   "cell_type": "code",
   "execution_count": 147,
   "metadata": {},
   "outputs": [
    {
     "name": "stdout",
     "output_type": "stream",
     "text": [
      "total_count of test files: 50\n",
      "correctly predicted test files: 45\n",
      "Percentage accuracy: 90.0\n",
      "total_count of train files: 188\n",
      "correctly predicted train files: 188\n",
      "Percentage accuracy: 100.0\n",
      "total_count of val files: 50\n",
      "correctly predicted val files: 46\n",
      "Percentage accuracy: 92.0\n"
     ]
    }
   ],
   "source": [
    "# Test data accuracy:\n",
    "total_count, correct_count = get_prediction_accuracy(data_dir_test, sub_dirs,pos_lab,neg_lab,labelfile,model)\n",
    "print('total_count of test files:', total_count)\n",
    "print('correctly predicted test files:', correct_count)\n",
    "print('Percentage accuracy:', (correct_count/total_count)*100.0)\n",
    "# Train accuracy\n",
    "total_count, correct_count = get_prediction_accuracy(data_dir_train, sub_dirs,pos_lab,neg_lab,labelfile,model)\n",
    "print('total_count of train files:', total_count)\n",
    "print('correctly predicted train files:', correct_count)\n",
    "print('Percentage accuracy:', (correct_count/total_count)*100.0)\n",
    "#val accuracy\n",
    "total_count, correct_count = get_prediction_accuracy(data_dir_val, sub_dirs,pos_lab,neg_lab,labelfile,model)\n",
    "print('total_count of val files:', total_count)\n",
    "print('correctly predicted val files:', correct_count)\n",
    "print('Percentage accuracy:', (correct_count/total_count)*100.0)"
   ]
  },
  {
   "cell_type": "code",
   "execution_count": 148,
   "metadata": {},
   "outputs": [],
   "source": [
    "del train_x, train_y, train_files, val_x, val_y, val_files, test_x, test_y,test_files\n",
    "del train_x2, train_y2, all_counts\n",
    "del train_x3, train_y3"
   ]
  },
  {
   "cell_type": "markdown",
   "metadata": {},
   "source": [
    "Open"
   ]
  },
  {
   "cell_type": "code",
   "execution_count": 149,
   "metadata": {},
   "outputs": [],
   "source": [
    "data_dir_train='data_m_open_TTV/train'\n",
    "data_dir_val= 'data_m_open_TTV/val'\n",
    "data_dir_test='data_m_open_TTV/test'\n",
    "pos_lab = 'Open'\n",
    "neg_lab = 'No'\n",
    "labelfile = 'LabelOpen.csv'\n",
    "model_name = \"DCBL_micro_Open_jitter.hdf5\""
   ]
  },
  {
   "cell_type": "code",
   "execution_count": 150,
   "metadata": {
    "colab": {},
    "colab_type": "code",
    "id": "FEYY86nqUvoy",
    "scrolled": false
   },
   "outputs": [],
   "source": [
    "#receive windowed training and validation data\n",
    "train_x, train_y, train_files = get_train_data(data_dir_train,sub_dirs,pos_lab,neg_lab,labelfile)\n",
    "val_x, val_y, val_files = get_train_data(data_dir_val,sub_dirs,pos_lab,neg_lab,labelfile)\n",
    "test_x, test_y, test_files = get_train_data(data_dir_test,sub_dirs,pos_lab,neg_lab,labelfile)\n",
    "train_x2, train_y2, all_counts = get_train_data_2(data_dir_train,sub_dirs,pos_lab,neg_lab,labelfile)\n",
    "train_x3, train_y3, all_counts = get_train_data_3(data_dir_train,sub_dirs,pos_lab,neg_lab,labelfile)"
   ]
  },
  {
   "cell_type": "code",
   "execution_count": 151,
   "metadata": {
    "colab": {},
    "colab_type": "code",
    "id": "u2w_y9dmUvo1"
   },
   "outputs": [
    {
     "name": "stdout",
     "output_type": "stream",
     "text": [
      "(5046, 9, 500)\n",
      "(5046,)\n",
      "(5033, 9, 500)\n",
      "(5033,)\n",
      "(5046, 9, 500)\n",
      "(5046,)\n",
      "(1428, 9, 500)\n",
      "(1428,)\n",
      "(1340, 9, 500)\n",
      "(1340,)\n"
     ]
    }
   ],
   "source": [
    "train_samples_2 = np.array(train_x2) \n",
    "train_labels2_2 = np.array(train_y2)\n",
    "print(train_samples_2.shape)\n",
    "print(train_labels2_2.shape)\n",
    "train_samples_3 = np.array(train_x3) \n",
    "train_labels2_3 = np.array(train_y3)\n",
    "print(train_samples_3.shape)\n",
    "print(train_labels2_3.shape)\n",
    "train_samples = np.array(train_x) \n",
    "train_labels2 = np.array(train_y)\n",
    "val_samples = np.array(val_x) \n",
    "val_labels2 = np.array(val_y)\n",
    "test_samples = np.array(test_x) \n",
    "test_labels2 = np.array(test_y)\n",
    "print(train_samples.shape)\n",
    "print(train_labels2.shape)\n",
    "print(val_samples.shape)\n",
    "print(val_labels2.shape)\n",
    "print(test_samples.shape)\n",
    "print(test_labels2.shape)\n",
    "train_samples = np.vstack((train_samples,train_samples_2, train_samples_3))\n",
    "train_labels2 = np.hstack((train_labels2, train_labels2_2, train_labels2_3))"
   ]
  },
  {
   "cell_type": "code",
   "execution_count": 152,
   "metadata": {},
   "outputs": [
    {
     "name": "stdout",
     "output_type": "stream",
     "text": [
      "(15125, 9, 500)\n",
      "(15125,)\n",
      "(1428, 9, 500)\n",
      "(1428,)\n",
      "(1340, 9, 500)\n",
      "(1340,)\n"
     ]
    }
   ],
   "source": [
    "print(train_samples.shape)\n",
    "print(train_labels2.shape)\n",
    "print(val_samples.shape)\n",
    "print(val_labels2.shape)\n",
    "print(test_samples.shape)\n",
    "print(test_labels2.shape)"
   ]
  },
  {
   "cell_type": "code",
   "execution_count": 153,
   "metadata": {},
   "outputs": [
    {
     "name": "stdout",
     "output_type": "stream",
     "text": [
      "(15125, 9, 500)\n",
      "(15125, 2)\n",
      "(1428, 9, 500)\n",
      "(1428, 2)\n",
      "(1340, 9, 500)\n",
      "(1340,)\n"
     ]
    }
   ],
   "source": [
    "#convert to one hot encoding\n",
    "from keras.utils  import to_categorical\n",
    "train_labels = to_categorical(train_labels2)\n",
    "train_labels.shape\n",
    "val_labels = to_categorical(val_labels2)\n",
    "val_labels.shape\n",
    "test_labels = to_categorical(test_labels2)\n",
    "test_labels.shape\n",
    "print(train_samples.shape)\n",
    "print(train_labels.shape)\n",
    "print(val_samples.shape)\n",
    "print(val_labels.shape)\n",
    "print(test_samples.shape)\n",
    "print(test_labels2.shape)"
   ]
  },
  {
   "cell_type": "code",
   "execution_count": 154,
   "metadata": {},
   "outputs": [],
   "source": [
    "#For CNN and BidirLSTM:\n",
    "number_of_samples = 500\n",
    "train_samples = train_samples.reshape((-1, 9,number_of_samples, 1))\n",
    "val_samples = val_samples.reshape((-1, 9,number_of_samples, 1))\n",
    "test_samples = test_samples.reshape((-1, 9,number_of_samples, 1))\n",
    "#For LSTM, uncomment these lines and comment above two lines\n",
    "#train_samples = train_samples.reshape((-1, number_of_samples, 9))\n",
    "#val_samples = val_samples.reshape((-1, number_of_samples, 9))\n",
    "\n",
    "#9 refers to 9 accelerometer channels"
   ]
  },
  {
   "cell_type": "code",
   "execution_count": 155,
   "metadata": {
    "colab": {},
    "colab_type": "code",
    "id": "wf8LuDxlUvpH"
   },
   "outputs": [
    {
     "name": "stdout",
     "output_type": "stream",
     "text": [
      "500\n",
      "9\n"
     ]
    }
   ],
   "source": [
    "batch_size = 64\n",
    "num_feat_map = 128\n",
    "num_hidden_lstm = 128\n",
    "num_classes = 2\n",
    "\n",
    "#Uncomment the classifier you are working with:\n",
    "#network_type = 'CNN'\n",
    "network_type = 'ConvLSTM'\n",
    "#network_type = 'LSTM'\n",
    "#for CNN/DCBL\n",
    "_, dim, win_len,_ = train_samples.shape\n",
    "#for LSTM uncomment the following line and comment above line\n",
    "#_, dim, win_len = train_samples.shape\n",
    "\n",
    "print(win_len)\n",
    "print(dim)"
   ]
  },
  {
   "cell_type": "code",
   "execution_count": 156,
   "metadata": {
    "colab": {},
    "colab_type": "code",
    "id": "fAQRf1DNUvpK"
   },
   "outputs": [
    {
     "name": "stdout",
     "output_type": "stream",
     "text": [
      "building the model ... \n",
      "ConvLSTM\n",
      "_________________________________________________________________\n",
      "Layer (type)                 Output Shape              Param #   \n",
      "=================================================================\n",
      "conv2d_49 (Conv2D)           (None, 9, 500, 128)       1408      \n",
      "_________________________________________________________________\n",
      "conv2d_50 (Conv2D)           (None, 9, 500, 128)       163968    \n",
      "_________________________________________________________________\n",
      "batch_normalization_33 (Batc (None, 9, 500, 128)       512       \n",
      "_________________________________________________________________\n",
      "conv2d_51 (Conv2D)           (None, 9, 500, 128)       163968    \n",
      "_________________________________________________________________\n",
      "batch_normalization_34 (Batc (None, 9, 500, 128)       512       \n",
      "_________________________________________________________________\n",
      "max_pooling2d_25 (MaxPooling (None, 9, 166, 128)       0         \n",
      "_________________________________________________________________\n",
      "conv2d_52 (Conv2D)           (None, 9, 166, 128)       163968    \n",
      "_________________________________________________________________\n",
      "conv2d_53 (Conv2D)           (None, 9, 166, 128)       163968    \n",
      "_________________________________________________________________\n",
      "batch_normalization_35 (Batc (None, 9, 166, 128)       512       \n",
      "_________________________________________________________________\n",
      "max_pooling2d_26 (MaxPooling (None, 9, 83, 128)        0         \n",
      "_________________________________________________________________\n",
      "dropout_17 (Dropout)         (None, 9, 83, 128)        0         \n",
      "_________________________________________________________________\n",
      "conv2d_54 (Conv2D)           (None, 9, 83, 128)        163968    \n",
      "_________________________________________________________________\n",
      "batch_normalization_36 (Batc (None, 9, 83, 128)        512       \n",
      "_________________________________________________________________\n",
      "max_pooling2d_27 (MaxPooling (None, 9, 41, 128)        0         \n",
      "_________________________________________________________________\n",
      "dropout_18 (Dropout)         (None, 9, 41, 128)        0         \n",
      "_________________________________________________________________\n",
      "permute_9 (Permute)          (None, 41, 9, 128)        0         \n",
      "_________________________________________________________________\n",
      "reshape_9 (Reshape)          (None, 41, 1152)          0         \n",
      "_________________________________________________________________\n",
      "bidirectional_9 (Bidirection (None, 256)               1311744   \n",
      "_________________________________________________________________\n",
      "dense_9 (Dense)              (None, 2)                 514       \n",
      "=================================================================\n",
      "Total params: 2,135,554\n",
      "Trainable params: 2,134,530\n",
      "Non-trainable params: 1,024\n",
      "_________________________________________________________________\n"
     ]
    }
   ],
   "source": [
    "p=0.5 #Dropout\n",
    "b = 1 #BatchNorm\n",
    "print('building the model ... ')\n",
    "model = Sequential()\n",
    "\n",
    "if network_type=='CNN' or network_type=='ConvLSTM':\n",
    "    model_conv(model, num_feat_map,p,b)\n",
    "    model_variant(model, num_feat_map, dim, network_type,p)\n",
    "if network_type=='LSTM':\n",
    "    model_LSTM(model,p)\n",
    "       \n",
    "model_output(model)    \n",
    "model.summary()"
   ]
  },
  {
   "cell_type": "code",
   "execution_count": 157,
   "metadata": {
    "colab": {},
    "colab_type": "code",
    "id": "wrNCEAD8UvpL"
   },
   "outputs": [],
   "source": [
    "X_train = train_samples\n",
    "y_train = train_labels\n",
    "X_val = val_samples\n",
    "y_val = val_labels\n",
    "X_test = test_samples\n",
    "y_test = test_labels"
   ]
  },
  {
   "cell_type": "code",
   "execution_count": 158,
   "metadata": {
    "colab": {},
    "colab_type": "code",
    "id": "tNsDOBNrUvpN"
   },
   "outputs": [
    {
     "name": "stdout",
     "output_type": "stream",
     "text": [
      "(15125, 9, 500, 1) (1428, 9, 500, 1) (1340, 9, 500, 1)\n"
     ]
    }
   ],
   "source": [
    "print(X_train.shape, X_val.shape, X_test.shape)"
   ]
  },
  {
   "cell_type": "code",
   "execution_count": 159,
   "metadata": {},
   "outputs": [],
   "source": [
    "y_true = np.argmax(y_test, axis=1)"
   ]
  },
  {
   "cell_type": "code",
   "execution_count": 3,
   "metadata": {
    "colab": {},
    "colab_type": "code",
    "id": "YpsJRPEfUvpP",
    "scrolled": true
   },
   "outputs": [],
   "source": [
    "epochs = 40\n",
    "\n",
    "model.compile(loss=keras.losses.categorical_crossentropy,\n",
    "              optimizer='adam',\n",
    "              metrics=['accuracy'])\n",
    "\n",
    "# checkpoint\n",
    "filepath=model_name\n",
    "#checkpoint = ModelCheckpoint(filepath, monitor='val_acc', verbose=1, save_best_only=True, mode='max')\n",
    "\n",
    "checkpoint = ModelCheckpoint(filepath, monitor='val_acc', verbose=1, save_best_only=True)\n",
    "\n",
    "checkpoint2 = monitor_Training()\n",
    "\n",
    "callbacks_list = [checkpoint, checkpoint2]\n",
    "\n",
    "H = model.fit(train_samples, train_labels,\n",
    "            batch_size=batch_size,\n",
    "            epochs=epochs,\n",
    "            verbose=1,\n",
    "            shuffle=True,\n",
    "            validation_data=(X_val, y_val),\n",
    "             callbacks=callbacks_list\n",
    "             )"
   ]
  },
  {
   "cell_type": "code",
   "execution_count": 161,
   "metadata": {
    "colab": {},
    "colab_type": "code",
    "id": "_ASUmtFSUvpQ"
   },
   "outputs": [],
   "source": [
    "history = H"
   ]
  },
  {
   "cell_type": "code",
   "execution_count": 162,
   "metadata": {
    "colab": {},
    "colab_type": "code",
    "id": "C6yi5aaJUvpS"
   },
   "outputs": [
    {
     "name": "stdout",
     "output_type": "stream",
     "text": [
      "29\n"
     ]
    },
    {
     "data": {
      "image/png": "[encoded data removed]",
      "text/plain": [
       "<Figure size 432x288 with 1 Axes>"
      ]
     },
     "metadata": {
      "needs_background": "light"
     },
     "output_type": "display_data"
    },
    {
     "name": "stdout",
     "output_type": "stream",
     "text": [
      "Maximum validation accuracy:  0.9292717085165136\n",
      "Training accuracy of best model:  0.9999338842975206\n"
     ]
    }
   ],
   "source": [
    "import matplotlib.pyplot as plt\n",
    "\n",
    "# Plot training & validation accuracy values\n",
    "plt.plot(history.history['acc'])\n",
    "plt.plot(history.history['val_acc'])\n",
    "print(np.argmax(np.array(history.history['val_acc'])))\n",
    "plt.title('Model accuracy')\n",
    "plt.ylabel('Accuracy')\n",
    "plt.xlabel('Epoch')\n",
    "plt.legend(['Train', 'Test'], loc='upper left')\n",
    "plt.show()\n",
    "print('Maximum validation accuracy: ',np.max(np.array(history.history['val_acc'])))\n",
    "print('Training accuracy of best model: ',np.array(history.history['acc'])[np.argmax(np.array(history.history['val_acc']))])\n"
   ]
  },
  {
   "cell_type": "code",
   "execution_count": 163,
   "metadata": {},
   "outputs": [
    {
     "name": "stdout",
     "output_type": "stream",
     "text": [
      "[[  77   39]\n",
      " [  17 1207]]\n",
      "the mean-f1 score: 0.85\n",
      "accuracy is: 0.96\n"
     ]
    }
   ],
   "source": [
    "model = load_model(model_name)\n",
    "y_pred = np.argmax(model.predict(X_test), axis=1)\n",
    "y_true = np.argmax(y_test, axis=1)\n",
    "cf_matrix = confusion_matrix(y_true, y_pred)\n",
    "print(cf_matrix)\n",
    "class_wise_f1 = np.round(f1_score(y_true, y_pred, average=None)*100)*0.01\n",
    "accuracy = accuracy_score(y_true, y_pred)\n",
    "\n",
    "\n",
    "print('the mean-f1 score: {:.2f}'.format(np.mean(class_wise_f1)))\n",
    "print('accuracy is: {:.2f}'.format(accuracy))\n"
   ]
  },
  {
   "cell_type": "code",
   "execution_count": 164,
   "metadata": {},
   "outputs": [
    {
     "name": "stdout",
     "output_type": "stream",
     "text": [
      "total_count of test files: 50\n",
      "correctly predicted test files: 47\n",
      "Percentage accuracy: 94.0\n",
      "total_count of train files: 187\n",
      "correctly predicted train files: 187\n",
      "Percentage accuracy: 100.0\n",
      "total_count of val files: 51\n",
      "correctly predicted val files: 47\n",
      "Percentage accuracy: 92.15686274509804\n"
     ]
    }
   ],
   "source": [
    "# Test data accuracy:\n",
    "total_count, correct_count = get_prediction_accuracy(data_dir_test, sub_dirs,pos_lab,neg_lab,labelfile,model)\n",
    "print('total_count of test files:', total_count)\n",
    "print('correctly predicted test files:', correct_count)\n",
    "print('Percentage accuracy:', (correct_count/total_count)*100.0)\n",
    "# Train accuracy\n",
    "total_count, correct_count = get_prediction_accuracy(data_dir_train, sub_dirs,pos_lab,neg_lab,labelfile,model)\n",
    "print('total_count of train files:', total_count)\n",
    "print('correctly predicted train files:', correct_count)\n",
    "print('Percentage accuracy:', (correct_count/total_count)*100.0)\n",
    "#val accuracy\n",
    "total_count, correct_count = get_prediction_accuracy(data_dir_val, sub_dirs,pos_lab,neg_lab,labelfile,model)\n",
    "print('total_count of val files:', total_count)\n",
    "print('correctly predicted val files:', correct_count)\n",
    "print('Percentage accuracy:', (correct_count/total_count)*100.0)"
   ]
  },
  {
   "cell_type": "code",
   "execution_count": 165,
   "metadata": {},
   "outputs": [],
   "source": [
    "del train_x, train_y, train_files, val_x, val_y, val_files, test_x, test_y,test_files\n",
    "del train_x2, train_y2, all_counts\n",
    "del train_x3, train_y3"
   ]
  },
  {
   "cell_type": "markdown",
   "metadata": {},
   "source": [
    "other"
   ]
  },
  {
   "cell_type": "code",
   "execution_count": 166,
   "metadata": {},
   "outputs": [],
   "source": [
    "data_dir_train='data_m_other_TTV/train'\n",
    "data_dir_val= 'data_m_other_TTV/val'\n",
    "data_dir_test='data_m_other_TTV/test'\n",
    "pos_lab = 'other'\n",
    "neg_lab = 'No'\n",
    "labelfile = 'Labelother.csv'\n",
    "model_name = \"DCBL_micro_other_jitter.hdf5\""
   ]
  },
  {
   "cell_type": "code",
   "execution_count": 167,
   "metadata": {
    "colab": {},
    "colab_type": "code",
    "id": "FEYY86nqUvoy",
    "scrolled": false
   },
   "outputs": [],
   "source": [
    "#receive windowed training and validation data\n",
    "train_x, train_y, train_files = get_train_data(data_dir_train,sub_dirs,pos_lab,neg_lab,labelfile)\n",
    "val_x, val_y, val_files = get_train_data(data_dir_val,sub_dirs,pos_lab,neg_lab,labelfile)\n",
    "test_x, test_y, test_files = get_train_data(data_dir_test,sub_dirs,pos_lab,neg_lab,labelfile)\n",
    "train_x2, train_y2, all_counts = get_train_data_2(data_dir_train,sub_dirs,pos_lab,neg_lab,labelfile)\n",
    "train_x3, train_y3, all_counts = get_train_data_3(data_dir_train,sub_dirs,pos_lab,neg_lab,labelfile)"
   ]
  },
  {
   "cell_type": "code",
   "execution_count": 168,
   "metadata": {
    "colab": {},
    "colab_type": "code",
    "id": "u2w_y9dmUvo1"
   },
   "outputs": [
    {
     "name": "stdout",
     "output_type": "stream",
     "text": [
      "(5107, 9, 500)\n",
      "(5107,)\n",
      "(5103, 9, 500)\n",
      "(5103,)\n",
      "(5107, 9, 500)\n",
      "(5107,)\n",
      "(1373, 9, 500)\n",
      "(1373,)\n",
      "(1334, 9, 500)\n",
      "(1334,)\n"
     ]
    }
   ],
   "source": [
    "train_samples_2 = np.array(train_x2) \n",
    "train_labels2_2 = np.array(train_y2)\n",
    "print(train_samples_2.shape)\n",
    "print(train_labels2_2.shape)\n",
    "train_samples_3 = np.array(train_x3) \n",
    "train_labels2_3 = np.array(train_y3)\n",
    "print(train_samples_3.shape)\n",
    "print(train_labels2_3.shape)\n",
    "train_samples = np.array(train_x) \n",
    "train_labels2 = np.array(train_y)\n",
    "val_samples = np.array(val_x) \n",
    "val_labels2 = np.array(val_y)\n",
    "test_samples = np.array(test_x) \n",
    "test_labels2 = np.array(test_y)\n",
    "print(train_samples.shape)\n",
    "print(train_labels2.shape)\n",
    "print(val_samples.shape)\n",
    "print(val_labels2.shape)\n",
    "print(test_samples.shape)\n",
    "print(test_labels2.shape)\n",
    "train_samples = np.vstack((train_samples,train_samples_2, train_samples_3))\n",
    "train_labels2 = np.hstack((train_labels2, train_labels2_2, train_labels2_3))"
   ]
  },
  {
   "cell_type": "code",
   "execution_count": 169,
   "metadata": {},
   "outputs": [
    {
     "name": "stdout",
     "output_type": "stream",
     "text": [
      "(15317, 9, 500)\n",
      "(15317,)\n",
      "(1373, 9, 500)\n",
      "(1373,)\n",
      "(1334, 9, 500)\n",
      "(1334,)\n"
     ]
    }
   ],
   "source": [
    "print(train_samples.shape)\n",
    "print(train_labels2.shape)\n",
    "print(val_samples.shape)\n",
    "print(val_labels2.shape)\n",
    "print(test_samples.shape)\n",
    "print(test_labels2.shape)"
   ]
  },
  {
   "cell_type": "code",
   "execution_count": 170,
   "metadata": {},
   "outputs": [
    {
     "name": "stdout",
     "output_type": "stream",
     "text": [
      "(15317, 9, 500)\n",
      "(15317, 2)\n",
      "(1373, 9, 500)\n",
      "(1373, 2)\n",
      "(1334, 9, 500)\n",
      "(1334,)\n"
     ]
    }
   ],
   "source": [
    "#convert to one hot encoding\n",
    "from keras.utils  import to_categorical\n",
    "train_labels = to_categorical(train_labels2)\n",
    "train_labels.shape\n",
    "val_labels = to_categorical(val_labels2)\n",
    "val_labels.shape\n",
    "test_labels = to_categorical(test_labels2)\n",
    "test_labels.shape\n",
    "print(train_samples.shape)\n",
    "print(train_labels.shape)\n",
    "print(val_samples.shape)\n",
    "print(val_labels.shape)\n",
    "print(test_samples.shape)\n",
    "print(test_labels2.shape)"
   ]
  },
  {
   "cell_type": "code",
   "execution_count": 171,
   "metadata": {},
   "outputs": [],
   "source": [
    "#For CNN and BidirLSTM:\n",
    "number_of_samples = 500\n",
    "train_samples = train_samples.reshape((-1, 9,number_of_samples, 1))\n",
    "val_samples = val_samples.reshape((-1, 9,number_of_samples, 1))\n",
    "test_samples = test_samples.reshape((-1, 9,number_of_samples, 1))\n",
    "#For LSTM, uncomment these lines and comment above two lines\n",
    "#train_samples = train_samples.reshape((-1, number_of_samples, 9))\n",
    "#val_samples = val_samples.reshape((-1, number_of_samples, 9))\n",
    "\n",
    "#9 refers to 9 accelerometer channels"
   ]
  },
  {
   "cell_type": "code",
   "execution_count": 172,
   "metadata": {
    "colab": {},
    "colab_type": "code",
    "id": "wf8LuDxlUvpH"
   },
   "outputs": [
    {
     "name": "stdout",
     "output_type": "stream",
     "text": [
      "500\n",
      "9\n"
     ]
    }
   ],
   "source": [
    "batch_size = 64\n",
    "num_feat_map = 128\n",
    "num_hidden_lstm = 128\n",
    "num_classes = 2\n",
    "\n",
    "#Uncomment the classifier you are working with:\n",
    "#network_type = 'CNN'\n",
    "network_type = 'ConvLSTM'\n",
    "#network_type = 'LSTM'\n",
    "#for CNN/DCBL\n",
    "_, dim, win_len,_ = train_samples.shape\n",
    "#for LSTM uncomment the following line and comment above line\n",
    "#_, dim, win_len = train_samples.shape\n",
    "\n",
    "print(win_len)\n",
    "print(dim)"
   ]
  },
  {
   "cell_type": "code",
   "execution_count": 173,
   "metadata": {
    "colab": {},
    "colab_type": "code",
    "id": "fAQRf1DNUvpK"
   },
   "outputs": [
    {
     "name": "stdout",
     "output_type": "stream",
     "text": [
      "building the model ... \n",
      "ConvLSTM\n",
      "_________________________________________________________________\n",
      "Layer (type)                 Output Shape              Param #   \n",
      "=================================================================\n",
      "conv2d_55 (Conv2D)           (None, 9, 500, 128)       1408      \n",
      "_________________________________________________________________\n",
      "conv2d_56 (Conv2D)           (None, 9, 500, 128)       163968    \n",
      "_________________________________________________________________\n",
      "batch_normalization_37 (Batc (None, 9, 500, 128)       512       \n",
      "_________________________________________________________________\n",
      "conv2d_57 (Conv2D)           (None, 9, 500, 128)       163968    \n",
      "_________________________________________________________________\n",
      "batch_normalization_38 (Batc (None, 9, 500, 128)       512       \n",
      "_________________________________________________________________\n",
      "max_pooling2d_28 (MaxPooling (None, 9, 166, 128)       0         \n",
      "_________________________________________________________________\n",
      "conv2d_58 (Conv2D)           (None, 9, 166, 128)       163968    \n",
      "_________________________________________________________________\n",
      "conv2d_59 (Conv2D)           (None, 9, 166, 128)       163968    \n",
      "_________________________________________________________________\n",
      "batch_normalization_39 (Batc (None, 9, 166, 128)       512       \n",
      "_________________________________________________________________\n",
      "max_pooling2d_29 (MaxPooling (None, 9, 83, 128)        0         \n",
      "_________________________________________________________________\n",
      "dropout_19 (Dropout)         (None, 9, 83, 128)        0         \n",
      "_________________________________________________________________\n",
      "conv2d_60 (Conv2D)           (None, 9, 83, 128)        163968    \n",
      "_________________________________________________________________\n",
      "batch_normalization_40 (Batc (None, 9, 83, 128)        512       \n",
      "_________________________________________________________________\n",
      "max_pooling2d_30 (MaxPooling (None, 9, 41, 128)        0         \n",
      "_________________________________________________________________\n",
      "dropout_20 (Dropout)         (None, 9, 41, 128)        0         \n",
      "_________________________________________________________________\n",
      "permute_10 (Permute)         (None, 41, 9, 128)        0         \n",
      "_________________________________________________________________\n",
      "reshape_10 (Reshape)         (None, 41, 1152)          0         \n",
      "_________________________________________________________________\n",
      "bidirectional_10 (Bidirectio (None, 256)               1311744   \n",
      "_________________________________________________________________\n",
      "dense_10 (Dense)             (None, 2)                 514       \n",
      "=================================================================\n",
      "Total params: 2,135,554\n",
      "Trainable params: 2,134,530\n",
      "Non-trainable params: 1,024\n",
      "_________________________________________________________________\n"
     ]
    }
   ],
   "source": [
    "p=0.5 #Dropout\n",
    "b = 1 #BatchNorm\n",
    "print('building the model ... ')\n",
    "model = Sequential()\n",
    "\n",
    "if network_type=='CNN' or network_type=='ConvLSTM':\n",
    "    model_conv(model, num_feat_map,p,b)\n",
    "    model_variant(model, num_feat_map, dim, network_type,p)\n",
    "if network_type=='LSTM':\n",
    "    model_LSTM(model,p)\n",
    "       \n",
    "model_output(model)    \n",
    "model.summary()"
   ]
  },
  {
   "cell_type": "code",
   "execution_count": 174,
   "metadata": {
    "colab": {},
    "colab_type": "code",
    "id": "wrNCEAD8UvpL"
   },
   "outputs": [],
   "source": [
    "X_train = train_samples\n",
    "y_train = train_labels\n",
    "X_val = val_samples\n",
    "y_val = val_labels\n",
    "X_test = test_samples\n",
    "y_test = test_labels"
   ]
  },
  {
   "cell_type": "code",
   "execution_count": 175,
   "metadata": {
    "colab": {},
    "colab_type": "code",
    "id": "tNsDOBNrUvpN"
   },
   "outputs": [
    {
     "name": "stdout",
     "output_type": "stream",
     "text": [
      "(15317, 9, 500, 1) (1373, 9, 500, 1) (1334, 9, 500, 1)\n"
     ]
    }
   ],
   "source": [
    "print(X_train.shape, X_val.shape, X_test.shape)"
   ]
  },
  {
   "cell_type": "code",
   "execution_count": 176,
   "metadata": {},
   "outputs": [],
   "source": [
    "y_true = np.argmax(y_test, axis=1)"
   ]
  },
  {
   "cell_type": "code",
   "execution_count": 2,
   "metadata": {
    "colab": {},
    "colab_type": "code",
    "id": "YpsJRPEfUvpP",
    "scrolled": true
   },
   "outputs": [],
   "source": [
    "epochs = 40\n",
    "\n",
    "model.compile(loss=keras.losses.categorical_crossentropy,\n",
    "              optimizer='adam',\n",
    "              metrics=['accuracy'])\n",
    "\n",
    "# checkpoint\n",
    "filepath=model_name\n",
    "#checkpoint = ModelCheckpoint(filepath, monitor='val_acc', verbose=1, save_best_only=True, mode='max')\n",
    "\n",
    "checkpoint = ModelCheckpoint(filepath, monitor='val_acc', verbose=1, save_best_only=True)\n",
    "\n",
    "checkpoint2 = monitor_Training()\n",
    "\n",
    "callbacks_list = [checkpoint, checkpoint2]\n",
    "\n",
    "H = model.fit(train_samples, train_labels,\n",
    "            batch_size=batch_size,\n",
    "            epochs=epochs,\n",
    "            verbose=1,\n",
    "            shuffle=True,\n",
    "            validation_data=(X_val, y_val),\n",
    "             callbacks=callbacks_list\n",
    "             )"
   ]
  },
  {
   "cell_type": "code",
   "execution_count": 178,
   "metadata": {
    "colab": {},
    "colab_type": "code",
    "id": "_ASUmtFSUvpQ"
   },
   "outputs": [],
   "source": [
    "history = H"
   ]
  },
  {
   "cell_type": "code",
   "execution_count": 179,
   "metadata": {
    "colab": {},
    "colab_type": "code",
    "id": "C6yi5aaJUvpS"
   },
   "outputs": [
    {
     "name": "stdout",
     "output_type": "stream",
     "text": [
      "7\n"
     ]
    },
    {
     "data": {
      "image/png": "[encoded data removed]",
      "text/plain": [
       "<Figure size 432x288 with 1 Axes>"
      ]
     },
     "metadata": {
      "needs_background": "light"
     },
     "output_type": "display_data"
    },
    {
     "name": "stdout",
     "output_type": "stream",
     "text": [
      "Maximum validation accuracy:  0.7989803346420672\n",
      "Training accuracy of best model:  0.9952993406019456\n"
     ]
    }
   ],
   "source": [
    "import matplotlib.pyplot as plt\n",
    "\n",
    "# Plot training & validation accuracy values\n",
    "plt.plot(history.history['acc'])\n",
    "plt.plot(history.history['val_acc'])\n",
    "print(np.argmax(np.array(history.history['val_acc'])))\n",
    "plt.title('Model accuracy')\n",
    "plt.ylabel('Accuracy')\n",
    "plt.xlabel('Epoch')\n",
    "plt.legend(['Train', 'Test'], loc='upper left')\n",
    "plt.show()\n",
    "print('Maximum validation accuracy: ',np.max(np.array(history.history['val_acc'])))\n",
    "print('Training accuracy of best model: ',np.array(history.history['acc'])[np.argmax(np.array(history.history['val_acc']))])\n"
   ]
  },
  {
   "cell_type": "code",
   "execution_count": 180,
   "metadata": {},
   "outputs": [
    {
     "name": "stdout",
     "output_type": "stream",
     "text": [
      "[[250  98]\n",
      " [115 871]]\n",
      "the mean-f1 score: 0.80\n",
      "accuracy is: 0.84\n"
     ]
    }
   ],
   "source": [
    "model = load_model(model_name)\n",
    "y_pred = np.argmax(model.predict(X_test), axis=1)\n",
    "y_true = np.argmax(y_test, axis=1)\n",
    "cf_matrix = confusion_matrix(y_true, y_pred)\n",
    "print(cf_matrix)\n",
    "class_wise_f1 = np.round(f1_score(y_true, y_pred, average=None)*100)*0.01\n",
    "accuracy = accuracy_score(y_true, y_pred)\n",
    "\n",
    "\n",
    "print('the mean-f1 score: {:.2f}'.format(np.mean(class_wise_f1)))\n",
    "print('accuracy is: {:.2f}'.format(accuracy))\n"
   ]
  },
  {
   "cell_type": "code",
   "execution_count": 181,
   "metadata": {},
   "outputs": [
    {
     "name": "stdout",
     "output_type": "stream",
     "text": [
      "total_count of test files: 50\n",
      "correctly predicted test files: 44\n",
      "Percentage accuracy: 88.0\n",
      "total_count of train files: 188\n",
      "correctly predicted train files: 186\n",
      "Percentage accuracy: 98.93617021276596\n",
      "total_count of val files: 50\n",
      "correctly predicted val files: 43\n",
      "Percentage accuracy: 86.0\n"
     ]
    }
   ],
   "source": [
    "# Test data accuracy:\n",
    "total_count, correct_count = get_prediction_accuracy(data_dir_test, sub_dirs,pos_lab,neg_lab,labelfile,model)\n",
    "print('total_count of test files:', total_count)\n",
    "print('correctly predicted test files:', correct_count)\n",
    "print('Percentage accuracy:', (correct_count/total_count)*100.0)\n",
    "# Train accuracy\n",
    "total_count, correct_count = get_prediction_accuracy(data_dir_train, sub_dirs,pos_lab,neg_lab,labelfile,model)\n",
    "print('total_count of train files:', total_count)\n",
    "print('correctly predicted train files:', correct_count)\n",
    "print('Percentage accuracy:', (correct_count/total_count)*100.0)\n",
    "#val accuracy\n",
    "total_count, correct_count = get_prediction_accuracy(data_dir_val, sub_dirs,pos_lab,neg_lab,labelfile,model)\n",
    "print('total_count of val files:', total_count)\n",
    "print('correctly predicted val files:', correct_count)\n",
    "print('Percentage accuracy:', (correct_count/total_count)*100.0)"
   ]
  },
  {
   "cell_type": "code",
   "execution_count": 182,
   "metadata": {},
   "outputs": [],
   "source": [
    "del train_x, train_y, train_files, val_x, val_y, val_files, test_x, test_y,test_files\n",
    "del train_x2, train_y2, all_counts\n",
    "del train_x3, train_y3"
   ]
  },
  {
   "cell_type": "code",
   "execution_count": 199,
   "metadata": {},
   "outputs": [],
   "source": [
    "data_dir_test='test_micro_ov/'\n",
    "labelfile = 'LabelTable.csv'"
   ]
  },
  {
   "cell_type": "code",
   "execution_count": 200,
   "metadata": {},
   "outputs": [],
   "source": [
    "modelcut = load_model('DCBL_micro_Cut_jitter.hdf5')\n",
    "modelwash = load_model('DCBL_micro_Wash_jitter.hdf5')\n",
    "modeltake = load_model('DCBL_micro_Take_jitter.hdf5')\n",
    "modelput = load_model('DCBL_micro_Put_jitter.hdf5')\n",
    "modelpeel = load_model('DCBL_micro_Peel_jitter.hdf5')\n",
    "modeladd = load_model('DCBL_micro_ADD_jitter.hdf5')\n",
    "modelmix = load_model('DCBL_micro_Mix_jitter.hdf5')\n",
    "modelpour = load_model('DCBL_micro_Pour_jitter.hdf5')\n",
    "modelopen = load_model('DCBL_micro_Open_jitter.hdf5')\n",
    "modelother = load_model('DCBL_micro_other_jitter.hdf5')\n"
   ]
  },
  {
   "cell_type": "code",
   "execution_count": 211,
   "metadata": {},
   "outputs": [],
   "source": [
    "def get_test_prediction_accuracy(data_dir, sub_dirs,labelfile,modelcut,modelwash,modeltake,modelput,modelpeel,modeladd,modelmix,modelpour,modelopen,modelother):\n",
    "\n",
    "    files = os.listdir(data_dir+'/left_hip')\n",
    "    number_of_samples = 500\n",
    "\n",
    "    labels_micro =dict()\n",
    "    \n",
    "    labels_micro['Cut'] = 0\n",
    "    labels_micro['Wash'] = 1\n",
    "    labels_micro['Take'] = 2\n",
    "    labels_micro['Put'] = 3\n",
    "    labels_micro['Peel'] = 4\n",
    "    labels_micro['Add'] = 5\n",
    "    labels_micro['Mix'] = 6\n",
    "    labels_micro['Pour'] = 7\n",
    "    labels_micro['Open'] = 8\n",
    "    labels_micro['other'] = 9 \n",
    "    \n",
    "    \n",
    "    #read the labels\n",
    "    labels_loc = labelfile\n",
    "    file_label = open(labels_loc, newline='')\n",
    "    label_reader = csv.reader(file_label)\n",
    "    file_label_mapping = dict()\n",
    "    \n",
    "    for row in label_reader:\n",
    "        label = row[2].split(',')\n",
    "        \n",
    "        label_file_micro = [0]*10\n",
    "        for lab in label:\n",
    "            if lab!='' and lab !='micro':\n",
    "                label_file_micro[labels_micro[lab]] = 1\n",
    "                \n",
    "        \n",
    "        file_label_mapping[row[0]+'.csv'] = label_file_micro\n",
    "\n",
    "\n",
    "    total_count = 0\n",
    "    correct_count = 0\n",
    "\n",
    "    for f in files:\n",
    "\n",
    "        file_data = []\n",
    "        file_label = []\n",
    "\n",
    "        st_index = 0\n",
    "        end_index = 30000\n",
    "        step = 1000 #overlapping window, step: 1000. \n",
    "        window_index = 10000 #10 second window\n",
    "\n",
    "        #print('reading file:',f)\n",
    "        f_name = f\n",
    "\n",
    "        if f_name == '.DS_Store':\n",
    "            continue\n",
    "\n",
    "        total_count = total_count+1\n",
    "\n",
    "        curr_label_file = file_label_mapping[f_name]\n",
    "\n",
    "        while st_index+step < end_index:\n",
    "\n",
    "            data, data_count = parse_IMU_files(data_dir, sub_dirs, st_index, st_index+window_index,  f, number_of_samples)\n",
    "            st_index = st_index+step\n",
    "\n",
    "            if data_count<data_min_count:\n",
    "                continue\n",
    "\n",
    "            train_data_sample  = np.zeros((9, number_of_samples))\n",
    "            train_data_label   = curr_label_file\n",
    "            for i in range(len(data)):\n",
    "                for j in range(len(data[i])):\n",
    "                    train_data_sample[i*3,j]=data[i][j][0]\n",
    "                    train_data_sample[i*3+1,j]=data[i][j][1]\n",
    "                    train_data_sample[i*3+2,j]=data[i][j][2]\n",
    "\n",
    "            file_data.append(train_data_sample)\n",
    "            #file_label.append(train_data_label)\n",
    "\n",
    "        file_data = np.array(file_data)\n",
    "        file_label = curr_label_file\n",
    "\n",
    "        file_data = file_data.reshape((-1, 9,500, 1))\n",
    "\n",
    "        #y_pred = np.argmax(model.predict(file_data), axis=1) \n",
    "        \n",
    "        y_pred_cut = modelcut.predict(file_data)\n",
    "     \n",
    "        y_pred_wash = modelwash.predict(file_data)\n",
    "\n",
    "        y_pred_take = modeltake.predict(file_data)\n",
    "\n",
    "        y_pred_put = modelput.predict(file_data)\n",
    "\n",
    "        y_pred_peel = modelpeel.predict(file_data)\n",
    "  \n",
    "        y_pred_add = modeladd.predict(file_data)\n",
    " \n",
    "        y_pred_mix = modelmix.predict(file_data)\n",
    "    \n",
    "        y_pred_pour = modelpour.predict(file_data)\n",
    "  \n",
    "        y_pred_open = modelopen.predict(file_data)\n",
    "    \n",
    "        y_pred_other = modelother.predict(file_data)\n",
    "\n",
    "\n",
    "        \n",
    "        y_pred = np.zeros((file_data.shape[0],10))\n",
    "        \n",
    "        for j in range(0,y_pred.shape[0]):\n",
    "            if(y_pred_cut[j,0]>=y_pred_cut[j,1]):\n",
    "                y_pred[j,0] = 1\n",
    "            if(y_pred_wash[j,0]>=y_pred_wash[j,1]):\n",
    "                y_pred[j,1] = 1\n",
    "            if(y_pred_take[j,0]>=y_pred_take[j,1]):\n",
    "                y_pred[j,2] = 1\n",
    "            if(y_pred_put[j,0]>=y_pred_put[j,1]):\n",
    "                y_pred[j,3] = 1\n",
    "            if(y_pred_peel[j,0]>=y_pred_peel[j,1]):\n",
    "                y_pred[j,4] = 1\n",
    "            if(y_pred_add[j,0]>=y_pred_add[j,1]):\n",
    "                y_pred[j,5] = 1\n",
    "            if(y_pred_mix[j,0]>=y_pred_mix[j,1]):\n",
    "                y_pred[j,6] = 1\n",
    "            if(y_pred_pour[j,0]>=y_pred_pour[j,1]):\n",
    "                y_pred[j,7] = 1\n",
    "            if(y_pred_open[j,0]>=y_pred_open[j,1]):\n",
    "                y_pred[j,8] = 1\n",
    "            if(y_pred_other[j,0]>=y_pred_other[j,1]):\n",
    "                y_pred[j,9] = 1\n",
    "        \n",
    "        #print(y_pred.shape)\n",
    "        \n",
    "        #print(y_pred)\n",
    "        #y_pred = np.where(y_pred > 0, 1, 0)\n",
    "        \n",
    "        loc_arr = np.array([0, 0, 0, 0, 0, 0, 0, 0, 0, 0])\n",
    "        \n",
    "        \n",
    "        for i in range(y_pred.shape[0]):\n",
    "            loc_arr = loc_arr + y_pred[i]\n",
    "        \n",
    "        \n",
    "        loc_arr = loc_arr/y_pred.shape[0]\n",
    "        \n",
    "        max_val = loc_arr.max()\n",
    "        \n",
    "        loc_arr = np.where(loc_arr > max_val/3.0, 1, 0)\n",
    "        \n",
    "        #print(loc_arr)\n",
    "        \n",
    "        file_label = np.array(file_label)\n",
    "        \n",
    "        #print(file_label)\n",
    "\n",
    "        #correct prediction\n",
    "        \n",
    "        if np.array_equal(file_label, loc_arr):\n",
    "            correct_count = correct_count+1\n",
    "        \n",
    "        #print('*'*10)\n",
    "        #break\n",
    "    \n",
    "    return total_count, correct_count"
   ]
  },
  {
   "cell_type": "code",
   "execution_count": 1,
   "metadata": {},
   "outputs": [],
   "source": [
    "\n",
    "# Test data accuracy:\n",
    "total_count, correct_count = get_test_prediction_accuracy(data_dir_test, sub_dirs,labelfile,modelcut,modelwash,modeltake,modelput,modelpeel,modeladd,modelmix,modelpour,modelopen,modelother)\n",
    "print('total_count of test files:', total_count)\n",
    "print('correctly predicted test files:', correct_count)\n",
    "print('Percentage accuracy:', (correct_count/total_count)*100.0)"
   ]
  },
  {
   "cell_type": "code",
   "execution_count": null,
   "metadata": {},
   "outputs": [],
   "source": []
  }
 ],
 "metadata": {
  "colab": {
   "collapsed_sections": [],
   "name": "Macro-Activity",
   "provenance": []
  },
  "kernelspec": {
   "display_name": "Python 3",
   "language": "python",
   "name": "python3"
  },
  "language_info": {
   "codemirror_mode": {
    "name": "ipython",
    "version": 3
   },
   "file_extension": ".py",
   "mimetype": "text/x-python",
   "name": "python",
   "nbconvert_exporter": "python",
   "pygments_lexer": "ipython3",
   "version": "3.6.12"
  }
 },
 "nbformat": 4,
 "nbformat_minor": 1
}
